{
 "cells": [
  {
   "cell_type": "code",
   "execution_count": 3,
   "metadata": {},
   "outputs": [
    {
     "name": "stdout",
     "output_type": "stream",
     "text": [
      "nvcc: NVIDIA (R) Cuda compiler driver\n",
      "Copyright (c) 2005-2023 NVIDIA Corporation\n",
      "Built on Fri_Jan__6_16:45:21_PST_2023\n",
      "Cuda compilation tools, release 12.0, V12.0.140\n",
      "Build cuda_12.0.r12.0/compiler.32267302_0\n"
     ]
    }
   ],
   "source": [
    "!nvcc --version\n"
   ]
  },
  {
   "cell_type": "code",
   "execution_count": 4,
   "metadata": {},
   "outputs": [
    {
     "name": "stdout",
     "output_type": "stream",
     "text": [
      "Collecting cupy-cuda12x\n",
      "  Downloading cupy_cuda12x-13.4.0-cp312-cp312-manylinux2014_x86_64.whl.metadata (2.6 kB)\n",
      "Requirement already satisfied: numpy<2.3,>=1.22 in /home/admincit/Desktop/Team_4/.venv/lib/python3.12/site-packages (from cupy-cuda12x) (2.1.0)\n",
      "Collecting fastrlock>=0.5 (from cupy-cuda12x)\n",
      "  Using cached fastrlock-0.8.3-cp312-cp312-manylinux_2_5_x86_64.manylinux1_x86_64.manylinux_2_28_x86_64.whl.metadata (7.7 kB)\n",
      "Downloading cupy_cuda12x-13.4.0-cp312-cp312-manylinux2014_x86_64.whl (105.3 MB)\n",
      "\u001b[2K   \u001b[90m━━━━━━━━━━━━━━━━━━━━━━━━━━━━━━━━━━━━━━━━\u001b[0m \u001b[32m105.3/105.3 MB\u001b[0m \u001b[31m9.0 MB/s\u001b[0m eta \u001b[36m0:00:00\u001b[0m00:01\u001b[0m00:01\u001b[0m\n",
      "\u001b[?25hUsing cached fastrlock-0.8.3-cp312-cp312-manylinux_2_5_x86_64.manylinux1_x86_64.manylinux_2_28_x86_64.whl (53 kB)\n",
      "Installing collected packages: fastrlock, cupy-cuda12x\n",
      "Successfully installed cupy-cuda12x-13.4.0 fastrlock-0.8.3\n",
      "Note: you may need to restart the kernel to use updated packages.\n"
     ]
    }
   ],
   "source": [
    "pip install cupy-cuda12x"
   ]
  },
  {
   "cell_type": "code",
   "execution_count": 3,
   "metadata": {},
   "outputs": [
    {
     "name": "stdout",
     "output_type": "stream",
     "text": [
      "Collecting cudf-cu12\n",
      "  Downloading cudf_cu12-25.2.2-cp312-cp312-manylinux_2_24_x86_64.manylinux_2_28_x86_64.whl.metadata (6.2 kB)\n",
      "Collecting cachetools (from cudf-cu12)\n",
      "  Using cached cachetools-5.5.2-py3-none-any.whl.metadata (5.4 kB)\n",
      "Collecting cuda-python<13.0a0,>=12.6.2 (from cudf-cu12)\n",
      "  Downloading cuda_python-12.8.0-py3-none-any.whl.metadata (15 kB)\n",
      "Requirement already satisfied: cupy-cuda12x>=12.0.0 in /home/admincit/Desktop/Team_4/.venv/lib/python3.12/site-packages (from cudf-cu12) (13.4.0)\n",
      "Collecting fsspec>=0.6.0 (from cudf-cu12)\n",
      "  Using cached fsspec-2025.3.0-py3-none-any.whl.metadata (11 kB)\n",
      "Collecting libcudf-cu12==25.2.* (from cudf-cu12)\n",
      "  Downloading libcudf_cu12-25.2.2-py3-none-manylinux_2_28_x86_64.whl.metadata (4.1 kB)\n",
      "Collecting numba-cuda<0.3.0a0,>=0.2.0 (from cudf-cu12)\n",
      "  Downloading numba_cuda-0.2.0-py3-none-any.whl.metadata (1.5 kB)\n",
      "Collecting numba<0.61.0a0,>=0.59.1 (from cudf-cu12)\n",
      "  Downloading numba-0.60.0-cp312-cp312-manylinux2014_x86_64.manylinux_2_17_x86_64.whl.metadata (2.7 kB)\n",
      "Requirement already satisfied: numpy<3.0a0,>=1.23 in /home/admincit/Desktop/Team_4/.venv/lib/python3.12/site-packages (from cudf-cu12) (2.1.0)\n",
      "Collecting nvtx>=0.2.1 (from cudf-cu12)\n",
      "  Downloading nvtx-0.2.11-cp312-cp312-manylinux_2_17_x86_64.manylinux2014_x86_64.whl.metadata (2.2 kB)\n",
      "Requirement already satisfied: packaging in /home/admincit/Desktop/Team_4/.venv/lib/python3.12/site-packages (from cudf-cu12) (24.2)\n",
      "Requirement already satisfied: pandas<2.2.4dev0,>=2.0 in /home/admincit/Desktop/Team_4/.venv/lib/python3.12/site-packages (from cudf-cu12) (2.2.3)\n",
      "Collecting pyarrow<20.0.0a0,>=14.0.0 (from cudf-cu12)\n",
      "  Downloading pyarrow-19.0.1-cp312-cp312-manylinux_2_28_x86_64.whl.metadata (3.3 kB)\n",
      "Collecting pylibcudf-cu12==25.2.* (from cudf-cu12)\n",
      "  Downloading pylibcudf_cu12-25.2.2-cp312-cp312-manylinux_2_24_x86_64.manylinux_2_28_x86_64.whl.metadata (4.9 kB)\n",
      "Collecting pynvjitlink-cu12 (from cudf-cu12)\n",
      "  Downloading pynvjitlink_cu12-0.5.2-cp312-cp312-manylinux_2_27_x86_64.manylinux_2_28_x86_64.whl.metadata (1.5 kB)\n",
      "Collecting rich (from cudf-cu12)\n",
      "  Using cached rich-13.9.4-py3-none-any.whl.metadata (18 kB)\n",
      "Collecting rmm-cu12==25.2.* (from cudf-cu12)\n",
      "  Downloading rmm_cu12-25.2.0-cp312-cp312-manylinux_2_24_x86_64.manylinux_2_28_x86_64.whl.metadata (42 kB)\n",
      "Requirement already satisfied: typing_extensions>=4.0.0 in /home/admincit/Desktop/Team_4/.venv/lib/python3.12/site-packages (from cudf-cu12) (4.12.2)\n",
      "Collecting libkvikio-cu12==25.2.* (from libcudf-cu12==25.2.*->cudf-cu12)\n",
      "  Downloading libkvikio_cu12-25.2.1-py3-none-manylinux_2_28_x86_64.whl.metadata (3.7 kB)\n",
      "Collecting nvidia-nvcomp-cu12==4.2.0.11 (from libcudf-cu12==25.2.*->cudf-cu12)\n",
      "  Downloading nvidia_nvcomp_cu12-4.2.0.11-py3-none-manylinux_2_28_x86_64.whl.metadata (863 bytes)\n",
      "Collecting cuda-bindings~=12.8.0 (from cuda-python<13.0a0,>=12.6.2->cudf-cu12)\n",
      "  Downloading cuda_bindings-12.8.0-cp312-cp312-manylinux_2_17_x86_64.manylinux2014_x86_64.whl.metadata (13 kB)\n",
      "Requirement already satisfied: fastrlock>=0.5 in /home/admincit/Desktop/Team_4/.venv/lib/python3.12/site-packages (from cupy-cuda12x>=12.0.0->cudf-cu12) (0.8.3)\n",
      "Collecting llvmlite<0.44,>=0.43.0dev0 (from numba<0.61.0a0,>=0.59.1->cudf-cu12)\n",
      "  Downloading llvmlite-0.43.0-cp312-cp312-manylinux_2_17_x86_64.manylinux2014_x86_64.whl.metadata (4.8 kB)\n",
      "Collecting numpy<3.0a0,>=1.23 (from cudf-cu12)\n",
      "  Downloading numpy-2.0.2-cp312-cp312-manylinux_2_17_x86_64.manylinux2014_x86_64.whl.metadata (60 kB)\n",
      "Requirement already satisfied: python-dateutil>=2.8.2 in /home/admincit/Desktop/Team_4/.venv/lib/python3.12/site-packages (from pandas<2.2.4dev0,>=2.0->cudf-cu12) (2.9.0.post0)\n",
      "Requirement already satisfied: pytz>=2020.1 in /home/admincit/Desktop/Team_4/.venv/lib/python3.12/site-packages (from pandas<2.2.4dev0,>=2.0->cudf-cu12) (2025.1)\n",
      "Requirement already satisfied: tzdata>=2022.7 in /home/admincit/Desktop/Team_4/.venv/lib/python3.12/site-packages (from pandas<2.2.4dev0,>=2.0->cudf-cu12) (2025.1)\n",
      "Collecting markdown-it-py>=2.2.0 (from rich->cudf-cu12)\n",
      "  Using cached markdown_it_py-3.0.0-py3-none-any.whl.metadata (6.9 kB)\n",
      "Requirement already satisfied: pygments<3.0.0,>=2.13.0 in /home/admincit/Desktop/Team_4/.venv/lib/python3.12/site-packages (from rich->cudf-cu12) (2.19.1)\n",
      "Collecting mdurl~=0.1 (from markdown-it-py>=2.2.0->rich->cudf-cu12)\n",
      "  Using cached mdurl-0.1.2-py3-none-any.whl.metadata (1.6 kB)\n",
      "Requirement already satisfied: six>=1.5 in /home/admincit/Desktop/Team_4/.venv/lib/python3.12/site-packages (from python-dateutil>=2.8.2->pandas<2.2.4dev0,>=2.0->cudf-cu12) (1.17.0)\n",
      "Downloading cudf_cu12-25.2.2-cp312-cp312-manylinux_2_24_x86_64.manylinux_2_28_x86_64.whl (2.2 MB)\n",
      "\u001b[2K   \u001b[90m━━━━━━━━━━━━━━━━━━━━━━━━━━━━━━━━━━━━━━━━\u001b[0m \u001b[32m2.2/2.2 MB\u001b[0m \u001b[31m10.8 MB/s\u001b[0m eta \u001b[36m0:00:00\u001b[0ma \u001b[36m0:00:01\u001b[0m\n",
      "\u001b[?25hDownloading libcudf_cu12-25.2.2-py3-none-manylinux_2_28_x86_64.whl (557.7 MB)\n",
      "\u001b[2K   \u001b[90m━━━━━━━━━━━━━━━━━━━━━━━━━━━━━━━━━━━━━━━━\u001b[0m \u001b[32m557.7/557.7 MB\u001b[0m \u001b[31m7.6 MB/s\u001b[0m eta \u001b[36m0:00:00\u001b[0m00:01\u001b[0m00:02\u001b[0mm\n",
      "\u001b[?25hDownloading pylibcudf_cu12-25.2.2-cp312-cp312-manylinux_2_24_x86_64.manylinux_2_28_x86_64.whl (27.2 MB)\n",
      "\u001b[2K   \u001b[90m━━━━━━━━━━━━━━━━━━━━━━━━━━━━━━━━━━━━━━━━\u001b[0m \u001b[32m27.2/27.2 MB\u001b[0m \u001b[31m10.8 MB/s\u001b[0m eta \u001b[36m0:00:00\u001b[0m00:01\u001b[0m00:01\u001b[0m\n",
      "\u001b[?25hDownloading rmm_cu12-25.2.0-cp312-cp312-manylinux_2_24_x86_64.manylinux_2_28_x86_64.whl (2.4 MB)\n",
      "\u001b[2K   \u001b[90m━━━━━━━━━━━━━━━━━━━━━━━━━━━━━━━━━━━━━━━━\u001b[0m \u001b[32m2.4/2.4 MB\u001b[0m \u001b[31m8.7 MB/s\u001b[0m eta \u001b[36m0:00:00\u001b[0mta \u001b[36m0:00:01\u001b[0m\n",
      "\u001b[?25hDownloading libkvikio_cu12-25.2.1-py3-none-manylinux_2_28_x86_64.whl (2.1 MB)\n",
      "\u001b[2K   \u001b[90m━━━━━━━━━━━━━━━━━━━━━━━━━━━━━━━━━━━━━━━━\u001b[0m \u001b[32m2.1/2.1 MB\u001b[0m \u001b[31m9.9 MB/s\u001b[0m eta \u001b[36m0:00:00\u001b[0mta \u001b[36m0:00:01\u001b[0m\n",
      "\u001b[?25hDownloading nvidia_nvcomp_cu12-4.2.0.11-py3-none-manylinux_2_28_x86_64.whl (46.3 MB)\n",
      "\u001b[2K   \u001b[90m━━━━━━━━━━━━━━━━━━━━━━━━━━━━━━━━━━━━━━━━\u001b[0m \u001b[32m46.3/46.3 MB\u001b[0m \u001b[31m9.7 MB/s\u001b[0m eta \u001b[36m0:00:00\u001b[0m:00:01\u001b[0m00:01\u001b[0m\n",
      "\u001b[?25hDownloading cuda_python-12.8.0-py3-none-any.whl (11 kB)\n",
      "Using cached fsspec-2025.3.0-py3-none-any.whl (193 kB)\n",
      "Downloading numba-0.60.0-cp312-cp312-manylinux2014_x86_64.manylinux_2_17_x86_64.whl (3.8 MB)\n",
      "\u001b[2K   \u001b[90m━━━━━━━━━━━━━━━━━━━━━━━━━━━━━━━━━━━━━━━━\u001b[0m \u001b[32m3.8/3.8 MB\u001b[0m \u001b[31m11.1 MB/s\u001b[0m eta \u001b[36m0:00:00\u001b[0ma \u001b[36m0:00:01\u001b[0m\n",
      "\u001b[?25hDownloading numba_cuda-0.2.0-py3-none-any.whl (443 kB)\n",
      "Downloading numpy-2.0.2-cp312-cp312-manylinux_2_17_x86_64.manylinux2014_x86_64.whl (19.2 MB)\n",
      "\u001b[2K   \u001b[90m━━━━━━━━━━━━━━━━━━━━━━━━━━━━━━━━━━━━━━━━\u001b[0m \u001b[32m19.2/19.2 MB\u001b[0m \u001b[31m10.6 MB/s\u001b[0m eta \u001b[36m0:00:00\u001b[0ma \u001b[36m0:00:01\u001b[0m\n",
      "\u001b[?25hDownloading nvtx-0.2.11-cp312-cp312-manylinux_2_17_x86_64.manylinux2014_x86_64.whl (562 kB)\n",
      "\u001b[2K   \u001b[90m━━━━━━━━━━━━━━━━━━━━━━━━━━━━━━━━━━━━━━━━\u001b[0m \u001b[32m562.6/562.6 kB\u001b[0m \u001b[31m9.6 MB/s\u001b[0m eta \u001b[36m0:00:00\u001b[0m\n",
      "\u001b[?25hDownloading pyarrow-19.0.1-cp312-cp312-manylinux_2_28_x86_64.whl (42.1 MB)\n",
      "\u001b[2K   \u001b[90m━━━━━━━━━━━━━━━━━━━━━━━━━━━━━━━━━━━━━━━━\u001b[0m \u001b[32m42.1/42.1 MB\u001b[0m \u001b[31m10.5 MB/s\u001b[0m eta \u001b[36m0:00:00\u001b[0m00:01\u001b[0m00:01\u001b[0m\n",
      "\u001b[?25hUsing cached cachetools-5.5.2-py3-none-any.whl (10 kB)\n",
      "Downloading pynvjitlink_cu12-0.5.2-cp312-cp312-manylinux_2_27_x86_64.manylinux_2_28_x86_64.whl (46.2 MB)\n",
      "\u001b[2K   \u001b[90m━━━━━━━━━━━━━━━━━━━━━━━━━━━━━━━━━━━━━━━━\u001b[0m \u001b[32m46.2/46.2 MB\u001b[0m \u001b[31m10.8 MB/s\u001b[0m eta \u001b[36m0:00:00\u001b[0m00:01\u001b[0m00:01\u001b[0m\n",
      "\u001b[?25hUsing cached rich-13.9.4-py3-none-any.whl (242 kB)\n",
      "Downloading cuda_bindings-12.8.0-cp312-cp312-manylinux_2_17_x86_64.manylinux2014_x86_64.whl (11.2 MB)\n",
      "\u001b[2K   \u001b[90m━━━━━━━━━━━━━━━━━━━━━━━━━━━━━━━━━━━━━━━━\u001b[0m \u001b[32m11.2/11.2 MB\u001b[0m \u001b[31m10.7 MB/s\u001b[0m eta \u001b[36m0:00:00\u001b[0m00:01\u001b[0m0:01\u001b[0m\n",
      "\u001b[?25hDownloading llvmlite-0.43.0-cp312-cp312-manylinux_2_17_x86_64.manylinux2014_x86_64.whl (43.9 MB)\n",
      "\u001b[2K   \u001b[90m━━━━━━━━━━━━━━━━━━━━━━━━━━━━━━━━━━━━━━━━\u001b[0m \u001b[32m43.9/43.9 MB\u001b[0m \u001b[31m10.5 MB/s\u001b[0m eta \u001b[36m0:00:00\u001b[0m00:01\u001b[0m00:01\u001b[0m\n",
      "\u001b[?25hUsing cached markdown_it_py-3.0.0-py3-none-any.whl (87 kB)\n",
      "Using cached mdurl-0.1.2-py3-none-any.whl (10.0 kB)\n",
      "Installing collected packages: nvtx, libkvikio-cu12, cuda-bindings, pynvjitlink-cu12, pyarrow, nvidia-nvcomp-cu12, numpy, mdurl, llvmlite, fsspec, cuda-python, cachetools, rmm-cu12, numba, markdown-it-py, libcudf-cu12, rich, pylibcudf-cu12, numba-cuda, cudf-cu12\n",
      "  Attempting uninstall: numpy\n",
      "    Found existing installation: numpy 2.1.0\n",
      "    Uninstalling numpy-2.1.0:\n",
      "      Successfully uninstalled numpy-2.1.0\n",
      "  Attempting uninstall: llvmlite\n",
      "    Found existing installation: llvmlite 0.44.0\n",
      "    Uninstalling llvmlite-0.44.0:\n",
      "      Successfully uninstalled llvmlite-0.44.0\n",
      "  Attempting uninstall: numba\n",
      "    Found existing installation: numba 0.61.0\n",
      "    Uninstalling numba-0.61.0:\n",
      "      Successfully uninstalled numba-0.61.0\n",
      "Successfully installed cachetools-5.5.2 cuda-bindings-12.8.0 cuda-python-12.8.0 cudf-cu12-25.2.2 fsspec-2025.3.0 libcudf-cu12-25.2.2 libkvikio-cu12-25.2.1 llvmlite-0.43.0 markdown-it-py-3.0.0 mdurl-0.1.2 numba-0.60.0 numba-cuda-0.2.0 numpy-2.0.2 nvidia-nvcomp-cu12-4.2.0.11 nvtx-0.2.11 pyarrow-19.0.1 pylibcudf-cu12-25.2.2 pynvjitlink-cu12-0.5.2 rich-13.9.4 rmm-cu12-25.2.0\n",
      "Note: you may need to restart the kernel to use updated packages.\n"
     ]
    }
   ],
   "source": [
    "pip install cudf-cu12"
   ]
  },
  {
   "cell_type": "code",
   "execution_count": 2,
   "metadata": {},
   "outputs": [],
   "source": [
    "import cupy as cp  # GPU-accelerated NumPy\n",
    "import numpy as np\n",
    "import os\n",
    "import mne\n",
    "import pandas as pd\n",
    "import cudf  # GPU DataFrame processing (like Pandas)\n",
    "from scipy.stats import skew, kurtosis\n",
    "from mne.preprocessing import ICA\n",
    "from mne.time_frequency import psd_array_welch\n",
    "from cupyx.scipy.fft import fft, ifft  # GPU FFT\n",
    "import pywt  # Wavelet transform (still CPU-based)\n",
    "from numba import cuda  # CUDA acceleration"
   ]
  },
  {
   "cell_type": "code",
   "execution_count": 3,
   "metadata": {},
   "outputs": [],
   "source": [
    "# CUDA-accelerated Morlet wavelet transform\n",
    "def morlet_wavelet(t, f, sigma=1.0):\n",
    "    return cp.exp(2j * cp.pi * f * t) * cp.exp(-t**2 / (2 * sigma**2))\n",
    "\n",
    "def manual_morlet_transform(data, scales, fs=1.0):\n",
    "    t = cp.arange(len(data)) / fs\n",
    "    transformed = []\n",
    "    for scale in scales:\n",
    "        wavelet = morlet_wavelet(t - cp.mean(t), scale)\n",
    "        wavelet /= cp.linalg.norm(wavelet)  # Normalize wavelet\n",
    "        convolved = ifft(fft(data) * fft(wavelet)).real\n",
    "        transformed.append(convolved)\n",
    "    return transformed"
   ]
  },
  {
   "cell_type": "code",
   "execution_count": null,
   "metadata": {},
   "outputs": [
    {
     "name": "stdout",
     "output_type": "stream",
     "text": [
      "Opening raw data file /home/admincit/Desktop/Team_4/split_fif/mdd/sub-88000489_ses-1_task-restEC_eeg_1.fif...\n",
      "Isotrak not found\n",
      "    Read a total of 1 projection items:\n",
      "        Average EEG reference (1 x 29)  idle\n",
      "    Range : 0 ... 29999 =      0.000 ...    59.998 secs\n",
      "Ready.\n",
      "Reading 0 ... 29999  =      0.000 ...    59.998 secs...\n"
     ]
    },
    {
     "name": "stderr",
     "output_type": "stream",
     "text": [
      "/tmp/ipykernel_2237662/2993782915.py:61: RuntimeWarning: This filename (/home/admincit/Desktop/Team_4/split_fif/mdd/sub-88000489_ses-1_task-restEC_eeg_1.fif) does not conform to MNE naming conventions. All raw files should end with raw.fif, raw_sss.fif, raw_tsss.fif, _meg.fif, _eeg.fif, _ieeg.fif, raw.fif.gz, raw_sss.fif.gz, raw_tsss.fif.gz, _meg.fif.gz, _eeg.fif.gz or _ieeg.fif.gz\n",
      "  raw_eo = mne.io.read_raw_fif(eo_file_path, preload=True)\n"
     ]
    },
    {
     "name": "stdout",
     "output_type": "stream",
     "text": [
      "Effective window size : 4.096 (s)\n"
     ]
    },
    {
     "ename": "ArrowInvalid",
     "evalue": "Can only convert 1-dimensional array values",
     "output_type": "error",
     "traceback": [
      "\u001b[31m---------------------------------------------------------------------------\u001b[39m",
      "\u001b[31mArrowInvalid\u001b[39m                              Traceback (most recent call last)",
      "\u001b[36mCell\u001b[39m\u001b[36m \u001b[39m\u001b[32mIn[4]\u001b[39m\u001b[32m, line 98\u001b[39m\n\u001b[32m     96\u001b[39m source_folder = \u001b[33m\"\u001b[39m\u001b[33m/home/admincit/Desktop/Team_4/split_fif/mdd\u001b[39m\u001b[33m\"\u001b[39m\n\u001b[32m     97\u001b[39m destination_folder = \u001b[33m\"\u001b[39m\u001b[33m/home/admincit/Desktop/Team_4/split_fif/mdd_processed\u001b[39m\u001b[33m\"\u001b[39m\n\u001b[32m---> \u001b[39m\u001b[32m98\u001b[39m \u001b[43mprocess_folder\u001b[49m\u001b[43m(\u001b[49m\u001b[43msource_folder\u001b[49m\u001b[43m,\u001b[49m\u001b[43m \u001b[49m\u001b[43mdestination_folder\u001b[49m\u001b[43m)\u001b[49m\n",
      "\u001b[36mCell\u001b[39m\u001b[36m \u001b[39m\u001b[32mIn[4]\u001b[39m\u001b[32m, line 91\u001b[39m, in \u001b[36mprocess_folder\u001b[39m\u001b[34m(source_folder, destination_folder)\u001b[39m\n\u001b[32m     88\u001b[39m     eo_path = os.path.join(source_folder, eo_file)\n\u001b[32m     89\u001b[39m     output_path = os.path.join(destination_folder, base_name + \u001b[33m\"\u001b[39m\u001b[33mrestcombined_eeg_1.csv\u001b[39m\u001b[33m\"\u001b[39m)\n\u001b[32m---> \u001b[39m\u001b[32m91\u001b[39m     \u001b[43mprocess_and_combine\u001b[49m\u001b[43m(\u001b[49m\u001b[43mec_path\u001b[49m\u001b[43m,\u001b[49m\u001b[43m \u001b[49m\u001b[43meo_path\u001b[49m\u001b[43m,\u001b[49m\u001b[43m \u001b[49m\u001b[43moutput_path\u001b[49m\u001b[43m)\u001b[49m\n\u001b[32m     92\u001b[39m \u001b[38;5;28;01melse\u001b[39;00m:\n\u001b[32m     93\u001b[39m     \u001b[38;5;28mprint\u001b[39m(\u001b[33mf\u001b[39m\u001b[33m\"\u001b[39m\u001b[33mWarning: No matching EO file found for \u001b[39m\u001b[38;5;132;01m{\u001b[39;00mec_file\u001b[38;5;132;01m}\u001b[39;00m\u001b[33m\"\u001b[39m)\n",
      "\u001b[36mCell\u001b[39m\u001b[36m \u001b[39m\u001b[32mIn[4]\u001b[39m\u001b[32m, line 62\u001b[39m, in \u001b[36mprocess_and_combine\u001b[39m\u001b[34m(eo_file_path, ec_file_path, output_file)\u001b[39m\n\u001b[32m     59\u001b[39m all_features = []\n\u001b[32m     61\u001b[39m raw_eo = mne.io.read_raw_fif(eo_file_path, preload=\u001b[38;5;28;01mTrue\u001b[39;00m)\n\u001b[32m---> \u001b[39m\u001b[32m62\u001b[39m features_eo = \u001b[43mextract_channel_features\u001b[49m\u001b[43m(\u001b[49m\u001b[43mraw_eo\u001b[49m\u001b[43m,\u001b[49m\u001b[43m \u001b[49m\u001b[33;43m\"\u001b[39;49m\u001b[33;43mec\u001b[39;49m\u001b[33;43m\"\u001b[39;49m\u001b[43m)\u001b[49m\n\u001b[32m     63\u001b[39m all_features.append(features_eo)\n\u001b[32m     65\u001b[39m raw_ec = mne.io.read_raw_fif(ec_file_path, preload=\u001b[38;5;28;01mTrue\u001b[39;00m)\n",
      "\u001b[36mCell\u001b[39m\u001b[36m \u001b[39m\u001b[32mIn[4]\u001b[39m\u001b[32m, line 56\u001b[39m, in \u001b[36mextract_channel_features\u001b[39m\u001b[34m(raw, condition, fmin, fmax)\u001b[39m\n\u001b[32m     53\u001b[39m \u001b[38;5;28;01mif\u001b[39;00m \u001b[33m'\u001b[39m\u001b[33mF3\u001b[39m\u001b[33m'\u001b[39m \u001b[38;5;129;01min\u001b[39;00m channel_names \u001b[38;5;129;01mand\u001b[39;00m \u001b[33m'\u001b[39m\u001b[33mF4\u001b[39m\u001b[33m'\u001b[39m \u001b[38;5;129;01min\u001b[39;00m channel_names:\n\u001b[32m     54\u001b[39m     features[\u001b[33mf\u001b[39m\u001b[33m'\u001b[39m\u001b[38;5;132;01m{\u001b[39;00mcondition\u001b[38;5;132;01m}\u001b[39;00m\u001b[33mf3_f4_alpha_asymmetry\u001b[39m\u001b[33m'\u001b[39m] = features[\u001b[33mf\u001b[39m\u001b[33m'\u001b[39m\u001b[38;5;132;01m{\u001b[39;00mcondition\u001b[38;5;132;01m}\u001b[39;00m\u001b[33m_f4_alpha_power\u001b[39m\u001b[33m'\u001b[39m] - features[\u001b[33mf\u001b[39m\u001b[33m'\u001b[39m\u001b[38;5;132;01m{\u001b[39;00mcondition\u001b[38;5;132;01m}\u001b[39;00m\u001b[33m_f3_alpha_power\u001b[39m\u001b[33m'\u001b[39m]\n\u001b[32m---> \u001b[39m\u001b[32m56\u001b[39m \u001b[38;5;28;01mreturn\u001b[39;00m \u001b[43mcudf\u001b[49m\u001b[43m.\u001b[49m\u001b[43mDataFrame\u001b[49m\u001b[43m(\u001b[49m\u001b[43m[\u001b[49m\u001b[43mfeatures\u001b[49m\u001b[43m]\u001b[49m\u001b[43m)\u001b[49m\n",
      "\u001b[36mFile \u001b[39m\u001b[32m~/Desktop/Team_4/.venv/lib/python3.12/site-packages/cudf/utils/performance_tracking.py:51\u001b[39m, in \u001b[36m_performance_tracking.<locals>.wrapper\u001b[39m\u001b[34m(*args, **kwargs)\u001b[39m\n\u001b[32m     43\u001b[39m \u001b[38;5;28;01mif\u001b[39;00m nvtx.enabled():\n\u001b[32m     44\u001b[39m     stack.enter_context(\n\u001b[32m     45\u001b[39m         nvtx.annotate(\n\u001b[32m     46\u001b[39m             message=func.\u001b[34m__qualname__\u001b[39m,\n\u001b[32m   (...)\u001b[39m\u001b[32m     49\u001b[39m         )\n\u001b[32m     50\u001b[39m     )\n\u001b[32m---> \u001b[39m\u001b[32m51\u001b[39m \u001b[38;5;28;01mreturn\u001b[39;00m \u001b[43mfunc\u001b[49m\u001b[43m(\u001b[49m\u001b[43m*\u001b[49m\u001b[43margs\u001b[49m\u001b[43m,\u001b[49m\u001b[43m \u001b[49m\u001b[43m*\u001b[49m\u001b[43m*\u001b[49m\u001b[43mkwargs\u001b[49m\u001b[43m)\u001b[49m\n",
      "\u001b[36mFile \u001b[39m\u001b[32m~/Desktop/Team_4/.venv/lib/python3.12/site-packages/cudf/core/dataframe.py:868\u001b[39m, in \u001b[36mDataFrame.__init__\u001b[39m\u001b[34m(self, data, index, columns, dtype, copy, nan_as_null)\u001b[39m\n\u001b[32m    864\u001b[39m         \u001b[38;5;28mself\u001b[39m._init_from_series_list(\n\u001b[32m    865\u001b[39m             data=data, columns=columns, index=index\n\u001b[32m    866\u001b[39m         )\n\u001b[32m    867\u001b[39m     \u001b[38;5;28;01melse\u001b[39;00m:\n\u001b[32m--> \u001b[39m\u001b[32m868\u001b[39m         \u001b[38;5;28;43mself\u001b[39;49m\u001b[43m.\u001b[49m\u001b[43m_init_from_list_like\u001b[49m\u001b[43m(\u001b[49m\n\u001b[32m    869\u001b[39m \u001b[43m            \u001b[49m\u001b[43mdata\u001b[49m\u001b[43m,\u001b[49m\u001b[43m \u001b[49m\u001b[43mindex\u001b[49m\u001b[43m=\u001b[49m\u001b[43mindex\u001b[49m\u001b[43m,\u001b[49m\u001b[43m \u001b[49m\u001b[43mcolumns\u001b[49m\u001b[43m=\u001b[49m\u001b[43mcolumns\u001b[49m\n\u001b[32m    870\u001b[39m \u001b[43m        \u001b[49m\u001b[43m)\u001b[49m\n\u001b[32m    871\u001b[39m     \u001b[38;5;28mself\u001b[39m._check_data_index_length_match()\n\u001b[32m    872\u001b[39m \u001b[38;5;28;01melse\u001b[39;00m:\n",
      "\u001b[36mFile \u001b[39m\u001b[32m~/Desktop/Team_4/.venv/lib/python3.12/site-packages/cudf/utils/performance_tracking.py:51\u001b[39m, in \u001b[36m_performance_tracking.<locals>.wrapper\u001b[39m\u001b[34m(*args, **kwargs)\u001b[39m\n\u001b[32m     43\u001b[39m \u001b[38;5;28;01mif\u001b[39;00m nvtx.enabled():\n\u001b[32m     44\u001b[39m     stack.enter_context(\n\u001b[32m     45\u001b[39m         nvtx.annotate(\n\u001b[32m     46\u001b[39m             message=func.\u001b[34m__qualname__\u001b[39m,\n\u001b[32m   (...)\u001b[39m\u001b[32m     49\u001b[39m         )\n\u001b[32m     50\u001b[39m     )\n\u001b[32m---> \u001b[39m\u001b[32m51\u001b[39m \u001b[38;5;28;01mreturn\u001b[39;00m \u001b[43mfunc\u001b[49m\u001b[43m(\u001b[49m\u001b[43m*\u001b[49m\u001b[43margs\u001b[49m\u001b[43m,\u001b[49m\u001b[43m \u001b[49m\u001b[43m*\u001b[49m\u001b[43m*\u001b[49m\u001b[43mkwargs\u001b[49m\u001b[43m)\u001b[49m\n",
      "\u001b[36mFile \u001b[39m\u001b[32m~/Desktop/Team_4/.venv/lib/python3.12/site-packages/cudf/core/dataframe.py:1013\u001b[39m, in \u001b[36mDataFrame._init_from_list_like\u001b[39m\u001b[34m(self, data, index, columns)\u001b[39m\n\u001b[32m   1011\u001b[39m \u001b[38;5;66;03m# list-of-dicts case\u001b[39;00m\n\u001b[32m   1012\u001b[39m \u001b[38;5;28;01mif\u001b[39;00m \u001b[38;5;28mlen\u001b[39m(data) > \u001b[32m0\u001b[39m \u001b[38;5;129;01mand\u001b[39;00m \u001b[38;5;28misinstance\u001b[39m(data[\u001b[32m0\u001b[39m], \u001b[38;5;28mdict\u001b[39m):\n\u001b[32m-> \u001b[39m\u001b[32m1013\u001b[39m     data = \u001b[43mDataFrame\u001b[49m\u001b[43m.\u001b[49m\u001b[43mfrom_pandas\u001b[49m\u001b[43m(\u001b[49m\u001b[43mpd\u001b[49m\u001b[43m.\u001b[49m\u001b[43mDataFrame\u001b[49m\u001b[43m(\u001b[49m\u001b[43mdata\u001b[49m\u001b[43m)\u001b[49m\u001b[43m)\u001b[49m\n\u001b[32m   1014\u001b[39m     \u001b[38;5;28mself\u001b[39m._data = data._data\n\u001b[32m   1015\u001b[39m \u001b[38;5;66;03m# interval in a list\u001b[39;00m\n",
      "\u001b[36mFile \u001b[39m\u001b[32m~/Desktop/Team_4/.venv/lib/python3.12/site-packages/cudf/utils/performance_tracking.py:51\u001b[39m, in \u001b[36m_performance_tracking.<locals>.wrapper\u001b[39m\u001b[34m(*args, **kwargs)\u001b[39m\n\u001b[32m     43\u001b[39m \u001b[38;5;28;01mif\u001b[39;00m nvtx.enabled():\n\u001b[32m     44\u001b[39m     stack.enter_context(\n\u001b[32m     45\u001b[39m         nvtx.annotate(\n\u001b[32m     46\u001b[39m             message=func.\u001b[34m__qualname__\u001b[39m,\n\u001b[32m   (...)\u001b[39m\u001b[32m     49\u001b[39m         )\n\u001b[32m     50\u001b[39m     )\n\u001b[32m---> \u001b[39m\u001b[32m51\u001b[39m \u001b[38;5;28;01mreturn\u001b[39;00m \u001b[43mfunc\u001b[49m\u001b[43m(\u001b[49m\u001b[43m*\u001b[49m\u001b[43margs\u001b[49m\u001b[43m,\u001b[49m\u001b[43m \u001b[49m\u001b[43m*\u001b[49m\u001b[43m*\u001b[49m\u001b[43mkwargs\u001b[49m\u001b[43m)\u001b[49m\n",
      "\u001b[36mFile \u001b[39m\u001b[32m~/Desktop/Team_4/.venv/lib/python3.12/site-packages/cudf/core/dataframe.py:5552\u001b[39m, in \u001b[36mDataFrame.from_pandas\u001b[39m\u001b[34m(cls, dataframe, nan_as_null)\u001b[39m\n\u001b[32m   5546\u001b[39m     nan_as_null = (\n\u001b[32m   5547\u001b[39m         \u001b[38;5;28;01mFalse\u001b[39;00m \u001b[38;5;28;01mif\u001b[39;00m cudf.get_option(\u001b[33m\"\u001b[39m\u001b[33mmode.pandas_compatible\u001b[39m\u001b[33m\"\u001b[39m) \u001b[38;5;28;01melse\u001b[39;00m \u001b[38;5;28;01mNone\u001b[39;00m\n\u001b[32m   5548\u001b[39m     )\n\u001b[32m   5550\u001b[39m \u001b[38;5;28;01mif\u001b[39;00m \u001b[38;5;28misinstance\u001b[39m(dataframe, pd.DataFrame):\n\u001b[32m   5551\u001b[39m     data = {\n\u001b[32m-> \u001b[39m\u001b[32m5552\u001b[39m         i: \u001b[43mcolumn\u001b[49m\u001b[43m.\u001b[49m\u001b[43mas_column\u001b[49m\u001b[43m(\u001b[49m\u001b[43mcol_value\u001b[49m\u001b[43m.\u001b[49m\u001b[43marray\u001b[49m\u001b[43m,\u001b[49m\u001b[43m \u001b[49m\u001b[43mnan_as_null\u001b[49m\u001b[43m=\u001b[49m\u001b[43mnan_as_null\u001b[49m\u001b[43m)\u001b[49m\n\u001b[32m   5553\u001b[39m         \u001b[38;5;28;01mfor\u001b[39;00m i, (_, col_value) \u001b[38;5;129;01min\u001b[39;00m \u001b[38;5;28menumerate\u001b[39m(dataframe.items())\n\u001b[32m   5554\u001b[39m     }\n\u001b[32m   5555\u001b[39m     \u001b[38;5;28;01mif\u001b[39;00m \u001b[38;5;28misinstance\u001b[39m(dataframe.index, pd.MultiIndex):\n\u001b[32m   5556\u001b[39m         index = cudf.MultiIndex.from_pandas(\n\u001b[32m   5557\u001b[39m             dataframe.index, nan_as_null=nan_as_null\n\u001b[32m   5558\u001b[39m         )\n",
      "\u001b[36mFile \u001b[39m\u001b[32m~/Desktop/Team_4/.venv/lib/python3.12/site-packages/cudf/core/column/column.py:2230\u001b[39m, in \u001b[36mas_column\u001b[39m\u001b[34m(arbitrary, nan_as_null, dtype, length)\u001b[39m\n\u001b[32m   2221\u001b[39m     \u001b[38;5;28;01melif\u001b[39;00m (\n\u001b[32m   2222\u001b[39m         nan_as_null \u001b[38;5;129;01mis\u001b[39;00m \u001b[38;5;28;01mFalse\u001b[39;00m\n\u001b[32m   2223\u001b[39m         \u001b[38;5;129;01mand\u001b[39;00m inferred_dtype \u001b[38;5;129;01mnot\u001b[39;00m \u001b[38;5;129;01min\u001b[39;00m (\u001b[33m\"\u001b[39m\u001b[33mdecimal\u001b[39m\u001b[33m\"\u001b[39m, \u001b[33m\"\u001b[39m\u001b[33mempty\u001b[39m\u001b[33m\"\u001b[39m)\n\u001b[32m   (...)\u001b[39m\u001b[32m   2226\u001b[39m         \u001b[38;5;66;03m# Decimal can hold float(\"nan\")\u001b[39;00m\n\u001b[32m   2227\u001b[39m         \u001b[38;5;66;03m# All np.nan is not restricted by type\u001b[39;00m\n\u001b[32m   2228\u001b[39m         \u001b[38;5;28;01mraise\u001b[39;00m MixedTypeError(\u001b[33mf\u001b[39m\u001b[33m\"\u001b[39m\u001b[33mCannot have NaN with \u001b[39m\u001b[38;5;132;01m{\u001b[39;00minferred_dtype\u001b[38;5;132;01m}\u001b[39;00m\u001b[33m\"\u001b[39m)\n\u001b[32m-> \u001b[39m\u001b[32m2230\u001b[39m     pyarrow_array = \u001b[43mpa\u001b[49m\u001b[43m.\u001b[49m\u001b[43marray\u001b[49m\u001b[43m(\u001b[49m\n\u001b[32m   2231\u001b[39m \u001b[43m        \u001b[49m\u001b[43marbitrary\u001b[49m\u001b[43m,\u001b[49m\n\u001b[32m   2232\u001b[39m \u001b[43m        \u001b[49m\u001b[43mfrom_pandas\u001b[49m\u001b[43m=\u001b[49m\u001b[38;5;28;43;01mTrue\u001b[39;49;00m\u001b[43m,\u001b[49m\n\u001b[32m   2233\u001b[39m \u001b[43m    \u001b[49m\u001b[43m)\u001b[49m\n\u001b[32m   2234\u001b[39m     \u001b[38;5;28;01mreturn\u001b[39;00m as_column(\n\u001b[32m   2235\u001b[39m         pyarrow_array,\n\u001b[32m   2236\u001b[39m         dtype=dtype,\n\u001b[32m   2237\u001b[39m         nan_as_null=nan_as_null,\n\u001b[32m   2238\u001b[39m         length=length,\n\u001b[32m   2239\u001b[39m     )\n\u001b[32m   2240\u001b[39m \u001b[38;5;28;01melse\u001b[39;00m:\n",
      "\u001b[36mFile \u001b[39m\u001b[32m~/Desktop/Team_4/.venv/lib/python3.12/site-packages/pyarrow/array.pxi:362\u001b[39m, in \u001b[36mpyarrow.lib.array\u001b[39m\u001b[34m()\u001b[39m\n",
      "\u001b[36mFile \u001b[39m\u001b[32m~/Desktop/Team_4/.venv/lib/python3.12/site-packages/pyarrow/array.pxi:87\u001b[39m, in \u001b[36mpyarrow.lib._ndarray_to_array\u001b[39m\u001b[34m()\u001b[39m\n",
      "\u001b[36mFile \u001b[39m\u001b[32m~/Desktop/Team_4/.venv/lib/python3.12/site-packages/pyarrow/error.pxi:92\u001b[39m, in \u001b[36mpyarrow.lib.check_status\u001b[39m\u001b[34m()\u001b[39m\n",
      "\u001b[31mArrowInvalid\u001b[39m: Can only convert 1-dimensional array values"
     ]
    }
   ],
   "source": [
    "def extract_channel_features(raw, condition, fmin=0.5, fmax=50):\n",
    "    raw.pick('eeg')\n",
    "    data = cp.asarray(raw.get_data())  # Move data to GPU\n",
    "    channel_names = raw.ch_names\n",
    "    features = {}\n",
    "    scales = cp.linspace(2, 30, 10)\n",
    "    fs = raw.info['sfreq']\n",
    "\n",
    "    for i, ch in enumerate(channel_names):\n",
    "        key_prefix = f'{condition}_{ch.lower()}'\n",
    "        features[f'{key_prefix}_mean'] = cp.mean(data[i]).get()\n",
    "        features[f'{key_prefix}_variance'] = cp.var(data[i]).get()\n",
    "        features[f'{key_prefix}_skewness'] = skew(data[i].get())  # Skewness needs CPU\n",
    "        features[f'{key_prefix}_kurtosis'] = kurtosis(data[i].get())  # Kurtosis needs CPU\n",
    "        features[f'{key_prefix}_peak_to_peak'] = cp.ptp(data[i]).get()\n",
    "\n",
    "        # FFT on GPU\n",
    "        fft_values = cp.abs(fft(data[i]))\n",
    "        features[f'{key_prefix}_fft_mean'] = cp.mean(fft_values).get()\n",
    "        features[f'{key_prefix}_fft_std'] = cp.std(fft_values).get()\n",
    "        features[f'{key_prefix}_fft_max'] = cp.max(fft_values).get()\n",
    "\n",
    "        # GPU-based Wavelet Transform\n",
    "        coeffs = manual_morlet_transform(data[i], scales, fs)\n",
    "        wavelet_energy = sum(cp.sum(cp.square(c)).get() for c in coeffs)\n",
    "        features[f'{key_prefix}_wavelet_energy'] = wavelet_energy\n",
    "\n",
    "        wavelet_entropy = 0\n",
    "        for c in coeffs:\n",
    "            c = c.get()  # Move to CPU for entropy calculation\n",
    "            c_norm = c / (np.sum(np.abs(c)) + 1e-10)\n",
    "            c_norm = c[c > 0]  # Avoid log errors\n",
    "            if len(c_norm) > 0:\n",
    "                wavelet_entropy += -np.sum(c_norm * np.log2(c_norm))\n",
    "        features[f'{key_prefix}_wavelet_entropy'] = wavelet_entropy\n",
    "\n",
    "    # Compute PSD using Welch's method\n",
    "    psd = raw.compute_psd(method='welch', fmin=fmin, fmax=fmax, n_fft=2048)\n",
    "    psd_data = psd.get_data()\n",
    "    freqs = psd.freqs\n",
    "    psd_df = cudf.DataFrame(psd_data, columns=freqs, index=channel_names)  # Use cuDF for speed\n",
    "\n",
    "    bands = {'delta': (0.5, 4), 'theta': (4, 8), 'slow_alpha': (6, 9), 'alpha': (8, 12),\n",
    "             'beta': (12, 30), 'gamma': (30, 50)}\n",
    "\n",
    "    for band, (low, high) in bands.items():\n",
    "        band_power = psd_df.loc[:, (freqs >= low) & (freqs <= high)].mean(axis=1)\n",
    "        for ch in channel_names:\n",
    "            key_prefix = f'{condition}_{ch.lower()}'\n",
    "            features[f'{key_prefix}_{band}_power'] = band_power[ch]\n",
    "\n",
    "    # Frontal Alpha Asymmetry (F3-F4)\n",
    "    if 'F3' in channel_names and 'F4' in channel_names:\n",
    "        features[f'{condition}f3_f4_alpha_asymmetry'] = features[f'{condition}_f4_alpha_power'] - features[f'{condition}_f3_alpha_power']\n",
    "\n",
    "    return cudf.DataFrame([features])  # Return cuDF DataFrame\n",
    "\n",
    "def process_and_combine(eo_file_path, ec_file_path, output_file):\n",
    "    all_features = []\n",
    "\n",
    "    raw_eo = mne.io.read_raw_fif(eo_file_path, preload=True)\n",
    "    features_eo = extract_channel_features(raw_eo, \"ec\")\n",
    "    all_features.append(features_eo)\n",
    "\n",
    "    raw_ec = mne.io.read_raw_fif(ec_file_path, preload=True)\n",
    "    features_ec = extract_channel_features(raw_ec, \"eo\")\n",
    "    all_features.append(features_ec)\n",
    "\n",
    "    combined_features = cudf.concat(all_features, axis=1)\n",
    "    combined_features.to_pandas().to_csv(output_file, index=False)  # Convert to Pandas before saving\n",
    "    print(f\"Features saved to {output_file}\")\n",
    "\n"
   ]
  },
  {
   "cell_type": "code",
   "execution_count": 5,
   "metadata": {},
   "outputs": [],
   "source": [
    "\n",
    "def process_folder(source_folder, destination_folder):\n",
    "    if not os.path.exists(destination_folder):\n",
    "        os.makedirs(destination_folder)\n",
    "\n",
    "    files = os.listdir(source_folder)\n",
    "    \n",
    "    ec_files = sorted([f for f in files if \"restEC_eeg_1.fif\" in f])\n",
    "    eo_files = sorted([f for f in files if \"restEO_eeg_1.fif\" in f])\n",
    "\n",
    "    for ec_file in ec_files:\n",
    "        base_name = ec_file.replace(\"restEC_eeg_1.fif\", \"\")\n",
    "        eo_file = base_name + \"restEO_eeg_1.fif\"\n",
    "\n",
    "        if eo_file in eo_files:\n",
    "            ec_path = os.path.join(source_folder, ec_file)\n",
    "            eo_path = os.path.join(source_folder, eo_file)\n",
    "            output_path = os.path.join(destination_folder, base_name + \"restcombined_eeg_1.csv\")\n",
    "\n",
    "            process_and_combine(ec_path, eo_path, output_path)\n",
    "        else:\n",
    "            print(f\"Warning: No matching EO file found for {ec_file}\")"
   ]
  },
  {
   "cell_type": "code",
   "execution_count": 5,
   "metadata": {},
   "outputs": [
    {
     "name": "stdout",
     "output_type": "stream",
     "text": [
      "Collecting numpy==2.0\n",
      "  Downloading numpy-2.0.0-cp312-cp312-manylinux_2_17_x86_64.manylinux2014_x86_64.whl.metadata (60 kB)\n",
      "Downloading numpy-2.0.0-cp312-cp312-manylinux_2_17_x86_64.manylinux2014_x86_64.whl (19.0 MB)\n",
      "\u001b[2K   \u001b[90m━━━━━━━━━━━━━━━━━━━━━━━━━━━━━━━━━━━━━━━━\u001b[0m \u001b[32m19.0/19.0 MB\u001b[0m \u001b[31m10.1 MB/s\u001b[0m eta \u001b[36m0:00:00\u001b[0m00:01\u001b[0m00:01\u001b[0m\n",
      "\u001b[?25hInstalling collected packages: numpy\n",
      "  Attempting uninstall: numpy\n",
      "    Found existing installation: numpy 2.0.2\n",
      "    Uninstalling numpy-2.0.2:\n",
      "      Successfully uninstalled numpy-2.0.2\n",
      "Successfully installed numpy-2.0.0\n",
      "Note: you may need to restart the kernel to use updated packages.\n"
     ]
    }
   ],
   "source": [
    "pip install numpy==2.0"
   ]
  },
  {
   "cell_type": "code",
   "execution_count": 6,
   "metadata": {},
   "outputs": [
    {
     "name": "stdout",
     "output_type": "stream",
     "text": [
      "Opening raw data file /home/admincit/Desktop/Team_4/split_fif/mdd/sub-88000489_ses-1_task-restEC_eeg_1.fif...\n",
      "Isotrak not found\n",
      "    Read a total of 1 projection items:\n",
      "        Average EEG reference (1 x 29)  idle\n",
      "    Range : 0 ... 29999 =      0.000 ...    59.998 secs\n",
      "Ready.\n",
      "Reading 0 ... 29999  =      0.000 ...    59.998 secs...\n"
     ]
    },
    {
     "name": "stderr",
     "output_type": "stream",
     "text": [
      "/tmp/ipykernel_2237662/2993782915.py:61: RuntimeWarning: This filename (/home/admincit/Desktop/Team_4/split_fif/mdd/sub-88000489_ses-1_task-restEC_eeg_1.fif) does not conform to MNE naming conventions. All raw files should end with raw.fif, raw_sss.fif, raw_tsss.fif, _meg.fif, _eeg.fif, _ieeg.fif, raw.fif.gz, raw_sss.fif.gz, raw_tsss.fif.gz, _meg.fif.gz, _eeg.fif.gz or _ieeg.fif.gz\n",
      "  raw_eo = mne.io.read_raw_fif(eo_file_path, preload=True)\n"
     ]
    },
    {
     "name": "stdout",
     "output_type": "stream",
     "text": [
      "Effective window size : 4.096 (s)\n"
     ]
    },
    {
     "ename": "ArrowInvalid",
     "evalue": "Can only convert 1-dimensional array values",
     "output_type": "error",
     "traceback": [
      "\u001b[31m---------------------------------------------------------------------------\u001b[39m",
      "\u001b[31mArrowInvalid\u001b[39m                              Traceback (most recent call last)",
      "\u001b[36mCell\u001b[39m\u001b[36m \u001b[39m\u001b[32mIn[6]\u001b[39m\u001b[32m, line 4\u001b[39m\n\u001b[32m      2\u001b[39m source_folder = \u001b[33m\"\u001b[39m\u001b[33m/home/admincit/Desktop/Team_4/split_fif/mdd\u001b[39m\u001b[33m\"\u001b[39m\n\u001b[32m      3\u001b[39m destination_folder = \u001b[33m\"\u001b[39m\u001b[33m/home/admincit/Desktop/Team_4/split_fif/mdd_processed\u001b[39m\u001b[33m\"\u001b[39m\n\u001b[32m----> \u001b[39m\u001b[32m4\u001b[39m \u001b[43mprocess_folder\u001b[49m\u001b[43m(\u001b[49m\u001b[43msource_folder\u001b[49m\u001b[43m,\u001b[49m\u001b[43m \u001b[49m\u001b[43mdestination_folder\u001b[49m\u001b[43m)\u001b[49m\n",
      "\u001b[36mCell\u001b[39m\u001b[36m \u001b[39m\u001b[32mIn[5]\u001b[39m\u001b[32m, line 19\u001b[39m, in \u001b[36mprocess_folder\u001b[39m\u001b[34m(source_folder, destination_folder)\u001b[39m\n\u001b[32m     16\u001b[39m     eo_path = os.path.join(source_folder, eo_file)\n\u001b[32m     17\u001b[39m     output_path = os.path.join(destination_folder, base_name + \u001b[33m\"\u001b[39m\u001b[33mrestcombined_eeg_1.csv\u001b[39m\u001b[33m\"\u001b[39m)\n\u001b[32m---> \u001b[39m\u001b[32m19\u001b[39m     \u001b[43mprocess_and_combine\u001b[49m\u001b[43m(\u001b[49m\u001b[43mec_path\u001b[49m\u001b[43m,\u001b[49m\u001b[43m \u001b[49m\u001b[43meo_path\u001b[49m\u001b[43m,\u001b[49m\u001b[43m \u001b[49m\u001b[43moutput_path\u001b[49m\u001b[43m)\u001b[49m\n\u001b[32m     20\u001b[39m \u001b[38;5;28;01melse\u001b[39;00m:\n\u001b[32m     21\u001b[39m     \u001b[38;5;28mprint\u001b[39m(\u001b[33mf\u001b[39m\u001b[33m\"\u001b[39m\u001b[33mWarning: No matching EO file found for \u001b[39m\u001b[38;5;132;01m{\u001b[39;00mec_file\u001b[38;5;132;01m}\u001b[39;00m\u001b[33m\"\u001b[39m)\n",
      "\u001b[36mCell\u001b[39m\u001b[36m \u001b[39m\u001b[32mIn[4]\u001b[39m\u001b[32m, line 62\u001b[39m, in \u001b[36mprocess_and_combine\u001b[39m\u001b[34m(eo_file_path, ec_file_path, output_file)\u001b[39m\n\u001b[32m     59\u001b[39m all_features = []\n\u001b[32m     61\u001b[39m raw_eo = mne.io.read_raw_fif(eo_file_path, preload=\u001b[38;5;28;01mTrue\u001b[39;00m)\n\u001b[32m---> \u001b[39m\u001b[32m62\u001b[39m features_eo = \u001b[43mextract_channel_features\u001b[49m\u001b[43m(\u001b[49m\u001b[43mraw_eo\u001b[49m\u001b[43m,\u001b[49m\u001b[43m \u001b[49m\u001b[33;43m\"\u001b[39;49m\u001b[33;43mec\u001b[39;49m\u001b[33;43m\"\u001b[39;49m\u001b[43m)\u001b[49m\n\u001b[32m     63\u001b[39m all_features.append(features_eo)\n\u001b[32m     65\u001b[39m raw_ec = mne.io.read_raw_fif(ec_file_path, preload=\u001b[38;5;28;01mTrue\u001b[39;00m)\n",
      "\u001b[36mCell\u001b[39m\u001b[36m \u001b[39m\u001b[32mIn[4]\u001b[39m\u001b[32m, line 56\u001b[39m, in \u001b[36mextract_channel_features\u001b[39m\u001b[34m(raw, condition, fmin, fmax)\u001b[39m\n\u001b[32m     53\u001b[39m \u001b[38;5;28;01mif\u001b[39;00m \u001b[33m'\u001b[39m\u001b[33mF3\u001b[39m\u001b[33m'\u001b[39m \u001b[38;5;129;01min\u001b[39;00m channel_names \u001b[38;5;129;01mand\u001b[39;00m \u001b[33m'\u001b[39m\u001b[33mF4\u001b[39m\u001b[33m'\u001b[39m \u001b[38;5;129;01min\u001b[39;00m channel_names:\n\u001b[32m     54\u001b[39m     features[\u001b[33mf\u001b[39m\u001b[33m'\u001b[39m\u001b[38;5;132;01m{\u001b[39;00mcondition\u001b[38;5;132;01m}\u001b[39;00m\u001b[33mf3_f4_alpha_asymmetry\u001b[39m\u001b[33m'\u001b[39m] = features[\u001b[33mf\u001b[39m\u001b[33m'\u001b[39m\u001b[38;5;132;01m{\u001b[39;00mcondition\u001b[38;5;132;01m}\u001b[39;00m\u001b[33m_f4_alpha_power\u001b[39m\u001b[33m'\u001b[39m] - features[\u001b[33mf\u001b[39m\u001b[33m'\u001b[39m\u001b[38;5;132;01m{\u001b[39;00mcondition\u001b[38;5;132;01m}\u001b[39;00m\u001b[33m_f3_alpha_power\u001b[39m\u001b[33m'\u001b[39m]\n\u001b[32m---> \u001b[39m\u001b[32m56\u001b[39m \u001b[38;5;28;01mreturn\u001b[39;00m \u001b[43mcudf\u001b[49m\u001b[43m.\u001b[49m\u001b[43mDataFrame\u001b[49m\u001b[43m(\u001b[49m\u001b[43m[\u001b[49m\u001b[43mfeatures\u001b[49m\u001b[43m]\u001b[49m\u001b[43m)\u001b[49m\n",
      "\u001b[36mFile \u001b[39m\u001b[32m~/Desktop/Team_4/.venv/lib/python3.12/site-packages/cudf/utils/performance_tracking.py:51\u001b[39m, in \u001b[36m_performance_tracking.<locals>.wrapper\u001b[39m\u001b[34m(*args, **kwargs)\u001b[39m\n\u001b[32m     43\u001b[39m \u001b[38;5;28;01mif\u001b[39;00m nvtx.enabled():\n\u001b[32m     44\u001b[39m     stack.enter_context(\n\u001b[32m     45\u001b[39m         nvtx.annotate(\n\u001b[32m     46\u001b[39m             message=func.\u001b[34m__qualname__\u001b[39m,\n\u001b[32m   (...)\u001b[39m\u001b[32m     49\u001b[39m         )\n\u001b[32m     50\u001b[39m     )\n\u001b[32m---> \u001b[39m\u001b[32m51\u001b[39m \u001b[38;5;28;01mreturn\u001b[39;00m \u001b[43mfunc\u001b[49m\u001b[43m(\u001b[49m\u001b[43m*\u001b[49m\u001b[43margs\u001b[49m\u001b[43m,\u001b[49m\u001b[43m \u001b[49m\u001b[43m*\u001b[49m\u001b[43m*\u001b[49m\u001b[43mkwargs\u001b[49m\u001b[43m)\u001b[49m\n",
      "\u001b[36mFile \u001b[39m\u001b[32m~/Desktop/Team_4/.venv/lib/python3.12/site-packages/cudf/core/dataframe.py:868\u001b[39m, in \u001b[36mDataFrame.__init__\u001b[39m\u001b[34m(self, data, index, columns, dtype, copy, nan_as_null)\u001b[39m\n\u001b[32m    864\u001b[39m         \u001b[38;5;28mself\u001b[39m._init_from_series_list(\n\u001b[32m    865\u001b[39m             data=data, columns=columns, index=index\n\u001b[32m    866\u001b[39m         )\n\u001b[32m    867\u001b[39m     \u001b[38;5;28;01melse\u001b[39;00m:\n\u001b[32m--> \u001b[39m\u001b[32m868\u001b[39m         \u001b[38;5;28;43mself\u001b[39;49m\u001b[43m.\u001b[49m\u001b[43m_init_from_list_like\u001b[49m\u001b[43m(\u001b[49m\n\u001b[32m    869\u001b[39m \u001b[43m            \u001b[49m\u001b[43mdata\u001b[49m\u001b[43m,\u001b[49m\u001b[43m \u001b[49m\u001b[43mindex\u001b[49m\u001b[43m=\u001b[49m\u001b[43mindex\u001b[49m\u001b[43m,\u001b[49m\u001b[43m \u001b[49m\u001b[43mcolumns\u001b[49m\u001b[43m=\u001b[49m\u001b[43mcolumns\u001b[49m\n\u001b[32m    870\u001b[39m \u001b[43m        \u001b[49m\u001b[43m)\u001b[49m\n\u001b[32m    871\u001b[39m     \u001b[38;5;28mself\u001b[39m._check_data_index_length_match()\n\u001b[32m    872\u001b[39m \u001b[38;5;28;01melse\u001b[39;00m:\n",
      "\u001b[36mFile \u001b[39m\u001b[32m~/Desktop/Team_4/.venv/lib/python3.12/site-packages/cudf/utils/performance_tracking.py:51\u001b[39m, in \u001b[36m_performance_tracking.<locals>.wrapper\u001b[39m\u001b[34m(*args, **kwargs)\u001b[39m\n\u001b[32m     43\u001b[39m \u001b[38;5;28;01mif\u001b[39;00m nvtx.enabled():\n\u001b[32m     44\u001b[39m     stack.enter_context(\n\u001b[32m     45\u001b[39m         nvtx.annotate(\n\u001b[32m     46\u001b[39m             message=func.\u001b[34m__qualname__\u001b[39m,\n\u001b[32m   (...)\u001b[39m\u001b[32m     49\u001b[39m         )\n\u001b[32m     50\u001b[39m     )\n\u001b[32m---> \u001b[39m\u001b[32m51\u001b[39m \u001b[38;5;28;01mreturn\u001b[39;00m \u001b[43mfunc\u001b[49m\u001b[43m(\u001b[49m\u001b[43m*\u001b[49m\u001b[43margs\u001b[49m\u001b[43m,\u001b[49m\u001b[43m \u001b[49m\u001b[43m*\u001b[49m\u001b[43m*\u001b[49m\u001b[43mkwargs\u001b[49m\u001b[43m)\u001b[49m\n",
      "\u001b[36mFile \u001b[39m\u001b[32m~/Desktop/Team_4/.venv/lib/python3.12/site-packages/cudf/core/dataframe.py:1013\u001b[39m, in \u001b[36mDataFrame._init_from_list_like\u001b[39m\u001b[34m(self, data, index, columns)\u001b[39m\n\u001b[32m   1011\u001b[39m \u001b[38;5;66;03m# list-of-dicts case\u001b[39;00m\n\u001b[32m   1012\u001b[39m \u001b[38;5;28;01mif\u001b[39;00m \u001b[38;5;28mlen\u001b[39m(data) > \u001b[32m0\u001b[39m \u001b[38;5;129;01mand\u001b[39;00m \u001b[38;5;28misinstance\u001b[39m(data[\u001b[32m0\u001b[39m], \u001b[38;5;28mdict\u001b[39m):\n\u001b[32m-> \u001b[39m\u001b[32m1013\u001b[39m     data = \u001b[43mDataFrame\u001b[49m\u001b[43m.\u001b[49m\u001b[43mfrom_pandas\u001b[49m\u001b[43m(\u001b[49m\u001b[43mpd\u001b[49m\u001b[43m.\u001b[49m\u001b[43mDataFrame\u001b[49m\u001b[43m(\u001b[49m\u001b[43mdata\u001b[49m\u001b[43m)\u001b[49m\u001b[43m)\u001b[49m\n\u001b[32m   1014\u001b[39m     \u001b[38;5;28mself\u001b[39m._data = data._data\n\u001b[32m   1015\u001b[39m \u001b[38;5;66;03m# interval in a list\u001b[39;00m\n",
      "\u001b[36mFile \u001b[39m\u001b[32m~/Desktop/Team_4/.venv/lib/python3.12/site-packages/cudf/utils/performance_tracking.py:51\u001b[39m, in \u001b[36m_performance_tracking.<locals>.wrapper\u001b[39m\u001b[34m(*args, **kwargs)\u001b[39m\n\u001b[32m     43\u001b[39m \u001b[38;5;28;01mif\u001b[39;00m nvtx.enabled():\n\u001b[32m     44\u001b[39m     stack.enter_context(\n\u001b[32m     45\u001b[39m         nvtx.annotate(\n\u001b[32m     46\u001b[39m             message=func.\u001b[34m__qualname__\u001b[39m,\n\u001b[32m   (...)\u001b[39m\u001b[32m     49\u001b[39m         )\n\u001b[32m     50\u001b[39m     )\n\u001b[32m---> \u001b[39m\u001b[32m51\u001b[39m \u001b[38;5;28;01mreturn\u001b[39;00m \u001b[43mfunc\u001b[49m\u001b[43m(\u001b[49m\u001b[43m*\u001b[49m\u001b[43margs\u001b[49m\u001b[43m,\u001b[49m\u001b[43m \u001b[49m\u001b[43m*\u001b[49m\u001b[43m*\u001b[49m\u001b[43mkwargs\u001b[49m\u001b[43m)\u001b[49m\n",
      "\u001b[36mFile \u001b[39m\u001b[32m~/Desktop/Team_4/.venv/lib/python3.12/site-packages/cudf/core/dataframe.py:5552\u001b[39m, in \u001b[36mDataFrame.from_pandas\u001b[39m\u001b[34m(cls, dataframe, nan_as_null)\u001b[39m\n\u001b[32m   5546\u001b[39m     nan_as_null = (\n\u001b[32m   5547\u001b[39m         \u001b[38;5;28;01mFalse\u001b[39;00m \u001b[38;5;28;01mif\u001b[39;00m cudf.get_option(\u001b[33m\"\u001b[39m\u001b[33mmode.pandas_compatible\u001b[39m\u001b[33m\"\u001b[39m) \u001b[38;5;28;01melse\u001b[39;00m \u001b[38;5;28;01mNone\u001b[39;00m\n\u001b[32m   5548\u001b[39m     )\n\u001b[32m   5550\u001b[39m \u001b[38;5;28;01mif\u001b[39;00m \u001b[38;5;28misinstance\u001b[39m(dataframe, pd.DataFrame):\n\u001b[32m   5551\u001b[39m     data = {\n\u001b[32m-> \u001b[39m\u001b[32m5552\u001b[39m         i: \u001b[43mcolumn\u001b[49m\u001b[43m.\u001b[49m\u001b[43mas_column\u001b[49m\u001b[43m(\u001b[49m\u001b[43mcol_value\u001b[49m\u001b[43m.\u001b[49m\u001b[43marray\u001b[49m\u001b[43m,\u001b[49m\u001b[43m \u001b[49m\u001b[43mnan_as_null\u001b[49m\u001b[43m=\u001b[49m\u001b[43mnan_as_null\u001b[49m\u001b[43m)\u001b[49m\n\u001b[32m   5553\u001b[39m         \u001b[38;5;28;01mfor\u001b[39;00m i, (_, col_value) \u001b[38;5;129;01min\u001b[39;00m \u001b[38;5;28menumerate\u001b[39m(dataframe.items())\n\u001b[32m   5554\u001b[39m     }\n\u001b[32m   5555\u001b[39m     \u001b[38;5;28;01mif\u001b[39;00m \u001b[38;5;28misinstance\u001b[39m(dataframe.index, pd.MultiIndex):\n\u001b[32m   5556\u001b[39m         index = cudf.MultiIndex.from_pandas(\n\u001b[32m   5557\u001b[39m             dataframe.index, nan_as_null=nan_as_null\n\u001b[32m   5558\u001b[39m         )\n",
      "\u001b[36mFile \u001b[39m\u001b[32m~/Desktop/Team_4/.venv/lib/python3.12/site-packages/cudf/core/column/column.py:2230\u001b[39m, in \u001b[36mas_column\u001b[39m\u001b[34m(arbitrary, nan_as_null, dtype, length)\u001b[39m\n\u001b[32m   2221\u001b[39m     \u001b[38;5;28;01melif\u001b[39;00m (\n\u001b[32m   2222\u001b[39m         nan_as_null \u001b[38;5;129;01mis\u001b[39;00m \u001b[38;5;28;01mFalse\u001b[39;00m\n\u001b[32m   2223\u001b[39m         \u001b[38;5;129;01mand\u001b[39;00m inferred_dtype \u001b[38;5;129;01mnot\u001b[39;00m \u001b[38;5;129;01min\u001b[39;00m (\u001b[33m\"\u001b[39m\u001b[33mdecimal\u001b[39m\u001b[33m\"\u001b[39m, \u001b[33m\"\u001b[39m\u001b[33mempty\u001b[39m\u001b[33m\"\u001b[39m)\n\u001b[32m   (...)\u001b[39m\u001b[32m   2226\u001b[39m         \u001b[38;5;66;03m# Decimal can hold float(\"nan\")\u001b[39;00m\n\u001b[32m   2227\u001b[39m         \u001b[38;5;66;03m# All np.nan is not restricted by type\u001b[39;00m\n\u001b[32m   2228\u001b[39m         \u001b[38;5;28;01mraise\u001b[39;00m MixedTypeError(\u001b[33mf\u001b[39m\u001b[33m\"\u001b[39m\u001b[33mCannot have NaN with \u001b[39m\u001b[38;5;132;01m{\u001b[39;00minferred_dtype\u001b[38;5;132;01m}\u001b[39;00m\u001b[33m\"\u001b[39m)\n\u001b[32m-> \u001b[39m\u001b[32m2230\u001b[39m     pyarrow_array = \u001b[43mpa\u001b[49m\u001b[43m.\u001b[49m\u001b[43marray\u001b[49m\u001b[43m(\u001b[49m\n\u001b[32m   2231\u001b[39m \u001b[43m        \u001b[49m\u001b[43marbitrary\u001b[49m\u001b[43m,\u001b[49m\n\u001b[32m   2232\u001b[39m \u001b[43m        \u001b[49m\u001b[43mfrom_pandas\u001b[49m\u001b[43m=\u001b[49m\u001b[38;5;28;43;01mTrue\u001b[39;49;00m\u001b[43m,\u001b[49m\n\u001b[32m   2233\u001b[39m \u001b[43m    \u001b[49m\u001b[43m)\u001b[49m\n\u001b[32m   2234\u001b[39m     \u001b[38;5;28;01mreturn\u001b[39;00m as_column(\n\u001b[32m   2235\u001b[39m         pyarrow_array,\n\u001b[32m   2236\u001b[39m         dtype=dtype,\n\u001b[32m   2237\u001b[39m         nan_as_null=nan_as_null,\n\u001b[32m   2238\u001b[39m         length=length,\n\u001b[32m   2239\u001b[39m     )\n\u001b[32m   2240\u001b[39m \u001b[38;5;28;01melse\u001b[39;00m:\n",
      "\u001b[36mFile \u001b[39m\u001b[32m~/Desktop/Team_4/.venv/lib/python3.12/site-packages/pyarrow/array.pxi:362\u001b[39m, in \u001b[36mpyarrow.lib.array\u001b[39m\u001b[34m()\u001b[39m\n",
      "\u001b[36mFile \u001b[39m\u001b[32m~/Desktop/Team_4/.venv/lib/python3.12/site-packages/pyarrow/array.pxi:87\u001b[39m, in \u001b[36mpyarrow.lib._ndarray_to_array\u001b[39m\u001b[34m()\u001b[39m\n",
      "\u001b[36mFile \u001b[39m\u001b[32m~/Desktop/Team_4/.venv/lib/python3.12/site-packages/pyarrow/error.pxi:92\u001b[39m, in \u001b[36mpyarrow.lib.check_status\u001b[39m\u001b[34m()\u001b[39m\n",
      "\u001b[31mArrowInvalid\u001b[39m: Can only convert 1-dimensional array values"
     ]
    }
   ],
   "source": [
    "# Run processing\n",
    "source_folder = \"/home/admincit/Desktop/Team_4/split_fif/mdd\"\n",
    "destination_folder = \"/home/admincit/Desktop/Team_4/split_fif/mdd_processed\"\n",
    "process_folder(source_folder, destination_folder)\n"
   ]
  }
 ],
 "metadata": {
  "kernelspec": {
   "display_name": ".venv",
   "language": "python",
   "name": "python3"
  },
  "language_info": {
   "codemirror_mode": {
    "name": "ipython",
    "version": 3
   },
   "file_extension": ".py",
   "mimetype": "text/x-python",
   "name": "python",
   "nbconvert_exporter": "python",
   "pygments_lexer": "ipython3",
   "version": "3.12.3"
  }
 },
 "nbformat": 4,
 "nbformat_minor": 2
}
