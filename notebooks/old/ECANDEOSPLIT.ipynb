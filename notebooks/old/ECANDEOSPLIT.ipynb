{
 "cells": [
  {
   "cell_type": "code",
   "execution_count": 22,
   "id": "93d20de9",
   "metadata": {},
   "outputs": [],
   "source": [
    "import pandas as pd\n",
    "import os\n",
    "def Split_ec_eo(inp_file,out_dir):\n",
    "    data = pd.read_csv(inp_file)\n",
    "\n",
    "    eo_data=[]\n",
    "    ec_data=[]\n",
    "    metadata=['gender','age']\n",
    "    for col in data.columns:\n",
    "        if col.startswith('EO_'):\n",
    "            eo_data.append(col)\n",
    "        elif col.startswith('EC_'):\n",
    "            ec_data.append(col)\n",
    "    \n",
    "    eo_df = data[metadata + eo_data]\n",
    "    ec_df = data[metadata + ec_data]\n",
    "    file_name = inp_file.split('/')[-1].split('.')[0]\n",
    "    eo_file = file_name.replace('eeg_combined','EO')+'.csv'\n",
    "    ec_file = file_name.replace('eeg_combined','EC')+'.csv'\n",
    "    eo_file = os.path.join(out_dir,eo_file)\n",
    "    ec_file = os.path.join(out_dir,ec_file)\n",
    "    eo_df.to_csv(eo_file, index=False)\n",
    "    ec_df.to_csv(ec_file,index=False)\n",
    "def process_dir(inpdir,out_dir):\n",
    "    files = os.listdir(inpdir)\n",
    "    for file in files:\n",
    "        inpfile = os.path.join(inpdir,file)\n",
    "        Split_ec_eo(inpfile,out_dir)\n"
   ]
  },
  {
   "cell_type": "code",
   "execution_count": 24,
   "id": "2ecc629a",
   "metadata": {},
   "outputs": [],
   "source": [
    "process_dir('/mnt/data/saikrishna/Team_4/preprocessed_data_new/mdd','/mnt/data/saikrishna/Team_4/preprocessed_split_EC_EO/mdd')"
   ]
  },
  {
   "cell_type": "code",
   "execution_count": 25,
   "id": "bebea84c",
   "metadata": {},
   "outputs": [],
   "source": [
    "process_dir('/mnt/data/saikrishna/Team_4/preprocessed_data_new/healthy','/mnt/data/saikrishna/Team_4/preprocessed_split_EC_EO/healthy')"
   ]
  },
  {
   "cell_type": "code",
   "execution_count": 1,
   "id": "ecc0b638",
   "metadata": {},
   "outputs": [],
   "source": [
    "import pandas as pd\n",
    "inp_file = \"/mnt/data/saikrishna/Team_4/preprocessed_data_new/mdd/sub-88000489_ses-1_task-resteeg_combined_1.csv\"\n",
    "\n",
    "data = pd.read_csv(inp_file)\n",
    "\n",
    "eo_data=[]\n",
    "for col in data.columns:\n",
    "    if col.startswith('EO_'):\n",
    "        eo_data.append(col)\n",
    "\n",
    "ec_data=[]\n",
    "for col in data.columns:\n",
    "    if col.startswith('EC_'):\n",
    "        ec_data.append(col)"
   ]
  },
  {
   "cell_type": "code",
   "execution_count": 3,
   "id": "4f5e82d1",
   "metadata": {},
   "outputs": [],
   "source": [
    "metadata = ['age','gender']"
   ]
  },
  {
   "cell_type": "code",
   "execution_count": 6,
   "id": "8b855460",
   "metadata": {},
   "outputs": [],
   "source": [
    "eo_df = data[metadata + eo_data]\n",
    "ec_df = data[metadata + ec_data]"
   ]
  },
  {
   "cell_type": "code",
   "execution_count": 7,
   "id": "62bf4f95",
   "metadata": {},
   "outputs": [
    {
     "data": {
      "text/html": [
       "<div>\n",
       "<style scoped>\n",
       "    .dataframe tbody tr th:only-of-type {\n",
       "        vertical-align: middle;\n",
       "    }\n",
       "\n",
       "    .dataframe tbody tr th {\n",
       "        vertical-align: top;\n",
       "    }\n",
       "\n",
       "    .dataframe thead th {\n",
       "        text-align: right;\n",
       "    }\n",
       "</style>\n",
       "<table border=\"1\" class=\"dataframe\">\n",
       "  <thead>\n",
       "    <tr style=\"text-align: right;\">\n",
       "      <th></th>\n",
       "      <th>age</th>\n",
       "      <th>gender</th>\n",
       "      <th>EC_fp1_mean</th>\n",
       "      <th>EC_fp1_std</th>\n",
       "      <th>EC_fp1_skew</th>\n",
       "      <th>EC_fp1_kurtosis</th>\n",
       "      <th>EC_fp1_psd_mean</th>\n",
       "      <th>EC_fp1_delta_fft_avg_power</th>\n",
       "      <th>EC_fp1_theta_fft_avg_power</th>\n",
       "      <th>EC_fp1_alpha_fft_avg_power</th>\n",
       "      <th>...</th>\n",
       "      <th>EC_o2_delta_fft_avg_power</th>\n",
       "      <th>EC_o2_theta_fft_avg_power</th>\n",
       "      <th>EC_o2_alpha_fft_avg_power</th>\n",
       "      <th>EC_o2_beta_fft_avg_power</th>\n",
       "      <th>EC_o2_gamma_fft_avg_power</th>\n",
       "      <th>EC_o2_delta_mwt_avg_power</th>\n",
       "      <th>EC_o2_theta_mwt_avg_power</th>\n",
       "      <th>EC_o2_alpha_mwt_avg_power</th>\n",
       "      <th>EC_o2_beta_mwt_avg_power</th>\n",
       "      <th>EC_o2_gamma_mwt_avg_power</th>\n",
       "    </tr>\n",
       "  </thead>\n",
       "  <tbody>\n",
       "    <tr>\n",
       "      <th>0</th>\n",
       "      <td>41</td>\n",
       "      <td>1</td>\n",
       "      <td>1.615023e-07</td>\n",
       "      <td>0.000018</td>\n",
       "      <td>-0.689888</td>\n",
       "      <td>0.813047</td>\n",
       "      <td>3.874930e-13</td>\n",
       "      <td>0.005484</td>\n",
       "      <td>0.003641</td>\n",
       "      <td>0.005028</td>\n",
       "      <td>...</td>\n",
       "      <td>0.005037</td>\n",
       "      <td>0.006556</td>\n",
       "      <td>0.00982</td>\n",
       "      <td>0.001717</td>\n",
       "      <td>0.000514</td>\n",
       "      <td>2.118134e-09</td>\n",
       "      <td>9.912005e-09</td>\n",
       "      <td>4.169503e-09</td>\n",
       "      <td>3.181058e-10</td>\n",
       "      <td>1.240069e-10</td>\n",
       "    </tr>\n",
       "  </tbody>\n",
       "</table>\n",
       "<p>1 rows × 392 columns</p>\n",
       "</div>"
      ],
      "text/plain": [
       "   age  gender   EC_fp1_mean  EC_fp1_std  EC_fp1_skew  EC_fp1_kurtosis  \\\n",
       "0   41       1  1.615023e-07    0.000018    -0.689888         0.813047   \n",
       "\n",
       "   EC_fp1_psd_mean  EC_fp1_delta_fft_avg_power  EC_fp1_theta_fft_avg_power  \\\n",
       "0     3.874930e-13                    0.005484                    0.003641   \n",
       "\n",
       "   EC_fp1_alpha_fft_avg_power  ...  EC_o2_delta_fft_avg_power  \\\n",
       "0                    0.005028  ...                   0.005037   \n",
       "\n",
       "   EC_o2_theta_fft_avg_power  EC_o2_alpha_fft_avg_power  \\\n",
       "0                   0.006556                    0.00982   \n",
       "\n",
       "   EC_o2_beta_fft_avg_power  EC_o2_gamma_fft_avg_power  \\\n",
       "0                  0.001717                   0.000514   \n",
       "\n",
       "   EC_o2_delta_mwt_avg_power  EC_o2_theta_mwt_avg_power  \\\n",
       "0               2.118134e-09               9.912005e-09   \n",
       "\n",
       "   EC_o2_alpha_mwt_avg_power  EC_o2_beta_mwt_avg_power  \\\n",
       "0               4.169503e-09              3.181058e-10   \n",
       "\n",
       "   EC_o2_gamma_mwt_avg_power  \n",
       "0               1.240069e-10  \n",
       "\n",
       "[1 rows x 392 columns]"
      ]
     },
     "execution_count": 7,
     "metadata": {},
     "output_type": "execute_result"
    }
   ],
   "source": [
    "eo_df.head()\n",
    "ec_df.head()"
   ]
  },
  {
   "cell_type": "code",
   "execution_count": 8,
   "id": "eed67056",
   "metadata": {},
   "outputs": [],
   "source": [
    "file_name = inp_file.split('/')[-1].split('.')[0]"
   ]
  },
  {
   "cell_type": "code",
   "execution_count": null,
   "id": "18b73ad5",
   "metadata": {},
   "outputs": [],
   "source": [
    "outdir = \"../../preprocessed_EC_EO/\""
   ]
  },
  {
   "cell_type": "code",
   "execution_count": null,
   "id": "13388f3d",
   "metadata": {},
   "outputs": [],
   "source": [
    "ec_file = file_name.replace('eeg_combined','EC_eeg')+'.csv'\n",
    "eo_file = file_name.replace('eeg_combined','EO_eeg')+'.csv'\n",
    "eo_df.to_csv(eo_file,index=False)\n",
    "ec_df.to_csv(ec_file,index=False)"
   ]
  },
  {
   "cell_type": "code",
   "execution_count": null,
   "id": "c2fdb70e",
   "metadata": {},
   "outputs": [],
   "source": []
  }
 ],
 "metadata": {
  "kernelspec": {
   "display_name": ".venv",
   "language": "python",
   "name": "python3"
  },
  "language_info": {
   "codemirror_mode": {
    "name": "ipython",
    "version": 3
   },
   "file_extension": ".py",
   "mimetype": "text/x-python",
   "name": "python",
   "nbconvert_exporter": "python",
   "pygments_lexer": "ipython3",
   "version": "3.12.3"
  }
 },
 "nbformat": 4,
 "nbformat_minor": 5
}
