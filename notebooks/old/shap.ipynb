{
 "cells": [
  {
   "cell_type": "code",
   "execution_count": null,
   "metadata": {},
   "outputs": [],
   "source": [
    "import shap\n",
    "\n",
    "# Load the trained model and scaler (optional if already in memory)\n",
    "xgb_model = joblib.load(\"best_xgb_model.pkl\")\n",
    "scaler = joblib.load(\"best_xgb_scaler.pkl\")\n",
    "\n",
    "# Convert X_val back to DataFrame with original feature names\n",
    "feature_names = df.drop(columns=[\"Label\"]).columns  # Extract feature names\n",
    "X_val_df = pd.DataFrame(X_val, columns=feature_names)\n",
    "\n",
    "# ✅ Initialize SHAP Explainer\n",
    "explainer = shap.Explainer(xgb_model, X_val_df)\n",
    "\n",
    "# ✅ Compute SHAP values\n",
    "shap_values = explainer(X_val_df)\n",
    "\n",
    "# ✅ Summary Plot (Overall Feature Importance)\n",
    "shap.summary_plot(shap_values, X_val_df)\n",
    "\n",
    "# ✅ Force Plot (Single Prediction Explanation)\n",
    "shap.initjs()\n",
    "shap.force_plot(explainer.expected_value, shap_values[0].values, X_val_df.iloc[0])\n",
    "\n",
    "# ✅ Dependence Plot for a Specific Feature (Change \"fp_1_mean\" to any feature name)\n",
    "shap.dependence_plot(\"fp_1_mean\", shap_values, X_val_df)\n",
    "\n",
    "# ✅ SHAP Bar Plot (Top Features)\n",
    "shap.bar_plot(shap_values)\n"
   ]
  }
 ],
 "metadata": {
  "language_info": {
   "name": "python"
  }
 },
 "nbformat": 4,
 "nbformat_minor": 2
}
