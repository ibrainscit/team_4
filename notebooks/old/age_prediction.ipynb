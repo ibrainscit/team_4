{
 "cells": [
  {
   "cell_type": "code",
   "execution_count": 30,
   "metadata": {},
   "outputs": [],
   "source": [
    "import pandas as pd\n",
    "\n",
    "mdd = pd.read_csv(\"TDBRAIN_participants_V2_MDD.tsv\", sep=\"\\t\")"
   ]
  },
  {
   "cell_type": "code",
   "execution_count": 31,
   "metadata": {},
   "outputs": [],
   "source": [
    "healthy = pd.read_csv(\"TDBRAIN_participants_V2_HEALTHY.tsv\",sep=\"\\t\")"
   ]
  },
  {
   "cell_type": "code",
   "execution_count": 32,
   "metadata": {},
   "outputs": [
    {
     "data": {
      "text/html": [
       "<div>\n",
       "<style scoped>\n",
       "    .dataframe tbody tr th:only-of-type {\n",
       "        vertical-align: middle;\n",
       "    }\n",
       "\n",
       "    .dataframe tbody tr th {\n",
       "        vertical-align: top;\n",
       "    }\n",
       "\n",
       "    .dataframe thead th {\n",
       "        text-align: right;\n",
       "    }\n",
       "</style>\n",
       "<table border=\"1\" class=\"dataframe\">\n",
       "  <thead>\n",
       "    <tr style=\"text-align: right;\">\n",
       "      <th></th>\n",
       "      <th>participants_ID</th>\n",
       "      <th>indication</th>\n",
       "      <th>age</th>\n",
       "      <th>gender</th>\n",
       "      <th>sessID</th>\n",
       "      <th>nrSessions</th>\n",
       "    </tr>\n",
       "  </thead>\n",
       "  <tbody>\n",
       "    <tr>\n",
       "      <th>0</th>\n",
       "      <td>sub-87974617</td>\n",
       "      <td>HEALTHY</td>\n",
       "      <td>NaN</td>\n",
       "      <td>0.0</td>\n",
       "      <td>1.0</td>\n",
       "      <td>1.0</td>\n",
       "    </tr>\n",
       "    <tr>\n",
       "      <th>1</th>\n",
       "      <td>sub-87974621</td>\n",
       "      <td>HEALTHY</td>\n",
       "      <td>NaN</td>\n",
       "      <td>0.0</td>\n",
       "      <td>1.0</td>\n",
       "      <td>1.0</td>\n",
       "    </tr>\n",
       "    <tr>\n",
       "      <th>2</th>\n",
       "      <td>sub-87974665</td>\n",
       "      <td>HEALTHY</td>\n",
       "      <td>23,37</td>\n",
       "      <td>0.0</td>\n",
       "      <td>1.0</td>\n",
       "      <td>1.0</td>\n",
       "    </tr>\n",
       "    <tr>\n",
       "      <th>3</th>\n",
       "      <td>sub-87974709</td>\n",
       "      <td>HEALTHY</td>\n",
       "      <td>20,31</td>\n",
       "      <td>1.0</td>\n",
       "      <td>1.0</td>\n",
       "      <td>1.0</td>\n",
       "    </tr>\n",
       "    <tr>\n",
       "      <th>4</th>\n",
       "      <td>sub-87974841</td>\n",
       "      <td>HEALTHY</td>\n",
       "      <td>21,59</td>\n",
       "      <td>1.0</td>\n",
       "      <td>1.0</td>\n",
       "      <td>1.0</td>\n",
       "    </tr>\n",
       "  </tbody>\n",
       "</table>\n",
       "</div>"
      ],
      "text/plain": [
       "  participants_ID indication    age  gender  sessID  nrSessions\n",
       "0    sub-87974617    HEALTHY    NaN     0.0     1.0         1.0\n",
       "1    sub-87974621    HEALTHY    NaN     0.0     1.0         1.0\n",
       "2    sub-87974665    HEALTHY  23,37     0.0     1.0         1.0\n",
       "3    sub-87974709    HEALTHY  20,31     1.0     1.0         1.0\n",
       "4    sub-87974841    HEALTHY  21,59     1.0     1.0         1.0"
      ]
     },
     "execution_count": 32,
     "metadata": {},
     "output_type": "execute_result"
    }
   ],
   "source": [
    "healthy.head()"
   ]
  },
  {
   "cell_type": "code",
   "execution_count": 33,
   "metadata": {},
   "outputs": [],
   "source": [
    "df = pd.concat([mdd, healthy], axis=0)"
   ]
  },
  {
   "cell_type": "code",
   "execution_count": 34,
   "metadata": {},
   "outputs": [
    {
     "data": {
      "text/html": [
       "<div>\n",
       "<style scoped>\n",
       "    .dataframe tbody tr th:only-of-type {\n",
       "        vertical-align: middle;\n",
       "    }\n",
       "\n",
       "    .dataframe tbody tr th {\n",
       "        vertical-align: top;\n",
       "    }\n",
       "\n",
       "    .dataframe thead th {\n",
       "        text-align: right;\n",
       "    }\n",
       "</style>\n",
       "<table border=\"1\" class=\"dataframe\">\n",
       "  <thead>\n",
       "    <tr style=\"text-align: right;\">\n",
       "      <th></th>\n",
       "      <th>participants_ID</th>\n",
       "      <th>indication</th>\n",
       "      <th>Dataset</th>\n",
       "      <th>rTMS_PROTOCOL</th>\n",
       "      <th>age</th>\n",
       "      <th>gender</th>\n",
       "      <th>sessID</th>\n",
       "      <th>nrSessions</th>\n",
       "    </tr>\n",
       "  </thead>\n",
       "  <tbody>\n",
       "    <tr>\n",
       "      <th>0</th>\n",
       "      <td>sub-87999321</td>\n",
       "      <td>MDD</td>\n",
       "      <td>MDD-rTMS</td>\n",
       "      <td>1.0</td>\n",
       "      <td>49,66</td>\n",
       "      <td>1.0</td>\n",
       "      <td>1.0</td>\n",
       "      <td>1.0</td>\n",
       "    </tr>\n",
       "    <tr>\n",
       "      <th>1</th>\n",
       "      <td>sub-88000181</td>\n",
       "      <td>MDD</td>\n",
       "      <td>MDD-rTMS</td>\n",
       "      <td>3.0</td>\n",
       "      <td>45,99</td>\n",
       "      <td>0.0</td>\n",
       "      <td>1.0</td>\n",
       "      <td>1.0</td>\n",
       "    </tr>\n",
       "    <tr>\n",
       "      <th>2</th>\n",
       "      <td>sub-88000313</td>\n",
       "      <td>MDD</td>\n",
       "      <td>MDD-rTMS</td>\n",
       "      <td>2.0</td>\n",
       "      <td>35,38</td>\n",
       "      <td>0.0</td>\n",
       "      <td>1.0</td>\n",
       "      <td>1.0</td>\n",
       "    </tr>\n",
       "    <tr>\n",
       "      <th>3</th>\n",
       "      <td>sub-88000489</td>\n",
       "      <td>MDD</td>\n",
       "      <td>MDD-rTMS</td>\n",
       "      <td>1.0</td>\n",
       "      <td>42,36</td>\n",
       "      <td>1.0</td>\n",
       "      <td>1.0</td>\n",
       "      <td>1.0</td>\n",
       "    </tr>\n",
       "    <tr>\n",
       "      <th>4</th>\n",
       "      <td>sub-88000533</td>\n",
       "      <td>MDD</td>\n",
       "      <td>MDD-rTMS</td>\n",
       "      <td>1.0</td>\n",
       "      <td>45,14</td>\n",
       "      <td>0.0</td>\n",
       "      <td>1.0</td>\n",
       "      <td>1.0</td>\n",
       "    </tr>\n",
       "  </tbody>\n",
       "</table>\n",
       "</div>"
      ],
      "text/plain": [
       "  participants_ID indication   Dataset  rTMS_PROTOCOL    age  gender  sessID  \\\n",
       "0    sub-87999321        MDD  MDD-rTMS            1.0  49,66     1.0     1.0   \n",
       "1    sub-88000181        MDD  MDD-rTMS            3.0  45,99     0.0     1.0   \n",
       "2    sub-88000313        MDD  MDD-rTMS            2.0  35,38     0.0     1.0   \n",
       "3    sub-88000489        MDD  MDD-rTMS            1.0  42,36     1.0     1.0   \n",
       "4    sub-88000533        MDD  MDD-rTMS            1.0  45,14     0.0     1.0   \n",
       "\n",
       "   nrSessions  \n",
       "0         1.0  \n",
       "1         1.0  \n",
       "2         1.0  \n",
       "3         1.0  \n",
       "4         1.0  "
      ]
     },
     "execution_count": 34,
     "metadata": {},
     "output_type": "execute_result"
    }
   ],
   "source": [
    "df.head()"
   ]
  },
  {
   "cell_type": "code",
   "execution_count": 36,
   "metadata": {},
   "outputs": [],
   "source": [
    "df['age']=df[\"age\"].replace(\",\",\".\",regex=True)"
   ]
  },
  {
   "cell_type": "code",
   "execution_count": 37,
   "metadata": {},
   "outputs": [
    {
     "name": "stdout",
     "output_type": "stream",
     "text": [
      "float64\n"
     ]
    }
   ],
   "source": [
    "df[\"age\"] = df[\"age\"].astype(float)\n",
    "print(df[\"age\"].dtype)"
   ]
  },
  {
   "cell_type": "code",
   "execution_count": 38,
   "metadata": {},
   "outputs": [],
   "source": [
    "mean=df['age'].mean()"
   ]
  },
  {
   "cell_type": "code",
   "execution_count": 39,
   "metadata": {},
   "outputs": [
    {
     "data": {
      "text/plain": [
       "np.float64(43.98882352941177)"
      ]
     },
     "execution_count": 39,
     "metadata": {},
     "output_type": "execute_result"
    }
   ],
   "source": [
    "mean"
   ]
  },
  {
   "cell_type": "code",
   "execution_count": 40,
   "metadata": {},
   "outputs": [],
   "source": [
    "df['age'] = df['age'].fillna(df['age'].mean())"
   ]
  },
  {
   "cell_type": "code",
   "execution_count": null,
   "metadata": {},
   "outputs": [
    {
     "data": {
      "text/plain": [
       "np.float64(43.98882352941177)"
      ]
     },
     "execution_count": 51,
     "metadata": {},
     "output_type": "execute_result"
    }
   ],
   "source": []
  },
  {
   "cell_type": "code",
   "execution_count": 41,
   "metadata": {},
   "outputs": [],
   "source": [
    "df.to_csv(\"TDBRAIN_participants_V2_cleaned.tsv\", sep=\"\\t\", index=False)"
   ]
  },
  {
   "cell_type": "code",
   "execution_count": 50,
   "metadata": {},
   "outputs": [
    {
     "name": "stdout",
     "output_type": "stream",
     "text": [
      "participants_ID\n",
      "indication\n",
      "Dataset\n",
      "rTMS_PROTOCOL\n",
      "age\n",
      "42.36\n",
      "42.25\n",
      "42.62\n",
      "42.14\n",
      "42.69\n",
      "42.53\n",
      "gender\n",
      "sessID\n",
      "nrSessions\n"
     ]
    }
   ],
   "source": [
    "for col in df.columns:\n",
    "    print(col)\n",
    "    if col == \"age\":\n",
    "        for val in df[col]:\n",
    "            if val > 42 and val < 43:\n",
    "                print(val)"
   ]
  },
  {
   "cell_type": "code",
   "execution_count": null,
   "metadata": {},
   "outputs": [
    {
     "data": {
      "text/html": [
       "<div>\n",
       "<style scoped>\n",
       "    .dataframe tbody tr th:only-of-type {\n",
       "        vertical-align: middle;\n",
       "    }\n",
       "\n",
       "    .dataframe tbody tr th {\n",
       "        vertical-align: top;\n",
       "    }\n",
       "\n",
       "    .dataframe thead th {\n",
       "        text-align: right;\n",
       "    }\n",
       "</style>\n",
       "<table border=\"1\" class=\"dataframe\">\n",
       "  <thead>\n",
       "    <tr style=\"text-align: right;\">\n",
       "      <th></th>\n",
       "      <th>participants_ID</th>\n",
       "      <th>indication</th>\n",
       "      <th>Dataset</th>\n",
       "      <th>rTMS_PROTOCOL</th>\n",
       "      <th>age</th>\n",
       "      <th>gender</th>\n",
       "      <th>sessID</th>\n",
       "      <th>nrSessions</th>\n",
       "    </tr>\n",
       "  </thead>\n",
       "  <tbody>\n",
       "    <tr>\n",
       "      <th>0</th>\n",
       "      <td>sub-87999321</td>\n",
       "      <td>MDD</td>\n",
       "      <td>MDD-rTMS</td>\n",
       "      <td>1.0</td>\n",
       "      <td>49.66</td>\n",
       "      <td>1.0</td>\n",
       "      <td>1.0</td>\n",
       "      <td>1.0</td>\n",
       "    </tr>\n",
       "    <tr>\n",
       "      <th>1</th>\n",
       "      <td>sub-88000181</td>\n",
       "      <td>MDD</td>\n",
       "      <td>MDD-rTMS</td>\n",
       "      <td>3.0</td>\n",
       "      <td>45.99</td>\n",
       "      <td>0.0</td>\n",
       "      <td>1.0</td>\n",
       "      <td>1.0</td>\n",
       "    </tr>\n",
       "    <tr>\n",
       "      <th>2</th>\n",
       "      <td>sub-88000313</td>\n",
       "      <td>MDD</td>\n",
       "      <td>MDD-rTMS</td>\n",
       "      <td>2.0</td>\n",
       "      <td>35.38</td>\n",
       "      <td>0.0</td>\n",
       "      <td>1.0</td>\n",
       "      <td>1.0</td>\n",
       "    </tr>\n",
       "    <tr>\n",
       "      <th>3</th>\n",
       "      <td>sub-88000489</td>\n",
       "      <td>MDD</td>\n",
       "      <td>MDD-rTMS</td>\n",
       "      <td>1.0</td>\n",
       "      <td>42.36</td>\n",
       "      <td>1.0</td>\n",
       "      <td>1.0</td>\n",
       "      <td>1.0</td>\n",
       "    </tr>\n",
       "    <tr>\n",
       "      <th>4</th>\n",
       "      <td>sub-88000533</td>\n",
       "      <td>MDD</td>\n",
       "      <td>MDD-rTMS</td>\n",
       "      <td>1.0</td>\n",
       "      <td>45.14</td>\n",
       "      <td>0.0</td>\n",
       "      <td>1.0</td>\n",
       "      <td>1.0</td>\n",
       "    </tr>\n",
       "  </tbody>\n",
       "</table>\n",
       "</div>"
      ],
      "text/plain": [
       "  participants_ID indication   Dataset  rTMS_PROTOCOL    age  gender  sessID  \\\n",
       "0    sub-87999321        MDD  MDD-rTMS            1.0  49.66     1.0     1.0   \n",
       "1    sub-88000181        MDD  MDD-rTMS            3.0  45.99     0.0     1.0   \n",
       "2    sub-88000313        MDD  MDD-rTMS            2.0  35.38     0.0     1.0   \n",
       "3    sub-88000489        MDD  MDD-rTMS            1.0  42.36     1.0     1.0   \n",
       "4    sub-88000533        MDD  MDD-rTMS            1.0  45.14     0.0     1.0   \n",
       "\n",
       "   nrSessions  \n",
       "0         1.0  \n",
       "1         1.0  \n",
       "2         1.0  \n",
       "3         1.0  \n",
       "4         1.0  "
      ]
     },
     "execution_count": 25,
     "metadata": {},
     "output_type": "execute_result"
    }
   ],
   "source": []
  },
  {
   "cell_type": "code",
   "execution_count": null,
   "metadata": {},
   "outputs": [],
   "source": []
  },
  {
   "cell_type": "code",
   "execution_count": null,
   "metadata": {},
   "outputs": [],
   "source": []
  },
  {
   "cell_type": "code",
   "execution_count": null,
   "metadata": {},
   "outputs": [],
   "source": []
  },
  {
   "cell_type": "code",
   "execution_count": null,
   "metadata": {},
   "outputs": [
    {
     "name": "stdout",
     "output_type": "stream",
     "text": [
      "Mean Squared Error: 212.11\n",
      "R² Score: -0.07\n"
     ]
    }
   ],
   "source": []
  },
  {
   "cell_type": "code",
   "execution_count": null,
   "metadata": {},
   "outputs": [],
   "source": []
  }
 ],
 "metadata": {
  "kernelspec": {
   "display_name": ".venv",
   "language": "python",
   "name": "python3"
  },
  "language_info": {
   "codemirror_mode": {
    "name": "ipython",
    "version": 3
   },
   "file_extension": ".py",
   "mimetype": "text/x-python",
   "name": "python",
   "nbconvert_exporter": "python",
   "pygments_lexer": "ipython3",
   "version": "3.12.3"
  }
 },
 "nbformat": 4,
 "nbformat_minor": 2
}
