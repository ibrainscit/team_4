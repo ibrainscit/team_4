{
 "cells": [
  {
   "cell_type": "code",
   "execution_count": 3,
   "metadata": {},
   "outputs": [
    {
     "name": "stdout",
     "output_type": "stream",
     "text": [
      "nvcc: NVIDIA (R) Cuda compiler driver\n",
      "Copyright (c) 2005-2023 NVIDIA Corporation\n",
      "Built on Fri_Jan__6_16:45:21_PST_2023\n",
      "Cuda compilation tools, release 12.0, V12.0.140\n",
      "Build cuda_12.0.r12.0/compiler.32267302_0\n"
     ]
    }
   ],
   "source": [
    "!nvcc --version\n"
   ]
  },
  {
   "cell_type": "code",
   "execution_count": 4,
   "metadata": {},
   "outputs": [
    {
     "name": "stdout",
     "output_type": "stream",
     "text": [
      "Collecting cupy-cuda12x\n",
      "  Downloading cupy_cuda12x-13.4.0-cp312-cp312-manylinux2014_x86_64.whl.metadata (2.6 kB)\n",
      "Requirement already satisfied: numpy<2.3,>=1.22 in /home/admincit/Desktop/Team_4/.venv/lib/python3.12/site-packages (from cupy-cuda12x) (2.1.0)\n",
      "Collecting fastrlock>=0.5 (from cupy-cuda12x)\n",
      "  Using cached fastrlock-0.8.3-cp312-cp312-manylinux_2_5_x86_64.manylinux1_x86_64.manylinux_2_28_x86_64.whl.metadata (7.7 kB)\n",
      "Downloading cupy_cuda12x-13.4.0-cp312-cp312-manylinux2014_x86_64.whl (105.3 MB)\n",
      "\u001b[2K   \u001b[90m━━━━━━━━━━━━━━━━━━━━━━━━━━━━━━━━━━━━━━━━\u001b[0m \u001b[32m105.3/105.3 MB\u001b[0m \u001b[31m9.0 MB/s\u001b[0m eta \u001b[36m0:00:00\u001b[0m00:01\u001b[0m00:01\u001b[0m\n",
      "\u001b[?25hUsing cached fastrlock-0.8.3-cp312-cp312-manylinux_2_5_x86_64.manylinux1_x86_64.manylinux_2_28_x86_64.whl (53 kB)\n",
      "Installing collected packages: fastrlock, cupy-cuda12x\n",
      "Successfully installed cupy-cuda12x-13.4.0 fastrlock-0.8.3\n",
      "Note: you may need to restart the kernel to use updated packages.\n"
     ]
    }
   ],
   "source": [
    "pip install cupy-cuda12x"
   ]
  },
  {
   "cell_type": "code",
   "execution_count": 3,
   "metadata": {},
   "outputs": [
    {
     "name": "stdout",
     "output_type": "stream",
     "text": [
      "Collecting cudf-cu12\n",
      "  Downloading cudf_cu12-25.2.2-cp312-cp312-manylinux_2_24_x86_64.manylinux_2_28_x86_64.whl.metadata (6.2 kB)\n",
      "Collecting cachetools (from cudf-cu12)\n",
      "  Using cached cachetools-5.5.2-py3-none-any.whl.metadata (5.4 kB)\n",
      "Collecting cuda-python<13.0a0,>=12.6.2 (from cudf-cu12)\n",
      "  Downloading cuda_python-12.8.0-py3-none-any.whl.metadata (15 kB)\n",
      "Requirement already satisfied: cupy-cuda12x>=12.0.0 in /home/admincit/Desktop/Team_4/.venv/lib/python3.12/site-packages (from cudf-cu12) (13.4.0)\n",
      "Collecting fsspec>=0.6.0 (from cudf-cu12)\n",
      "  Using cached fsspec-2025.3.0-py3-none-any.whl.metadata (11 kB)\n",
      "Collecting libcudf-cu12==25.2.* (from cudf-cu12)\n",
      "  Downloading libcudf_cu12-25.2.2-py3-none-manylinux_2_28_x86_64.whl.metadata (4.1 kB)\n",
      "Collecting numba-cuda<0.3.0a0,>=0.2.0 (from cudf-cu12)\n",
      "  Downloading numba_cuda-0.2.0-py3-none-any.whl.metadata (1.5 kB)\n",
      "Collecting numba<0.61.0a0,>=0.59.1 (from cudf-cu12)\n",
      "  Downloading numba-0.60.0-cp312-cp312-manylinux2014_x86_64.manylinux_2_17_x86_64.whl.metadata (2.7 kB)\n",
      "Requirement already satisfied: numpy<3.0a0,>=1.23 in /home/admincit/Desktop/Team_4/.venv/lib/python3.12/site-packages (from cudf-cu12) (2.1.0)\n",
      "Collecting nvtx>=0.2.1 (from cudf-cu12)\n",
      "  Downloading nvtx-0.2.11-cp312-cp312-manylinux_2_17_x86_64.manylinux2014_x86_64.whl.metadata (2.2 kB)\n",
      "Requirement already satisfied: packaging in /home/admincit/Desktop/Team_4/.venv/lib/python3.12/site-packages (from cudf-cu12) (24.2)\n",
      "Requirement already satisfied: pandas<2.2.4dev0,>=2.0 in /home/admincit/Desktop/Team_4/.venv/lib/python3.12/site-packages (from cudf-cu12) (2.2.3)\n",
      "Collecting pyarrow<20.0.0a0,>=14.0.0 (from cudf-cu12)\n",
      "  Downloading pyarrow-19.0.1-cp312-cp312-manylinux_2_28_x86_64.whl.metadata (3.3 kB)\n",
      "Collecting pylibcudf-cu12==25.2.* (from cudf-cu12)\n",
      "  Downloading pylibcudf_cu12-25.2.2-cp312-cp312-manylinux_2_24_x86_64.manylinux_2_28_x86_64.whl.metadata (4.9 kB)\n",
      "Collecting pynvjitlink-cu12 (from cudf-cu12)\n",
      "  Downloading pynvjitlink_cu12-0.5.2-cp312-cp312-manylinux_2_27_x86_64.manylinux_2_28_x86_64.whl.metadata (1.5 kB)\n",
      "Collecting rich (from cudf-cu12)\n",
      "  Using cached rich-13.9.4-py3-none-any.whl.metadata (18 kB)\n",
      "Collecting rmm-cu12==25.2.* (from cudf-cu12)\n",
      "  Downloading rmm_cu12-25.2.0-cp312-cp312-manylinux_2_24_x86_64.manylinux_2_28_x86_64.whl.metadata (42 kB)\n",
      "Requirement already satisfied: typing_extensions>=4.0.0 in /home/admincit/Desktop/Team_4/.venv/lib/python3.12/site-packages (from cudf-cu12) (4.12.2)\n",
      "Collecting libkvikio-cu12==25.2.* (from libcudf-cu12==25.2.*->cudf-cu12)\n",
      "  Downloading libkvikio_cu12-25.2.1-py3-none-manylinux_2_28_x86_64.whl.metadata (3.7 kB)\n",
      "Collecting nvidia-nvcomp-cu12==4.2.0.11 (from libcudf-cu12==25.2.*->cudf-cu12)\n",
      "  Downloading nvidia_nvcomp_cu12-4.2.0.11-py3-none-manylinux_2_28_x86_64.whl.metadata (863 bytes)\n",
      "Collecting cuda-bindings~=12.8.0 (from cuda-python<13.0a0,>=12.6.2->cudf-cu12)\n",
      "  Downloading cuda_bindings-12.8.0-cp312-cp312-manylinux_2_17_x86_64.manylinux2014_x86_64.whl.metadata (13 kB)\n",
      "Requirement already satisfied: fastrlock>=0.5 in /home/admincit/Desktop/Team_4/.venv/lib/python3.12/site-packages (from cupy-cuda12x>=12.0.0->cudf-cu12) (0.8.3)\n",
      "Collecting llvmlite<0.44,>=0.43.0dev0 (from numba<0.61.0a0,>=0.59.1->cudf-cu12)\n",
      "  Downloading llvmlite-0.43.0-cp312-cp312-manylinux_2_17_x86_64.manylinux2014_x86_64.whl.metadata (4.8 kB)\n",
      "Collecting numpy<3.0a0,>=1.23 (from cudf-cu12)\n",
      "  Downloading numpy-2.0.2-cp312-cp312-manylinux_2_17_x86_64.manylinux2014_x86_64.whl.metadata (60 kB)\n",
      "Requirement already satisfied: python-dateutil>=2.8.2 in /home/admincit/Desktop/Team_4/.venv/lib/python3.12/site-packages (from pandas<2.2.4dev0,>=2.0->cudf-cu12) (2.9.0.post0)\n",
      "Requirement already satisfied: pytz>=2020.1 in /home/admincit/Desktop/Team_4/.venv/lib/python3.12/site-packages (from pandas<2.2.4dev0,>=2.0->cudf-cu12) (2025.1)\n",
      "Requirement already satisfied: tzdata>=2022.7 in /home/admincit/Desktop/Team_4/.venv/lib/python3.12/site-packages (from pandas<2.2.4dev0,>=2.0->cudf-cu12) (2025.1)\n",
      "Collecting markdown-it-py>=2.2.0 (from rich->cudf-cu12)\n",
      "  Using cached markdown_it_py-3.0.0-py3-none-any.whl.metadata (6.9 kB)\n",
      "Requirement already satisfied: pygments<3.0.0,>=2.13.0 in /home/admincit/Desktop/Team_4/.venv/lib/python3.12/site-packages (from rich->cudf-cu12) (2.19.1)\n",
      "Collecting mdurl~=0.1 (from markdown-it-py>=2.2.0->rich->cudf-cu12)\n",
      "  Using cached mdurl-0.1.2-py3-none-any.whl.metadata (1.6 kB)\n",
      "Requirement already satisfied: six>=1.5 in /home/admincit/Desktop/Team_4/.venv/lib/python3.12/site-packages (from python-dateutil>=2.8.2->pandas<2.2.4dev0,>=2.0->cudf-cu12) (1.17.0)\n",
      "Downloading cudf_cu12-25.2.2-cp312-cp312-manylinux_2_24_x86_64.manylinux_2_28_x86_64.whl (2.2 MB)\n",
      "\u001b[2K   \u001b[90m━━━━━━━━━━━━━━━━━━━━━━━━━━━━━━━━━━━━━━━━\u001b[0m \u001b[32m2.2/2.2 MB\u001b[0m \u001b[31m10.8 MB/s\u001b[0m eta \u001b[36m0:00:00\u001b[0ma \u001b[36m0:00:01\u001b[0m\n",
      "\u001b[?25hDownloading libcudf_cu12-25.2.2-py3-none-manylinux_2_28_x86_64.whl (557.7 MB)\n",
      "\u001b[2K   \u001b[90m━━━━━━━━━━━━━━━━━━━━━━━━━━━━━━━━━━━━━━━━\u001b[0m \u001b[32m557.7/557.7 MB\u001b[0m \u001b[31m7.6 MB/s\u001b[0m eta \u001b[36m0:00:00\u001b[0m00:01\u001b[0m00:02\u001b[0mm\n",
      "\u001b[?25hDownloading pylibcudf_cu12-25.2.2-cp312-cp312-manylinux_2_24_x86_64.manylinux_2_28_x86_64.whl (27.2 MB)\n",
      "\u001b[2K   \u001b[90m━━━━━━━━━━━━━━━━━━━━━━━━━━━━━━━━━━━━━━━━\u001b[0m \u001b[32m27.2/27.2 MB\u001b[0m \u001b[31m10.8 MB/s\u001b[0m eta \u001b[36m0:00:00\u001b[0m00:01\u001b[0m00:01\u001b[0m\n",
      "\u001b[?25hDownloading rmm_cu12-25.2.0-cp312-cp312-manylinux_2_24_x86_64.manylinux_2_28_x86_64.whl (2.4 MB)\n",
      "\u001b[2K   \u001b[90m━━━━━━━━━━━━━━━━━━━━━━━━━━━━━━━━━━━━━━━━\u001b[0m \u001b[32m2.4/2.4 MB\u001b[0m \u001b[31m8.7 MB/s\u001b[0m eta \u001b[36m0:00:00\u001b[0mta \u001b[36m0:00:01\u001b[0m\n",
      "\u001b[?25hDownloading libkvikio_cu12-25.2.1-py3-none-manylinux_2_28_x86_64.whl (2.1 MB)\n",
      "\u001b[2K   \u001b[90m━━━━━━━━━━━━━━━━━━━━━━━━━━━━━━━━━━━━━━━━\u001b[0m \u001b[32m2.1/2.1 MB\u001b[0m \u001b[31m9.9 MB/s\u001b[0m eta \u001b[36m0:00:00\u001b[0mta \u001b[36m0:00:01\u001b[0m\n",
      "\u001b[?25hDownloading nvidia_nvcomp_cu12-4.2.0.11-py3-none-manylinux_2_28_x86_64.whl (46.3 MB)\n",
      "\u001b[2K   \u001b[90m━━━━━━━━━━━━━━━━━━━━━━━━━━━━━━━━━━━━━━━━\u001b[0m \u001b[32m46.3/46.3 MB\u001b[0m \u001b[31m9.7 MB/s\u001b[0m eta \u001b[36m0:00:00\u001b[0m:00:01\u001b[0m00:01\u001b[0m\n",
      "\u001b[?25hDownloading cuda_python-12.8.0-py3-none-any.whl (11 kB)\n",
      "Using cached fsspec-2025.3.0-py3-none-any.whl (193 kB)\n",
      "Downloading numba-0.60.0-cp312-cp312-manylinux2014_x86_64.manylinux_2_17_x86_64.whl (3.8 MB)\n",
      "\u001b[2K   \u001b[90m━━━━━━━━━━━━━━━━━━━━━━━━━━━━━━━━━━━━━━━━\u001b[0m \u001b[32m3.8/3.8 MB\u001b[0m \u001b[31m11.1 MB/s\u001b[0m eta \u001b[36m0:00:00\u001b[0ma \u001b[36m0:00:01\u001b[0m\n",
      "\u001b[?25hDownloading numba_cuda-0.2.0-py3-none-any.whl (443 kB)\n",
      "Downloading numpy-2.0.2-cp312-cp312-manylinux_2_17_x86_64.manylinux2014_x86_64.whl (19.2 MB)\n",
      "\u001b[2K   \u001b[90m━━━━━━━━━━━━━━━━━━━━━━━━━━━━━━━━━━━━━━━━\u001b[0m \u001b[32m19.2/19.2 MB\u001b[0m \u001b[31m10.6 MB/s\u001b[0m eta \u001b[36m0:00:00\u001b[0ma \u001b[36m0:00:01\u001b[0m\n",
      "\u001b[?25hDownloading nvtx-0.2.11-cp312-cp312-manylinux_2_17_x86_64.manylinux2014_x86_64.whl (562 kB)\n",
      "\u001b[2K   \u001b[90m━━━━━━━━━━━━━━━━━━━━━━━━━━━━━━━━━━━━━━━━\u001b[0m \u001b[32m562.6/562.6 kB\u001b[0m \u001b[31m9.6 MB/s\u001b[0m eta \u001b[36m0:00:00\u001b[0m\n",
      "\u001b[?25hDownloading pyarrow-19.0.1-cp312-cp312-manylinux_2_28_x86_64.whl (42.1 MB)\n",
      "\u001b[2K   \u001b[90m━━━━━━━━━━━━━━━━━━━━━━━━━━━━━━━━━━━━━━━━\u001b[0m \u001b[32m42.1/42.1 MB\u001b[0m \u001b[31m10.5 MB/s\u001b[0m eta \u001b[36m0:00:00\u001b[0m00:01\u001b[0m00:01\u001b[0m\n",
      "\u001b[?25hUsing cached cachetools-5.5.2-py3-none-any.whl (10 kB)\n",
      "Downloading pynvjitlink_cu12-0.5.2-cp312-cp312-manylinux_2_27_x86_64.manylinux_2_28_x86_64.whl (46.2 MB)\n",
      "\u001b[2K   \u001b[90m━━━━━━━━━━━━━━━━━━━━━━━━━━━━━━━━━━━━━━━━\u001b[0m \u001b[32m46.2/46.2 MB\u001b[0m \u001b[31m10.8 MB/s\u001b[0m eta \u001b[36m0:00:00\u001b[0m00:01\u001b[0m00:01\u001b[0m\n",
      "\u001b[?25hUsing cached rich-13.9.4-py3-none-any.whl (242 kB)\n",
      "Downloading cuda_bindings-12.8.0-cp312-cp312-manylinux_2_17_x86_64.manylinux2014_x86_64.whl (11.2 MB)\n",
      "\u001b[2K   \u001b[90m━━━━━━━━━━━━━━━━━━━━━━━━━━━━━━━━━━━━━━━━\u001b[0m \u001b[32m11.2/11.2 MB\u001b[0m \u001b[31m10.7 MB/s\u001b[0m eta \u001b[36m0:00:00\u001b[0m00:01\u001b[0m0:01\u001b[0m\n",
      "\u001b[?25hDownloading llvmlite-0.43.0-cp312-cp312-manylinux_2_17_x86_64.manylinux2014_x86_64.whl (43.9 MB)\n",
      "\u001b[2K   \u001b[90m━━━━━━━━━━━━━━━━━━━━━━━━━━━━━━━━━━━━━━━━\u001b[0m \u001b[32m43.9/43.9 MB\u001b[0m \u001b[31m10.5 MB/s\u001b[0m eta \u001b[36m0:00:00\u001b[0m00:01\u001b[0m00:01\u001b[0m\n",
      "\u001b[?25hUsing cached markdown_it_py-3.0.0-py3-none-any.whl (87 kB)\n",
      "Using cached mdurl-0.1.2-py3-none-any.whl (10.0 kB)\n",
      "Installing collected packages: nvtx, libkvikio-cu12, cuda-bindings, pynvjitlink-cu12, pyarrow, nvidia-nvcomp-cu12, numpy, mdurl, llvmlite, fsspec, cuda-python, cachetools, rmm-cu12, numba, markdown-it-py, libcudf-cu12, rich, pylibcudf-cu12, numba-cuda, cudf-cu12\n",
      "  Attempting uninstall: numpy\n",
      "    Found existing installation: numpy 2.1.0\n",
      "    Uninstalling numpy-2.1.0:\n",
      "      Successfully uninstalled numpy-2.1.0\n",
      "  Attempting uninstall: llvmlite\n",
      "    Found existing installation: llvmlite 0.44.0\n",
      "    Uninstalling llvmlite-0.44.0:\n",
      "      Successfully uninstalled llvmlite-0.44.0\n",
      "  Attempting uninstall: numba\n",
      "    Found existing installation: numba 0.61.0\n",
      "    Uninstalling numba-0.61.0:\n",
      "      Successfully uninstalled numba-0.61.0\n",
      "Successfully installed cachetools-5.5.2 cuda-bindings-12.8.0 cuda-python-12.8.0 cudf-cu12-25.2.2 fsspec-2025.3.0 libcudf-cu12-25.2.2 libkvikio-cu12-25.2.1 llvmlite-0.43.0 markdown-it-py-3.0.0 mdurl-0.1.2 numba-0.60.0 numba-cuda-0.2.0 numpy-2.0.2 nvidia-nvcomp-cu12-4.2.0.11 nvtx-0.2.11 pyarrow-19.0.1 pylibcudf-cu12-25.2.2 pynvjitlink-cu12-0.5.2 rich-13.9.4 rmm-cu12-25.2.0\n",
      "Note: you may need to restart the kernel to use updated packages.\n"
     ]
    }
   ],
   "source": [
    "pip install cudf-cu12"
   ]
  },
  {
   "cell_type": "code",
   "execution_count": 2,
   "metadata": {},
   "outputs": [],
   "source": [
    "import cupy as cp  # GPU-accelerated NumPy\n",
    "import numpy as np\n",
    "import os\n",
    "import mne\n",
    "import pandas as pd\n",
    "import cudf  # GPU DataFrame processing (like Pandas)\n",
    "from scipy.stats import skew, kurtosis\n",
    "from mne.preprocessing import ICA\n",
    "from mne.time_frequency import psd_array_welch\n",
    "from cupyx.scipy.fft import fft, ifft  # GPU FFT\n",
    "import pywt  # Wavelet transform (still CPU-based)\n",
    "from numba import cuda  # CUDA acceleration"
   ]
  },
  {
   "cell_type": "code",
   "execution_count": 3,
   "metadata": {},
   "outputs": [],
   "source": [
    "# CUDA-accelerated Morlet wavelet transform\n",
    "def morlet_wavelet(t, f, sigma=1.0):\n",
    "    return cp.exp(2j * cp.pi * f * t) * cp.exp(-t**2 / (2 * sigma**2))\n",
    "\n",
    "def manual_morlet_transform(data, scales, fs=1.0):\n",
    "    t = cp.arange(len(data)) / fs\n",
    "    transformed = []\n",
    "    for scale in scales:\n",
    "        wavelet = morlet_wavelet(t - cp.mean(t), scale)\n",
    "        wavelet /= cp.linalg.norm(wavelet)  # Normalize wavelet\n",
    "        convolved = ifft(fft(data) * fft(wavelet)).real\n",
    "        transformed.append(convolved)\n",
    "    return transformed"
   ]
  },
  {
   "cell_type": "code",
   "execution_count": 4,
   "metadata": {},
   "outputs": [],
   "source": [
    "def extract_channel_features(raw, condition, fmin=0.5, fmax=50):\n",
    "    raw.pick('eeg')\n",
    "    data = cp.asarray(raw.get_data())  # Move data to GPU\n",
    "    channel_names = raw.ch_names\n",
    "    features = {}\n",
    "    scales = cp.linspace(2, 30, 10)\n",
    "    fs = raw.info['sfreq']\n",
    "\n",
    "    for i, ch in enumerate(channel_names):\n",
    "        key_prefix = f'{condition}_{ch.lower()}'\n",
    "        features[f'{key_prefix}_mean'] = cp.mean(data[i]).get()\n",
    "        features[f'{key_prefix}_variance'] = cp.var(data[i]).get()\n",
    "        features[f'{key_prefix}_skewness'] = skew(data[i].get())  # Skewness needs CPU\n",
    "        features[f'{key_prefix}_kurtosis'] = kurtosis(data[i].get())  # Kurtosis needs CPU\n",
    "        features[f'{key_prefix}_peak_to_peak'] = cp.ptp(data[i]).get()\n",
    "\n",
    "        # FFT on GPU\n",
    "        fft_values = cp.abs(fft(data[i]))\n",
    "        features[f'{key_prefix}_fft_mean'] = cp.mean(fft_values).get()\n",
    "        features[f'{key_prefix}_fft_std'] = cp.std(fft_values).get()\n",
    "        features[f'{key_prefix}_fft_max'] = cp.max(fft_values).get()\n",
    "\n",
    "        # GPU-based Wavelet Transform\n",
    "        coeffs = manual_morlet_transform(data[i], scales, fs)\n",
    "        wavelet_energy = sum(cp.sum(cp.square(c)).get() for c in coeffs)\n",
    "        features[f'{key_prefix}_wavelet_energy'] = wavelet_energy\n",
    "\n",
    "        wavelet_entropy = 0\n",
    "        for c in coeffs:\n",
    "            c = c.get()  # Move to CPU for entropy calculation\n",
    "            c_norm = c / (np.sum(np.abs(c)) + 1e-10)\n",
    "            c_norm = c[c > 0]  # Avoid log errors\n",
    "            if len(c_norm) > 0:\n",
    "                wavelet_entropy += -np.sum(c_norm * np.log2(c_norm))\n",
    "        features[f'{key_prefix}_wavelet_entropy'] = wavelet_entropy\n",
    "\n",
    "    # Compute PSD using Welch's method\n",
    "    psd = raw.compute_psd(method='welch', fmin=fmin, fmax=fmax, n_fft=2048)\n",
    "    psd_data = psd.get_data()\n",
    "    freqs = psd.freqs\n",
    "    psd_df = cudf.DataFrame(psd_data, columns=freqs, index=channel_names)  # Use cuDF for speed\n",
    "\n",
    "    bands = {'delta': (0.5, 4), 'theta': (4, 8), 'slow_alpha': (6, 9), 'alpha': (8, 12),\n",
    "             'beta': (12, 30), 'gamma': (30, 50)}\n",
    "\n",
    "    for band, (low, high) in bands.items():\n",
    "        band_power = psd_df.loc[:, (freqs >= low) & (freqs <= high)].mean(axis=1)\n",
    "        for ch in channel_names:\n",
    "            key_prefix = f'{condition}_{ch.lower()}'\n",
    "            features[f'{key_prefix}_{band}_power'] = band_power[ch]\n",
    "\n",
    "    # Frontal Alpha Asymmetry (F3-F4)\n",
    "    if 'F3' in channel_names and 'F4' in channel_names:\n",
    "        features[f'{condition}f3_f4_alpha_asymmetry'] = features[f'{condition}_f4_alpha_power'] - features[f'{condition}_f3_alpha_power']\n",
    "\n",
    "\n",
    "    for key, value in features.items():\n",
    "        if isinstance(value, (np.ndarray, list)):\n",
    "            features[key] = np.mean(value)  # Convert multi-dimensional data\n",
    "\n",
    "    return cudf.DataFrame([features])  # Return cuDF DataFrame\n",
    "\n",
    "def process_and_combine(eo_file_path, ec_file_path, output_file):\n",
    "    all_features = []\n",
    "\n",
    "    raw_eo = mne.io.read_raw_fif(eo_file_path, preload=True)\n",
    "    features_eo = extract_channel_features(raw_eo, \"ec\")\n",
    "    all_features.append(features_eo)\n",
    "\n",
    "    raw_ec = mne.io.read_raw_fif(ec_file_path, preload=True)\n",
    "    features_ec = extract_channel_features(raw_ec, \"eo\")\n",
    "    all_features.append(features_ec)\n",
    "\n",
    "    combined_features = cudf.concat(all_features, axis=1)\n",
    "    combined_features.to_pandas().to_csv(output_file, index=False)  # Convert to Pandas before saving\n",
    "    print(f\"Features saved to {output_file}\")\n",
    "\n"
   ]
  },
  {
   "cell_type": "code",
   "execution_count": 5,
   "metadata": {},
   "outputs": [],
   "source": [
    "\n",
    "def process_folder(source_folder, destination_folder):\n",
    "    if not os.path.exists(destination_folder):\n",
    "        os.makedirs(destination_folder)\n",
    "\n",
    "    files = os.listdir(source_folder)\n",
    "    \n",
    "    ec_files = sorted([f for f in files if \"restEC_eeg_1.fif\" in f])\n",
    "    eo_files = sorted([f for f in files if \"restEO_eeg_1.fif\" in f])\n",
    "\n",
    "    for ec_file in ec_files:\n",
    "        base_name = ec_file.replace(\"restEC_eeg_1.fif\", \"\")\n",
    "        eo_file = base_name + \"restEO_eeg_1.fif\"\n",
    "\n",
    "        if eo_file in eo_files:\n",
    "            ec_path = os.path.join(source_folder, ec_file)\n",
    "            eo_path = os.path.join(source_folder, eo_file)\n",
    "            output_path = os.path.join(destination_folder, base_name + \"restcombined_eeg_1.csv\")\n",
    "\n",
    "            process_and_combine(ec_path, eo_path, output_path)\n",
    "        else:\n",
    "            print(f\"Warning: No matching EO file found for {ec_file}\")"
   ]
  },
  {
   "cell_type": "code",
   "execution_count": 5,
   "metadata": {},
   "outputs": [
    {
     "name": "stdout",
     "output_type": "stream",
     "text": [
      "Collecting numpy==2.0\n",
      "  Downloading numpy-2.0.0-cp312-cp312-manylinux_2_17_x86_64.manylinux2014_x86_64.whl.metadata (60 kB)\n",
      "Downloading numpy-2.0.0-cp312-cp312-manylinux_2_17_x86_64.manylinux2014_x86_64.whl (19.0 MB)\n",
      "\u001b[2K   \u001b[90m━━━━━━━━━━━━━━━━━━━━━━━━━━━━━━━━━━━━━━━━\u001b[0m \u001b[32m19.0/19.0 MB\u001b[0m \u001b[31m10.1 MB/s\u001b[0m eta \u001b[36m0:00:00\u001b[0m00:01\u001b[0m00:01\u001b[0m\n",
      "\u001b[?25hInstalling collected packages: numpy\n",
      "  Attempting uninstall: numpy\n",
      "    Found existing installation: numpy 2.0.2\n",
      "    Uninstalling numpy-2.0.2:\n",
      "      Successfully uninstalled numpy-2.0.2\n",
      "Successfully installed numpy-2.0.0\n",
      "Note: you may need to restart the kernel to use updated packages.\n"
     ]
    }
   ],
   "source": [
    "pip install numpy==2.0"
   ]
  },
  {
   "cell_type": "code",
   "execution_count": null,
   "metadata": {},
   "outputs": [
    {
     "name": "stdout",
     "output_type": "stream",
     "text": [
      "Opening raw data file /home/admincit/Desktop/Team_4/split_fif/mdd/sub-88000489_ses-1_task-restEC_eeg_2.fif...\n",
      "Isotrak not found\n",
      "    Read a total of 1 projection items:\n",
      "        Average EEG reference (1 x 29)  idle\n",
      "    Range : 60000 ... 60002 =    120.000 ...   120.004 secs\n",
      "Ready.\n",
      "Reading 0 ... 2  =      0.000 ...     0.004 secs...\n"
     ]
    },
    {
     "name": "stderr",
     "output_type": "stream",
     "text": [
      "/tmp/ipykernel_2314511/2305656317.py:66: RuntimeWarning: This filename (/home/admincit/Desktop/Team_4/split_fif/mdd/sub-88000489_ses-1_task-restEC_eeg_2.fif) does not conform to MNE naming conventions. All raw files should end with raw.fif, raw_sss.fif, raw_tsss.fif, _meg.fif, _eeg.fif, _ieeg.fif, raw.fif.gz, raw_sss.fif.gz, raw_tsss.fif.gz, _meg.fif.gz, _eeg.fif.gz or _ieeg.fif.gz\n",
      "  raw_eo = mne.io.read_raw_fif(eo_file_path, preload=True)\n"
     ]
    },
    {
     "ename": "ValueError",
     "evalue": "If n_per_seg is None n_fft is not allowed to be > n_times. If you want zero-padding, you have to set n_per_seg to relevant length. Got n_fft of 2048 while signal length is 3.",
     "output_type": "error",
     "traceback": [
      "\u001b[31m---------------------------------------------------------------------------\u001b[39m",
      "\u001b[31mValueError\u001b[39m                                Traceback (most recent call last)",
      "\u001b[36mCell\u001b[39m\u001b[36m \u001b[39m\u001b[32mIn[11]\u001b[39m\u001b[32m, line 1\u001b[39m\n\u001b[32m----> \u001b[39m\u001b[32m1\u001b[39m \u001b[43mprocess_and_combine\u001b[49m\u001b[43m(\u001b[49m\u001b[33;43m\"\u001b[39;49m\u001b[33;43m/home/admincit/Desktop/Team_4/split_fif/mdd/sub-88000489_ses-1_task-restEC_eeg_2.fif\u001b[39;49m\u001b[33;43m\"\u001b[39;49m\u001b[43m,\u001b[49m\u001b[33;43m\"\u001b[39;49m\u001b[33;43m/home/admincit/Desktop/Team_4/split_fif/mdd/sub-88000489_ses-1_task-restEO_eeg_2.fif\u001b[39;49m\u001b[33;43m\"\u001b[39;49m\u001b[43m,\u001b[49m\u001b[33;43m\"\u001b[39;49m\u001b[33;43mpreprocessed.csv\u001b[39;49m\u001b[33;43m\"\u001b[39;49m\u001b[43m)\u001b[49m\n",
      "\u001b[36mCell\u001b[39m\u001b[36m \u001b[39m\u001b[32mIn[4]\u001b[39m\u001b[32m, line 67\u001b[39m, in \u001b[36mprocess_and_combine\u001b[39m\u001b[34m(eo_file_path, ec_file_path, output_file)\u001b[39m\n\u001b[32m     64\u001b[39m all_features = []\n\u001b[32m     66\u001b[39m raw_eo = mne.io.read_raw_fif(eo_file_path, preload=\u001b[38;5;28;01mTrue\u001b[39;00m)\n\u001b[32m---> \u001b[39m\u001b[32m67\u001b[39m features_eo = \u001b[43mextract_channel_features\u001b[49m\u001b[43m(\u001b[49m\u001b[43mraw_eo\u001b[49m\u001b[43m,\u001b[49m\u001b[43m \u001b[49m\u001b[33;43m\"\u001b[39;49m\u001b[33;43mec\u001b[39;49m\u001b[33;43m\"\u001b[39;49m\u001b[43m)\u001b[49m\n\u001b[32m     68\u001b[39m all_features.append(features_eo)\n\u001b[32m     70\u001b[39m raw_ec = mne.io.read_raw_fif(ec_file_path, preload=\u001b[38;5;28;01mTrue\u001b[39;00m)\n",
      "\u001b[36mCell\u001b[39m\u001b[36m \u001b[39m\u001b[32mIn[4]\u001b[39m\u001b[32m, line 38\u001b[39m, in \u001b[36mextract_channel_features\u001b[39m\u001b[34m(raw, condition, fmin, fmax)\u001b[39m\n\u001b[32m     35\u001b[39m     features[\u001b[33mf\u001b[39m\u001b[33m'\u001b[39m\u001b[38;5;132;01m{\u001b[39;00mkey_prefix\u001b[38;5;132;01m}\u001b[39;00m\u001b[33m_wavelet_entropy\u001b[39m\u001b[33m'\u001b[39m] = wavelet_entropy\n\u001b[32m     37\u001b[39m \u001b[38;5;66;03m# Compute PSD using Welch's method\u001b[39;00m\n\u001b[32m---> \u001b[39m\u001b[32m38\u001b[39m psd = \u001b[43mraw\u001b[49m\u001b[43m.\u001b[49m\u001b[43mcompute_psd\u001b[49m\u001b[43m(\u001b[49m\u001b[43mmethod\u001b[49m\u001b[43m=\u001b[49m\u001b[33;43m'\u001b[39;49m\u001b[33;43mwelch\u001b[39;49m\u001b[33;43m'\u001b[39;49m\u001b[43m,\u001b[49m\u001b[43m \u001b[49m\u001b[43mfmin\u001b[49m\u001b[43m=\u001b[49m\u001b[43mfmin\u001b[49m\u001b[43m,\u001b[49m\u001b[43m \u001b[49m\u001b[43mfmax\u001b[49m\u001b[43m=\u001b[49m\u001b[43mfmax\u001b[49m\u001b[43m,\u001b[49m\u001b[43m \u001b[49m\u001b[43mn_fft\u001b[49m\u001b[43m=\u001b[49m\u001b[32;43m2048\u001b[39;49m\u001b[43m)\u001b[49m\n\u001b[32m     39\u001b[39m psd_data = psd.get_data()\n\u001b[32m     40\u001b[39m freqs = psd.freqs\n",
      "\u001b[36mFile \u001b[39m\u001b[32m<decorator-gen-271>:12\u001b[39m, in \u001b[36mcompute_psd\u001b[39m\u001b[34m(self, method, fmin, fmax, tmin, tmax, picks, exclude, proj, remove_dc, reject_by_annotation, n_jobs, verbose, **method_kw)\u001b[39m\n",
      "\u001b[36mFile \u001b[39m\u001b[32m~/Desktop/Team_4/.venv/lib/python3.12/site-packages/mne/io/base.py:2326\u001b[39m, in \u001b[36mBaseRaw.compute_psd\u001b[39m\u001b[34m(self, method, fmin, fmax, tmin, tmax, picks, exclude, proj, remove_dc, reject_by_annotation, n_jobs, verbose, **method_kw)\u001b[39m\n\u001b[32m   2323\u001b[39m method = _validate_method(method, \u001b[38;5;28mtype\u001b[39m(\u001b[38;5;28mself\u001b[39m).\u001b[34m__name__\u001b[39m)\n\u001b[32m   2324\u001b[39m \u001b[38;5;28mself\u001b[39m._set_legacy_nfft_default(tmin, tmax, method, method_kw)\n\u001b[32m-> \u001b[39m\u001b[32m2326\u001b[39m \u001b[38;5;28;01mreturn\u001b[39;00m \u001b[43mSpectrum\u001b[49m\u001b[43m(\u001b[49m\n\u001b[32m   2327\u001b[39m \u001b[43m    \u001b[49m\u001b[38;5;28;43mself\u001b[39;49m\u001b[43m,\u001b[49m\n\u001b[32m   2328\u001b[39m \u001b[43m    \u001b[49m\u001b[43mmethod\u001b[49m\u001b[43m=\u001b[49m\u001b[43mmethod\u001b[49m\u001b[43m,\u001b[49m\n\u001b[32m   2329\u001b[39m \u001b[43m    \u001b[49m\u001b[43mfmin\u001b[49m\u001b[43m=\u001b[49m\u001b[43mfmin\u001b[49m\u001b[43m,\u001b[49m\n\u001b[32m   2330\u001b[39m \u001b[43m    \u001b[49m\u001b[43mfmax\u001b[49m\u001b[43m=\u001b[49m\u001b[43mfmax\u001b[49m\u001b[43m,\u001b[49m\n\u001b[32m   2331\u001b[39m \u001b[43m    \u001b[49m\u001b[43mtmin\u001b[49m\u001b[43m=\u001b[49m\u001b[43mtmin\u001b[49m\u001b[43m,\u001b[49m\n\u001b[32m   2332\u001b[39m \u001b[43m    \u001b[49m\u001b[43mtmax\u001b[49m\u001b[43m=\u001b[49m\u001b[43mtmax\u001b[49m\u001b[43m,\u001b[49m\n\u001b[32m   2333\u001b[39m \u001b[43m    \u001b[49m\u001b[43mpicks\u001b[49m\u001b[43m=\u001b[49m\u001b[43mpicks\u001b[49m\u001b[43m,\u001b[49m\n\u001b[32m   2334\u001b[39m \u001b[43m    \u001b[49m\u001b[43mexclude\u001b[49m\u001b[43m=\u001b[49m\u001b[43mexclude\u001b[49m\u001b[43m,\u001b[49m\n\u001b[32m   2335\u001b[39m \u001b[43m    \u001b[49m\u001b[43mproj\u001b[49m\u001b[43m=\u001b[49m\u001b[43mproj\u001b[49m\u001b[43m,\u001b[49m\n\u001b[32m   2336\u001b[39m \u001b[43m    \u001b[49m\u001b[43mremove_dc\u001b[49m\u001b[43m=\u001b[49m\u001b[43mremove_dc\u001b[49m\u001b[43m,\u001b[49m\n\u001b[32m   2337\u001b[39m \u001b[43m    \u001b[49m\u001b[43mreject_by_annotation\u001b[49m\u001b[43m=\u001b[49m\u001b[43mreject_by_annotation\u001b[49m\u001b[43m,\u001b[49m\n\u001b[32m   2338\u001b[39m \u001b[43m    \u001b[49m\u001b[43mn_jobs\u001b[49m\u001b[43m=\u001b[49m\u001b[43mn_jobs\u001b[49m\u001b[43m,\u001b[49m\n\u001b[32m   2339\u001b[39m \u001b[43m    \u001b[49m\u001b[43mverbose\u001b[49m\u001b[43m=\u001b[49m\u001b[43mverbose\u001b[49m\u001b[43m,\u001b[49m\n\u001b[32m   2340\u001b[39m \u001b[43m    \u001b[49m\u001b[43m*\u001b[49m\u001b[43m*\u001b[49m\u001b[43mmethod_kw\u001b[49m\u001b[43m,\u001b[49m\n\u001b[32m   2341\u001b[39m \u001b[43m\u001b[49m\u001b[43m)\u001b[49m\n",
      "\u001b[36mFile \u001b[39m\u001b[32m~/Desktop/Team_4/.venv/lib/python3.12/site-packages/mne/time_frequency/spectrum.py:1176\u001b[39m, in \u001b[36mSpectrum.__init__\u001b[39m\u001b[34m(self, inst, method, fmin, fmax, tmin, tmax, picks, exclude, proj, remove_dc, reject_by_annotation, n_jobs, verbose, **method_kw)\u001b[39m\n\u001b[32m   1174\u001b[39m \u001b[38;5;28mself\u001b[39m._nave = \u001b[38;5;28mgetattr\u001b[39m(inst, \u001b[33m\"\u001b[39m\u001b[33mnave\u001b[39m\u001b[33m\"\u001b[39m, \u001b[38;5;28;01mNone\u001b[39;00m)\n\u001b[32m   1175\u001b[39m \u001b[38;5;66;03m# compute the spectra\u001b[39;00m\n\u001b[32m-> \u001b[39m\u001b[32m1176\u001b[39m \u001b[38;5;28;43mself\u001b[39;49m\u001b[43m.\u001b[49m\u001b[43m_compute_spectra\u001b[49m\u001b[43m(\u001b[49m\u001b[43mdata\u001b[49m\u001b[43m,\u001b[49m\u001b[43m \u001b[49m\u001b[43mfmin\u001b[49m\u001b[43m,\u001b[49m\u001b[43m \u001b[49m\u001b[43mfmax\u001b[49m\u001b[43m,\u001b[49m\u001b[43m \u001b[49m\u001b[43mn_jobs\u001b[49m\u001b[43m,\u001b[49m\u001b[43m \u001b[49m\u001b[43mmethod_kw\u001b[49m\u001b[43m,\u001b[49m\u001b[43m \u001b[49m\u001b[43mverbose\u001b[49m\u001b[43m)\u001b[49m\n\u001b[32m   1177\u001b[39m \u001b[38;5;66;03m# check for correct shape and bad values\u001b[39;00m\n\u001b[32m   1178\u001b[39m \u001b[38;5;28mself\u001b[39m._check_values()\n",
      "\u001b[36mFile \u001b[39m\u001b[32m~/Desktop/Team_4/.venv/lib/python3.12/site-packages/mne/time_frequency/spectrum.py:450\u001b[39m, in \u001b[36mBaseSpectrum._compute_spectra\u001b[39m\u001b[34m(self, data, fmin, fmax, n_jobs, method_kw, verbose)\u001b[39m\n\u001b[32m    448\u001b[39m \u001b[38;5;28;01mdef\u001b[39;00m\u001b[38;5;250m \u001b[39m\u001b[34m_compute_spectra\u001b[39m(\u001b[38;5;28mself\u001b[39m, data, fmin, fmax, n_jobs, method_kw, verbose):\n\u001b[32m    449\u001b[39m     \u001b[38;5;66;03m# make the spectra\u001b[39;00m\n\u001b[32m--> \u001b[39m\u001b[32m450\u001b[39m     result = \u001b[38;5;28;43mself\u001b[39;49m\u001b[43m.\u001b[49m\u001b[43m_psd_func\u001b[49m\u001b[43m(\u001b[49m\n\u001b[32m    451\u001b[39m \u001b[43m        \u001b[49m\u001b[43mdata\u001b[49m\u001b[43m,\u001b[49m\u001b[43m \u001b[49m\u001b[38;5;28;43mself\u001b[39;49m\u001b[43m.\u001b[49m\u001b[43msfreq\u001b[49m\u001b[43m,\u001b[49m\u001b[43m \u001b[49m\u001b[43mfmin\u001b[49m\u001b[43m=\u001b[49m\u001b[43mfmin\u001b[49m\u001b[43m,\u001b[49m\u001b[43m \u001b[49m\u001b[43mfmax\u001b[49m\u001b[43m=\u001b[49m\u001b[43mfmax\u001b[49m\u001b[43m,\u001b[49m\u001b[43m \u001b[49m\u001b[43mn_jobs\u001b[49m\u001b[43m=\u001b[49m\u001b[43mn_jobs\u001b[49m\u001b[43m,\u001b[49m\u001b[43m \u001b[49m\u001b[43mverbose\u001b[49m\u001b[43m=\u001b[49m\u001b[43mverbose\u001b[49m\n\u001b[32m    452\u001b[39m \u001b[43m    \u001b[49m\u001b[43m)\u001b[49m\n\u001b[32m    453\u001b[39m     \u001b[38;5;66;03m# assign ._data (handling unaggregated multitaper output)\u001b[39;00m\n\u001b[32m    454\u001b[39m     \u001b[38;5;28;01mif\u001b[39;00m \u001b[38;5;28mself\u001b[39m._returns_complex_tapers(**method_kw):\n",
      "\u001b[36mFile \u001b[39m\u001b[32m<decorator-gen-149>:12\u001b[39m, in \u001b[36mpsd_array_welch\u001b[39m\u001b[34m(x, sfreq, fmin, fmax, n_fft, n_overlap, n_per_seg, n_jobs, average, window, remove_dc, output, verbose)\u001b[39m\n",
      "\u001b[36mFile \u001b[39m\u001b[32m~/Desktop/Team_4/.venv/lib/python3.12/site-packages/mne/time_frequency/psd.py:192\u001b[39m, in \u001b[36mpsd_array_welch\u001b[39m\u001b[34m(x, sfreq, fmin, fmax, n_fft, n_overlap, n_per_seg, n_jobs, average, window, remove_dc, output, verbose)\u001b[39m\n\u001b[32m    189\u001b[39m x = x.reshape(-\u001b[32m1\u001b[39m, n_times)\n\u001b[32m    191\u001b[39m \u001b[38;5;66;03m# Prep the PSD\u001b[39;00m\n\u001b[32m--> \u001b[39m\u001b[32m192\u001b[39m n_fft, n_per_seg, n_overlap = \u001b[43m_check_nfft\u001b[49m\u001b[43m(\u001b[49m\u001b[43mn_times\u001b[49m\u001b[43m,\u001b[49m\u001b[43m \u001b[49m\u001b[43mn_fft\u001b[49m\u001b[43m,\u001b[49m\u001b[43m \u001b[49m\u001b[43mn_per_seg\u001b[49m\u001b[43m,\u001b[49m\u001b[43m \u001b[49m\u001b[43mn_overlap\u001b[49m\u001b[43m)\u001b[49m\n\u001b[32m    193\u001b[39m win_size = n_fft / \u001b[38;5;28mfloat\u001b[39m(sfreq)\n\u001b[32m    194\u001b[39m logger.info(\u001b[33mf\u001b[39m\u001b[33m\"\u001b[39m\u001b[33mEffective window size : \u001b[39m\u001b[38;5;132;01m{\u001b[39;00mwin_size\u001b[38;5;132;01m:\u001b[39;00m\u001b[33m0.3f\u001b[39m\u001b[38;5;132;01m}\u001b[39;00m\u001b[33m (s)\u001b[39m\u001b[33m\"\u001b[39m)\n",
      "\u001b[36mFile \u001b[39m\u001b[32m~/Desktop/Team_4/.venv/lib/python3.12/site-packages/mne/time_frequency/psd.py:80\u001b[39m, in \u001b[36m_check_nfft\u001b[39m\u001b[34m(n, n_fft, n_per_seg, n_overlap)\u001b[39m\n\u001b[32m     78\u001b[39m \u001b[38;5;250m\u001b[39m\u001b[33;03m\"\"\"Ensure n_fft, n_per_seg and n_overlap make sense.\"\"\"\u001b[39;00m\n\u001b[32m     79\u001b[39m \u001b[38;5;28;01mif\u001b[39;00m n_per_seg \u001b[38;5;129;01mis\u001b[39;00m \u001b[38;5;28;01mNone\u001b[39;00m \u001b[38;5;129;01mand\u001b[39;00m n_fft > n:\n\u001b[32m---> \u001b[39m\u001b[32m80\u001b[39m     \u001b[38;5;28;01mraise\u001b[39;00m \u001b[38;5;167;01mValueError\u001b[39;00m(\n\u001b[32m     81\u001b[39m         \u001b[33m\"\u001b[39m\u001b[33mIf n_per_seg is None n_fft is not allowed to be > \u001b[39m\u001b[33m\"\u001b[39m\n\u001b[32m     82\u001b[39m         \u001b[33m\"\u001b[39m\u001b[33mn_times. If you want zero-padding, you have to set \u001b[39m\u001b[33m\"\u001b[39m\n\u001b[32m     83\u001b[39m         \u001b[33mf\u001b[39m\u001b[33m\"\u001b[39m\u001b[33mn_per_seg to relevant length. Got n_fft of \u001b[39m\u001b[38;5;132;01m{\u001b[39;00mn_fft\u001b[38;5;132;01m}\u001b[39;00m\u001b[33m while\u001b[39m\u001b[33m\"\u001b[39m\n\u001b[32m     84\u001b[39m         \u001b[33mf\u001b[39m\u001b[33m\"\u001b[39m\u001b[33m signal length is \u001b[39m\u001b[38;5;132;01m{\u001b[39;00mn\u001b[38;5;132;01m}\u001b[39;00m\u001b[33m.\u001b[39m\u001b[33m\"\u001b[39m\n\u001b[32m     85\u001b[39m     )\n\u001b[32m     86\u001b[39m n_per_seg = n_fft \u001b[38;5;28;01mif\u001b[39;00m n_per_seg \u001b[38;5;129;01mis\u001b[39;00m \u001b[38;5;28;01mNone\u001b[39;00m \u001b[38;5;129;01mor\u001b[39;00m n_per_seg > n_fft \u001b[38;5;28;01melse\u001b[39;00m n_per_seg\n\u001b[32m     87\u001b[39m n_per_seg = n \u001b[38;5;28;01mif\u001b[39;00m n_per_seg > n \u001b[38;5;28;01melse\u001b[39;00m n_per_seg\n",
      "\u001b[31mValueError\u001b[39m: If n_per_seg is None n_fft is not allowed to be > n_times. If you want zero-padding, you have to set n_per_seg to relevant length. Got n_fft of 2048 while signal length is 3."
     ]
    }
   ],
   "source": []
  },
  {
   "cell_type": "code",
   "execution_count": 8,
   "metadata": {},
   "outputs": [
    {
     "name": "stdout",
     "output_type": "stream",
     "text": [
      "Opening raw data file /home/admincit/Desktop/Team_4/split_fif/healthy/sub-87974617_ses-1_task-restEC_eeg_1.fif...\n",
      "Isotrak not found\n",
      "    Read a total of 1 projection items:\n",
      "        Average EEG reference (1 x 29)  idle\n",
      "    Range : 0 ... 29999 =      0.000 ...    59.998 secs\n",
      "Ready.\n",
      "Reading 0 ... 29999  =      0.000 ...    59.998 secs...\n"
     ]
    },
    {
     "name": "stderr",
     "output_type": "stream",
     "text": [
      "/tmp/ipykernel_2314511/2305656317.py:66: RuntimeWarning: This filename (/home/admincit/Desktop/Team_4/split_fif/healthy/sub-87974617_ses-1_task-restEC_eeg_1.fif) does not conform to MNE naming conventions. All raw files should end with raw.fif, raw_sss.fif, raw_tsss.fif, _meg.fif, _eeg.fif, _ieeg.fif, raw.fif.gz, raw_sss.fif.gz, raw_tsss.fif.gz, _meg.fif.gz, _eeg.fif.gz or _ieeg.fif.gz\n",
      "  raw_eo = mne.io.read_raw_fif(eo_file_path, preload=True)\n"
     ]
    },
    {
     "name": "stdout",
     "output_type": "stream",
     "text": [
      "Effective window size : 4.096 (s)\n",
      "Opening raw data file /home/admincit/Desktop/Team_4/split_fif/healthy/sub-87974617_ses-1_task-restEO_eeg_1.fif...\n",
      "Isotrak not found\n",
      "    Read a total of 1 projection items:\n",
      "        Average EEG reference (1 x 29)  idle\n",
      "    Range : 0 ... 29999 =      0.000 ...    59.998 secs\n",
      "Ready.\n",
      "Reading 0 ... 29999  =      0.000 ...    59.998 secs...\n"
     ]
    },
    {
     "name": "stderr",
     "output_type": "stream",
     "text": [
      "/tmp/ipykernel_2314511/2305656317.py:70: RuntimeWarning: This filename (/home/admincit/Desktop/Team_4/split_fif/healthy/sub-87974617_ses-1_task-restEO_eeg_1.fif) does not conform to MNE naming conventions. All raw files should end with raw.fif, raw_sss.fif, raw_tsss.fif, _meg.fif, _eeg.fif, _ieeg.fif, raw.fif.gz, raw_sss.fif.gz, raw_tsss.fif.gz, _meg.fif.gz, _eeg.fif.gz or _ieeg.fif.gz\n",
      "  raw_ec = mne.io.read_raw_fif(ec_file_path, preload=True)\n"
     ]
    },
    {
     "name": "stdout",
     "output_type": "stream",
     "text": [
      "Effective window size : 4.096 (s)\n",
      "Features saved to /home/admincit/Desktop/Team_4/split_fif/healthy_processed/sub-87974617_ses-1_task-restcombined_eeg_1.csv\n",
      "Opening raw data file /home/admincit/Desktop/Team_4/split_fif/healthy/sub-87974621_ses-1_task-restEC_eeg_1.fif...\n",
      "Isotrak not found\n",
      "    Read a total of 1 projection items:\n",
      "        Average EEG reference (1 x 29)  idle\n",
      "    Range : 0 ... 29999 =      0.000 ...    59.998 secs\n",
      "Ready.\n",
      "Reading 0 ... 29999  =      0.000 ...    59.998 secs...\n"
     ]
    },
    {
     "name": "stderr",
     "output_type": "stream",
     "text": [
      "/tmp/ipykernel_2314511/2305656317.py:66: RuntimeWarning: This filename (/home/admincit/Desktop/Team_4/split_fif/healthy/sub-87974621_ses-1_task-restEC_eeg_1.fif) does not conform to MNE naming conventions. All raw files should end with raw.fif, raw_sss.fif, raw_tsss.fif, _meg.fif, _eeg.fif, _ieeg.fif, raw.fif.gz, raw_sss.fif.gz, raw_tsss.fif.gz, _meg.fif.gz, _eeg.fif.gz or _ieeg.fif.gz\n",
      "  raw_eo = mne.io.read_raw_fif(eo_file_path, preload=True)\n"
     ]
    },
    {
     "name": "stdout",
     "output_type": "stream",
     "text": [
      "Effective window size : 4.096 (s)\n",
      "Opening raw data file /home/admincit/Desktop/Team_4/split_fif/healthy/sub-87974621_ses-1_task-restEO_eeg_1.fif...\n",
      "Isotrak not found\n",
      "    Read a total of 1 projection items:\n",
      "        Average EEG reference (1 x 29)  idle\n",
      "    Range : 0 ... 29999 =      0.000 ...    59.998 secs\n",
      "Ready.\n",
      "Reading 0 ... 29999  =      0.000 ...    59.998 secs...\n"
     ]
    },
    {
     "name": "stderr",
     "output_type": "stream",
     "text": [
      "/tmp/ipykernel_2314511/2305656317.py:70: RuntimeWarning: This filename (/home/admincit/Desktop/Team_4/split_fif/healthy/sub-87974621_ses-1_task-restEO_eeg_1.fif) does not conform to MNE naming conventions. All raw files should end with raw.fif, raw_sss.fif, raw_tsss.fif, _meg.fif, _eeg.fif, _ieeg.fif, raw.fif.gz, raw_sss.fif.gz, raw_tsss.fif.gz, _meg.fif.gz, _eeg.fif.gz or _ieeg.fif.gz\n",
      "  raw_ec = mne.io.read_raw_fif(ec_file_path, preload=True)\n"
     ]
    },
    {
     "name": "stdout",
     "output_type": "stream",
     "text": [
      "Effective window size : 4.096 (s)\n",
      "Features saved to /home/admincit/Desktop/Team_4/split_fif/healthy_processed/sub-87974621_ses-1_task-restcombined_eeg_1.csv\n",
      "Opening raw data file /home/admincit/Desktop/Team_4/split_fif/healthy/sub-87974665_ses-1_task-restEC_eeg_1.fif...\n",
      "Isotrak not found\n",
      "    Read a total of 1 projection items:\n",
      "        Average EEG reference (1 x 29)  idle\n",
      "    Range : 0 ... 29999 =      0.000 ...    59.998 secs\n",
      "Ready.\n",
      "Reading 0 ... 29999  =      0.000 ...    59.998 secs...\n"
     ]
    },
    {
     "name": "stderr",
     "output_type": "stream",
     "text": [
      "/tmp/ipykernel_2314511/2305656317.py:66: RuntimeWarning: This filename (/home/admincit/Desktop/Team_4/split_fif/healthy/sub-87974665_ses-1_task-restEC_eeg_1.fif) does not conform to MNE naming conventions. All raw files should end with raw.fif, raw_sss.fif, raw_tsss.fif, _meg.fif, _eeg.fif, _ieeg.fif, raw.fif.gz, raw_sss.fif.gz, raw_tsss.fif.gz, _meg.fif.gz, _eeg.fif.gz or _ieeg.fif.gz\n",
      "  raw_eo = mne.io.read_raw_fif(eo_file_path, preload=True)\n"
     ]
    },
    {
     "name": "stdout",
     "output_type": "stream",
     "text": [
      "Effective window size : 4.096 (s)\n",
      "Opening raw data file /home/admincit/Desktop/Team_4/split_fif/healthy/sub-87974665_ses-1_task-restEO_eeg_1.fif...\n",
      "Isotrak not found\n",
      "    Read a total of 1 projection items:\n",
      "        Average EEG reference (1 x 29)  idle\n",
      "    Range : 0 ... 29999 =      0.000 ...    59.998 secs\n",
      "Ready.\n",
      "Reading 0 ... 29999  =      0.000 ...    59.998 secs...\n"
     ]
    },
    {
     "name": "stderr",
     "output_type": "stream",
     "text": [
      "/tmp/ipykernel_2314511/2305656317.py:70: RuntimeWarning: This filename (/home/admincit/Desktop/Team_4/split_fif/healthy/sub-87974665_ses-1_task-restEO_eeg_1.fif) does not conform to MNE naming conventions. All raw files should end with raw.fif, raw_sss.fif, raw_tsss.fif, _meg.fif, _eeg.fif, _ieeg.fif, raw.fif.gz, raw_sss.fif.gz, raw_tsss.fif.gz, _meg.fif.gz, _eeg.fif.gz or _ieeg.fif.gz\n",
      "  raw_ec = mne.io.read_raw_fif(ec_file_path, preload=True)\n"
     ]
    },
    {
     "name": "stdout",
     "output_type": "stream",
     "text": [
      "Effective window size : 4.096 (s)\n",
      "Features saved to /home/admincit/Desktop/Team_4/split_fif/healthy_processed/sub-87974665_ses-1_task-restcombined_eeg_1.csv\n",
      "Opening raw data file /home/admincit/Desktop/Team_4/split_fif/healthy/sub-87974709_ses-1_task-restEC_eeg_1.fif...\n",
      "Isotrak not found\n",
      "    Read a total of 1 projection items:\n",
      "        Average EEG reference (1 x 29)  idle\n",
      "    Range : 0 ... 29999 =      0.000 ...    59.998 secs\n",
      "Ready.\n",
      "Reading 0 ... 29999  =      0.000 ...    59.998 secs...\n"
     ]
    },
    {
     "name": "stderr",
     "output_type": "stream",
     "text": [
      "/tmp/ipykernel_2314511/2305656317.py:66: RuntimeWarning: This filename (/home/admincit/Desktop/Team_4/split_fif/healthy/sub-87974709_ses-1_task-restEC_eeg_1.fif) does not conform to MNE naming conventions. All raw files should end with raw.fif, raw_sss.fif, raw_tsss.fif, _meg.fif, _eeg.fif, _ieeg.fif, raw.fif.gz, raw_sss.fif.gz, raw_tsss.fif.gz, _meg.fif.gz, _eeg.fif.gz or _ieeg.fif.gz\n",
      "  raw_eo = mne.io.read_raw_fif(eo_file_path, preload=True)\n"
     ]
    },
    {
     "name": "stdout",
     "output_type": "stream",
     "text": [
      "Effective window size : 4.096 (s)\n",
      "Opening raw data file /home/admincit/Desktop/Team_4/split_fif/healthy/sub-87974709_ses-1_task-restEO_eeg_1.fif...\n",
      "Isotrak not found\n",
      "    Read a total of 1 projection items:\n",
      "        Average EEG reference (1 x 29)  idle\n",
      "    Range : 0 ... 29999 =      0.000 ...    59.998 secs\n",
      "Ready.\n",
      "Reading 0 ... 29999  =      0.000 ...    59.998 secs...\n"
     ]
    },
    {
     "name": "stderr",
     "output_type": "stream",
     "text": [
      "/tmp/ipykernel_2314511/2305656317.py:70: RuntimeWarning: This filename (/home/admincit/Desktop/Team_4/split_fif/healthy/sub-87974709_ses-1_task-restEO_eeg_1.fif) does not conform to MNE naming conventions. All raw files should end with raw.fif, raw_sss.fif, raw_tsss.fif, _meg.fif, _eeg.fif, _ieeg.fif, raw.fif.gz, raw_sss.fif.gz, raw_tsss.fif.gz, _meg.fif.gz, _eeg.fif.gz or _ieeg.fif.gz\n",
      "  raw_ec = mne.io.read_raw_fif(ec_file_path, preload=True)\n"
     ]
    },
    {
     "name": "stdout",
     "output_type": "stream",
     "text": [
      "Effective window size : 4.096 (s)\n",
      "Features saved to /home/admincit/Desktop/Team_4/split_fif/healthy_processed/sub-87974709_ses-1_task-restcombined_eeg_1.csv\n",
      "Opening raw data file /home/admincit/Desktop/Team_4/split_fif/healthy/sub-87974841_ses-1_task-restEC_eeg_1.fif...\n",
      "Isotrak not found\n",
      "    Read a total of 1 projection items:\n",
      "        Average EEG reference (1 x 29)  idle\n",
      "    Range : 0 ... 29999 =      0.000 ...    59.998 secs\n",
      "Ready.\n",
      "Reading 0 ... 29999  =      0.000 ...    59.998 secs...\n"
     ]
    },
    {
     "name": "stderr",
     "output_type": "stream",
     "text": [
      "/tmp/ipykernel_2314511/2305656317.py:66: RuntimeWarning: This filename (/home/admincit/Desktop/Team_4/split_fif/healthy/sub-87974841_ses-1_task-restEC_eeg_1.fif) does not conform to MNE naming conventions. All raw files should end with raw.fif, raw_sss.fif, raw_tsss.fif, _meg.fif, _eeg.fif, _ieeg.fif, raw.fif.gz, raw_sss.fif.gz, raw_tsss.fif.gz, _meg.fif.gz, _eeg.fif.gz or _ieeg.fif.gz\n",
      "  raw_eo = mne.io.read_raw_fif(eo_file_path, preload=True)\n"
     ]
    },
    {
     "name": "stdout",
     "output_type": "stream",
     "text": [
      "Effective window size : 4.096 (s)\n",
      "Opening raw data file /home/admincit/Desktop/Team_4/split_fif/healthy/sub-87974841_ses-1_task-restEO_eeg_1.fif...\n",
      "Isotrak not found\n",
      "    Read a total of 1 projection items:\n",
      "        Average EEG reference (1 x 29)  idle\n",
      "    Range : 0 ... 29999 =      0.000 ...    59.998 secs\n",
      "Ready.\n",
      "Reading 0 ... 29999  =      0.000 ...    59.998 secs...\n"
     ]
    },
    {
     "name": "stderr",
     "output_type": "stream",
     "text": [
      "/tmp/ipykernel_2314511/2305656317.py:70: RuntimeWarning: This filename (/home/admincit/Desktop/Team_4/split_fif/healthy/sub-87974841_ses-1_task-restEO_eeg_1.fif) does not conform to MNE naming conventions. All raw files should end with raw.fif, raw_sss.fif, raw_tsss.fif, _meg.fif, _eeg.fif, _ieeg.fif, raw.fif.gz, raw_sss.fif.gz, raw_tsss.fif.gz, _meg.fif.gz, _eeg.fif.gz or _ieeg.fif.gz\n",
      "  raw_ec = mne.io.read_raw_fif(ec_file_path, preload=True)\n"
     ]
    },
    {
     "name": "stdout",
     "output_type": "stream",
     "text": [
      "Effective window size : 4.096 (s)\n",
      "Features saved to /home/admincit/Desktop/Team_4/split_fif/healthy_processed/sub-87974841_ses-1_task-restcombined_eeg_1.csv\n",
      "Opening raw data file /home/admincit/Desktop/Team_4/split_fif/healthy/sub-87974973_ses-1_task-restEC_eeg_1.fif...\n",
      "Isotrak not found\n",
      "    Read a total of 1 projection items:\n",
      "        Average EEG reference (1 x 29)  idle\n",
      "    Range : 0 ... 29999 =      0.000 ...    59.998 secs\n",
      "Ready.\n",
      "Reading 0 ... 29999  =      0.000 ...    59.998 secs...\n"
     ]
    },
    {
     "name": "stderr",
     "output_type": "stream",
     "text": [
      "/tmp/ipykernel_2314511/2305656317.py:66: RuntimeWarning: This filename (/home/admincit/Desktop/Team_4/split_fif/healthy/sub-87974973_ses-1_task-restEC_eeg_1.fif) does not conform to MNE naming conventions. All raw files should end with raw.fif, raw_sss.fif, raw_tsss.fif, _meg.fif, _eeg.fif, _ieeg.fif, raw.fif.gz, raw_sss.fif.gz, raw_tsss.fif.gz, _meg.fif.gz, _eeg.fif.gz or _ieeg.fif.gz\n",
      "  raw_eo = mne.io.read_raw_fif(eo_file_path, preload=True)\n"
     ]
    },
    {
     "name": "stdout",
     "output_type": "stream",
     "text": [
      "Effective window size : 4.096 (s)\n",
      "Opening raw data file /home/admincit/Desktop/Team_4/split_fif/healthy/sub-87974973_ses-1_task-restEO_eeg_1.fif...\n",
      "Isotrak not found\n",
      "    Read a total of 1 projection items:\n",
      "        Average EEG reference (1 x 29)  idle\n",
      "    Range : 0 ... 29999 =      0.000 ...    59.998 secs\n",
      "Ready.\n",
      "Reading 0 ... 29999  =      0.000 ...    59.998 secs...\n"
     ]
    },
    {
     "name": "stderr",
     "output_type": "stream",
     "text": [
      "/tmp/ipykernel_2314511/2305656317.py:70: RuntimeWarning: This filename (/home/admincit/Desktop/Team_4/split_fif/healthy/sub-87974973_ses-1_task-restEO_eeg_1.fif) does not conform to MNE naming conventions. All raw files should end with raw.fif, raw_sss.fif, raw_tsss.fif, _meg.fif, _eeg.fif, _ieeg.fif, raw.fif.gz, raw_sss.fif.gz, raw_tsss.fif.gz, _meg.fif.gz, _eeg.fif.gz or _ieeg.fif.gz\n",
      "  raw_ec = mne.io.read_raw_fif(ec_file_path, preload=True)\n"
     ]
    },
    {
     "name": "stdout",
     "output_type": "stream",
     "text": [
      "Effective window size : 4.096 (s)\n",
      "Features saved to /home/admincit/Desktop/Team_4/split_fif/healthy_processed/sub-87974973_ses-1_task-restcombined_eeg_1.csv\n",
      "Opening raw data file /home/admincit/Desktop/Team_4/split_fif/healthy/sub-87976193_ses-1_task-restEC_eeg_1.fif...\n",
      "Isotrak not found\n",
      "    Read a total of 1 projection items:\n",
      "        Average EEG reference (1 x 29)  idle\n",
      "    Range : 0 ... 29999 =      0.000 ...    59.998 secs\n",
      "Ready.\n",
      "Reading 0 ... 29999  =      0.000 ...    59.998 secs...\n"
     ]
    },
    {
     "name": "stderr",
     "output_type": "stream",
     "text": [
      "/tmp/ipykernel_2314511/2305656317.py:66: RuntimeWarning: This filename (/home/admincit/Desktop/Team_4/split_fif/healthy/sub-87976193_ses-1_task-restEC_eeg_1.fif) does not conform to MNE naming conventions. All raw files should end with raw.fif, raw_sss.fif, raw_tsss.fif, _meg.fif, _eeg.fif, _ieeg.fif, raw.fif.gz, raw_sss.fif.gz, raw_tsss.fif.gz, _meg.fif.gz, _eeg.fif.gz or _ieeg.fif.gz\n",
      "  raw_eo = mne.io.read_raw_fif(eo_file_path, preload=True)\n"
     ]
    },
    {
     "name": "stdout",
     "output_type": "stream",
     "text": [
      "Effective window size : 4.096 (s)\n",
      "Opening raw data file /home/admincit/Desktop/Team_4/split_fif/healthy/sub-87976193_ses-1_task-restEO_eeg_1.fif...\n",
      "Isotrak not found\n",
      "    Read a total of 1 projection items:\n",
      "        Average EEG reference (1 x 29)  idle\n",
      "    Range : 0 ... 29999 =      0.000 ...    59.998 secs\n",
      "Ready.\n",
      "Reading 0 ... 29999  =      0.000 ...    59.998 secs...\n"
     ]
    },
    {
     "name": "stderr",
     "output_type": "stream",
     "text": [
      "/tmp/ipykernel_2314511/2305656317.py:70: RuntimeWarning: This filename (/home/admincit/Desktop/Team_4/split_fif/healthy/sub-87976193_ses-1_task-restEO_eeg_1.fif) does not conform to MNE naming conventions. All raw files should end with raw.fif, raw_sss.fif, raw_tsss.fif, _meg.fif, _eeg.fif, _ieeg.fif, raw.fif.gz, raw_sss.fif.gz, raw_tsss.fif.gz, _meg.fif.gz, _eeg.fif.gz or _ieeg.fif.gz\n",
      "  raw_ec = mne.io.read_raw_fif(ec_file_path, preload=True)\n"
     ]
    },
    {
     "name": "stdout",
     "output_type": "stream",
     "text": [
      "Effective window size : 4.096 (s)\n",
      "Features saved to /home/admincit/Desktop/Team_4/split_fif/healthy_processed/sub-87976193_ses-1_task-restcombined_eeg_1.csv\n",
      "Opening raw data file /home/admincit/Desktop/Team_4/split_fif/healthy/sub-87976369_ses-1_task-restEC_eeg_1.fif...\n",
      "Isotrak not found\n",
      "    Read a total of 1 projection items:\n",
      "        Average EEG reference (1 x 29)  idle\n",
      "    Range : 0 ... 29999 =      0.000 ...    59.998 secs\n",
      "Ready.\n",
      "Reading 0 ... 29999  =      0.000 ...    59.998 secs...\n"
     ]
    },
    {
     "name": "stderr",
     "output_type": "stream",
     "text": [
      "/tmp/ipykernel_2314511/2305656317.py:66: RuntimeWarning: This filename (/home/admincit/Desktop/Team_4/split_fif/healthy/sub-87976369_ses-1_task-restEC_eeg_1.fif) does not conform to MNE naming conventions. All raw files should end with raw.fif, raw_sss.fif, raw_tsss.fif, _meg.fif, _eeg.fif, _ieeg.fif, raw.fif.gz, raw_sss.fif.gz, raw_tsss.fif.gz, _meg.fif.gz, _eeg.fif.gz or _ieeg.fif.gz\n",
      "  raw_eo = mne.io.read_raw_fif(eo_file_path, preload=True)\n"
     ]
    },
    {
     "name": "stdout",
     "output_type": "stream",
     "text": [
      "Effective window size : 4.096 (s)\n",
      "Opening raw data file /home/admincit/Desktop/Team_4/split_fif/healthy/sub-87976369_ses-1_task-restEO_eeg_1.fif...\n",
      "Isotrak not found\n",
      "    Read a total of 1 projection items:\n",
      "        Average EEG reference (1 x 29)  idle\n",
      "    Range : 0 ... 29999 =      0.000 ...    59.998 secs\n",
      "Ready.\n",
      "Reading 0 ... 29999  =      0.000 ...    59.998 secs...\n"
     ]
    },
    {
     "name": "stderr",
     "output_type": "stream",
     "text": [
      "/tmp/ipykernel_2314511/2305656317.py:70: RuntimeWarning: This filename (/home/admincit/Desktop/Team_4/split_fif/healthy/sub-87976369_ses-1_task-restEO_eeg_1.fif) does not conform to MNE naming conventions. All raw files should end with raw.fif, raw_sss.fif, raw_tsss.fif, _meg.fif, _eeg.fif, _ieeg.fif, raw.fif.gz, raw_sss.fif.gz, raw_tsss.fif.gz, _meg.fif.gz, _eeg.fif.gz or _ieeg.fif.gz\n",
      "  raw_ec = mne.io.read_raw_fif(ec_file_path, preload=True)\n"
     ]
    },
    {
     "name": "stdout",
     "output_type": "stream",
     "text": [
      "Effective window size : 4.096 (s)\n",
      "Features saved to /home/admincit/Desktop/Team_4/split_fif/healthy_processed/sub-87976369_ses-1_task-restcombined_eeg_1.csv\n",
      "Opening raw data file /home/admincit/Desktop/Team_4/split_fif/healthy/sub-87976413_ses-1_task-restEC_eeg_1.fif...\n",
      "Isotrak not found\n",
      "    Read a total of 1 projection items:\n",
      "        Average EEG reference (1 x 29)  idle\n",
      "    Range : 0 ... 29999 =      0.000 ...    59.998 secs\n",
      "Ready.\n",
      "Reading 0 ... 29999  =      0.000 ...    59.998 secs...\n"
     ]
    },
    {
     "name": "stderr",
     "output_type": "stream",
     "text": [
      "/tmp/ipykernel_2314511/2305656317.py:66: RuntimeWarning: This filename (/home/admincit/Desktop/Team_4/split_fif/healthy/sub-87976413_ses-1_task-restEC_eeg_1.fif) does not conform to MNE naming conventions. All raw files should end with raw.fif, raw_sss.fif, raw_tsss.fif, _meg.fif, _eeg.fif, _ieeg.fif, raw.fif.gz, raw_sss.fif.gz, raw_tsss.fif.gz, _meg.fif.gz, _eeg.fif.gz or _ieeg.fif.gz\n",
      "  raw_eo = mne.io.read_raw_fif(eo_file_path, preload=True)\n"
     ]
    },
    {
     "name": "stdout",
     "output_type": "stream",
     "text": [
      "Effective window size : 4.096 (s)\n",
      "Opening raw data file /home/admincit/Desktop/Team_4/split_fif/healthy/sub-87976413_ses-1_task-restEO_eeg_1.fif...\n",
      "Isotrak not found\n",
      "    Read a total of 1 projection items:\n",
      "        Average EEG reference (1 x 29)  idle\n",
      "    Range : 0 ... 29999 =      0.000 ...    59.998 secs\n",
      "Ready.\n",
      "Reading 0 ... 29999  =      0.000 ...    59.998 secs...\n"
     ]
    },
    {
     "name": "stderr",
     "output_type": "stream",
     "text": [
      "/tmp/ipykernel_2314511/2305656317.py:70: RuntimeWarning: This filename (/home/admincit/Desktop/Team_4/split_fif/healthy/sub-87976413_ses-1_task-restEO_eeg_1.fif) does not conform to MNE naming conventions. All raw files should end with raw.fif, raw_sss.fif, raw_tsss.fif, _meg.fif, _eeg.fif, _ieeg.fif, raw.fif.gz, raw_sss.fif.gz, raw_tsss.fif.gz, _meg.fif.gz, _eeg.fif.gz or _ieeg.fif.gz\n",
      "  raw_ec = mne.io.read_raw_fif(ec_file_path, preload=True)\n"
     ]
    },
    {
     "ename": "KeyboardInterrupt",
     "evalue": "",
     "output_type": "error",
     "traceback": [
      "\u001b[31m---------------------------------------------------------------------------\u001b[39m",
      "\u001b[31mKeyboardInterrupt\u001b[39m                         Traceback (most recent call last)",
      "\u001b[36mCell\u001b[39m\u001b[36m \u001b[39m\u001b[32mIn[8]\u001b[39m\u001b[32m, line 4\u001b[39m\n\u001b[32m      2\u001b[39m source_folder = \u001b[33m\"\u001b[39m\u001b[33m/home/admincit/Desktop/Team_4/split_fif/healthy\u001b[39m\u001b[33m\"\u001b[39m\n\u001b[32m      3\u001b[39m destination_folder = \u001b[33m\"\u001b[39m\u001b[33m/home/admincit/Desktop/Team_4/split_fif/healthy_processed\u001b[39m\u001b[33m\"\u001b[39m\n\u001b[32m----> \u001b[39m\u001b[32m4\u001b[39m \u001b[43mprocess_folder\u001b[49m\u001b[43m(\u001b[49m\u001b[43msource_folder\u001b[49m\u001b[43m,\u001b[49m\u001b[43m \u001b[49m\u001b[43mdestination_folder\u001b[49m\u001b[43m)\u001b[49m\n",
      "\u001b[36mCell\u001b[39m\u001b[36m \u001b[39m\u001b[32mIn[5]\u001b[39m\u001b[32m, line 19\u001b[39m, in \u001b[36mprocess_folder\u001b[39m\u001b[34m(source_folder, destination_folder)\u001b[39m\n\u001b[32m     16\u001b[39m     eo_path = os.path.join(source_folder, eo_file)\n\u001b[32m     17\u001b[39m     output_path = os.path.join(destination_folder, base_name + \u001b[33m\"\u001b[39m\u001b[33mrestcombined_eeg_1.csv\u001b[39m\u001b[33m\"\u001b[39m)\n\u001b[32m---> \u001b[39m\u001b[32m19\u001b[39m     \u001b[43mprocess_and_combine\u001b[49m\u001b[43m(\u001b[49m\u001b[43mec_path\u001b[49m\u001b[43m,\u001b[49m\u001b[43m \u001b[49m\u001b[43meo_path\u001b[49m\u001b[43m,\u001b[49m\u001b[43m \u001b[49m\u001b[43moutput_path\u001b[49m\u001b[43m)\u001b[49m\n\u001b[32m     20\u001b[39m \u001b[38;5;28;01melse\u001b[39;00m:\n\u001b[32m     21\u001b[39m     \u001b[38;5;28mprint\u001b[39m(\u001b[33mf\u001b[39m\u001b[33m\"\u001b[39m\u001b[33mWarning: No matching EO file found for \u001b[39m\u001b[38;5;132;01m{\u001b[39;00mec_file\u001b[38;5;132;01m}\u001b[39;00m\u001b[33m\"\u001b[39m)\n",
      "\u001b[36mCell\u001b[39m\u001b[36m \u001b[39m\u001b[32mIn[4]\u001b[39m\u001b[32m, line 71\u001b[39m, in \u001b[36mprocess_and_combine\u001b[39m\u001b[34m(eo_file_path, ec_file_path, output_file)\u001b[39m\n\u001b[32m     68\u001b[39m all_features.append(features_eo)\n\u001b[32m     70\u001b[39m raw_ec = mne.io.read_raw_fif(ec_file_path, preload=\u001b[38;5;28;01mTrue\u001b[39;00m)\n\u001b[32m---> \u001b[39m\u001b[32m71\u001b[39m features_ec = \u001b[43mextract_channel_features\u001b[49m\u001b[43m(\u001b[49m\u001b[43mraw_ec\u001b[49m\u001b[43m,\u001b[49m\u001b[43m \u001b[49m\u001b[33;43m\"\u001b[39;49m\u001b[33;43meo\u001b[39;49m\u001b[33;43m\"\u001b[39;49m\u001b[43m)\u001b[49m\n\u001b[32m     72\u001b[39m all_features.append(features_ec)\n\u001b[32m     74\u001b[39m combined_features = cudf.concat(all_features, axis=\u001b[32m1\u001b[39m)\n",
      "\u001b[36mCell\u001b[39m\u001b[36m \u001b[39m\u001b[32mIn[4]\u001b[39m\u001b[32m, line 24\u001b[39m, in \u001b[36mextract_channel_features\u001b[39m\u001b[34m(raw, condition, fmin, fmax)\u001b[39m\n\u001b[32m     21\u001b[39m features[\u001b[33mf\u001b[39m\u001b[33m'\u001b[39m\u001b[38;5;132;01m{\u001b[39;00mkey_prefix\u001b[38;5;132;01m}\u001b[39;00m\u001b[33m_fft_max\u001b[39m\u001b[33m'\u001b[39m] = cp.max(fft_values).get()\n\u001b[32m     23\u001b[39m \u001b[38;5;66;03m# GPU-based Wavelet Transform\u001b[39;00m\n\u001b[32m---> \u001b[39m\u001b[32m24\u001b[39m coeffs = \u001b[43mmanual_morlet_transform\u001b[49m\u001b[43m(\u001b[49m\u001b[43mdata\u001b[49m\u001b[43m[\u001b[49m\u001b[43mi\u001b[49m\u001b[43m]\u001b[49m\u001b[43m,\u001b[49m\u001b[43m \u001b[49m\u001b[43mscales\u001b[49m\u001b[43m,\u001b[49m\u001b[43m \u001b[49m\u001b[43mfs\u001b[49m\u001b[43m)\u001b[49m\n\u001b[32m     25\u001b[39m wavelet_energy = \u001b[38;5;28msum\u001b[39m(cp.sum(cp.square(c)).get() \u001b[38;5;28;01mfor\u001b[39;00m c \u001b[38;5;129;01min\u001b[39;00m coeffs)\n\u001b[32m     26\u001b[39m features[\u001b[33mf\u001b[39m\u001b[33m'\u001b[39m\u001b[38;5;132;01m{\u001b[39;00mkey_prefix\u001b[38;5;132;01m}\u001b[39;00m\u001b[33m_wavelet_energy\u001b[39m\u001b[33m'\u001b[39m] = wavelet_energy\n",
      "\u001b[36mCell\u001b[39m\u001b[36m \u001b[39m\u001b[32mIn[3]\u001b[39m\u001b[32m, line 9\u001b[39m, in \u001b[36mmanual_morlet_transform\u001b[39m\u001b[34m(data, scales, fs)\u001b[39m\n\u001b[32m      7\u001b[39m transformed = []\n\u001b[32m      8\u001b[39m \u001b[38;5;28;01mfor\u001b[39;00m scale \u001b[38;5;129;01min\u001b[39;00m scales:\n\u001b[32m----> \u001b[39m\u001b[32m9\u001b[39m     wavelet = \u001b[43mmorlet_wavelet\u001b[49m\u001b[43m(\u001b[49m\u001b[43mt\u001b[49m\u001b[43m \u001b[49m\u001b[43m-\u001b[49m\u001b[43m \u001b[49m\u001b[43mcp\u001b[49m\u001b[43m.\u001b[49m\u001b[43mmean\u001b[49m\u001b[43m(\u001b[49m\u001b[43mt\u001b[49m\u001b[43m)\u001b[49m\u001b[43m,\u001b[49m\u001b[43m \u001b[49m\u001b[43mscale\u001b[49m\u001b[43m)\u001b[49m\n\u001b[32m     10\u001b[39m     wavelet /= cp.linalg.norm(wavelet)  \u001b[38;5;66;03m# Normalize wavelet\u001b[39;00m\n\u001b[32m     11\u001b[39m     convolved = ifft(fft(data) * fft(wavelet)).real\n",
      "\u001b[36mCell\u001b[39m\u001b[36m \u001b[39m\u001b[32mIn[3]\u001b[39m\u001b[32m, line 3\u001b[39m, in \u001b[36mmorlet_wavelet\u001b[39m\u001b[34m(t, f, sigma)\u001b[39m\n\u001b[32m      2\u001b[39m \u001b[38;5;28;01mdef\u001b[39;00m\u001b[38;5;250m \u001b[39m\u001b[34mmorlet_wavelet\u001b[39m(t, f, sigma=\u001b[32m1.0\u001b[39m):\n\u001b[32m----> \u001b[39m\u001b[32m3\u001b[39m     \u001b[38;5;28;01mreturn\u001b[39;00m cp.exp(\u001b[32;43m2\u001b[39;49m\u001b[43mj\u001b[49m\u001b[43m \u001b[49m\u001b[43m*\u001b[49m\u001b[43m \u001b[49m\u001b[43mcp\u001b[49m\u001b[43m.\u001b[49m\u001b[43mpi\u001b[49m\u001b[43m \u001b[49m\u001b[43m*\u001b[49m\u001b[43m \u001b[49m\u001b[43mf\u001b[49m * t) * cp.exp(-t**\u001b[32m2\u001b[39m / (\u001b[32m2\u001b[39m * sigma**\u001b[32m2\u001b[39m))\n",
      "\u001b[36mFile \u001b[39m\u001b[32mcupy/_core/core.pyx:1334\u001b[39m, in \u001b[36mcupy._core.core._ndarray_base.__mul__\u001b[39m\u001b[34m()\u001b[39m\n",
      "\u001b[36mFile \u001b[39m\u001b[32mcupy/_core/_kernel.pyx:1349\u001b[39m, in \u001b[36mcupy._core._kernel.ufunc.__call__\u001b[39m\u001b[34m()\u001b[39m\n",
      "\u001b[36mFile \u001b[39m\u001b[32mcupy/_core/_kernel.pyx:645\u001b[39m, in \u001b[36mcupy._core._kernel._get_out_args_from_optionals\u001b[39m\u001b[34m()\u001b[39m\n",
      "\u001b[36mFile \u001b[39m\u001b[32mcupy/_core/core.pyx:2884\u001b[39m, in \u001b[36mcupy._core.core._ndarray_init\u001b[39m\u001b[34m()\u001b[39m\n",
      "\u001b[36mFile \u001b[39m\u001b[32mcupy/_core/core.pyx:257\u001b[39m, in \u001b[36mcupy._core.core._ndarray_base._init_fast\u001b[39m\u001b[34m()\u001b[39m\n",
      "\u001b[36mFile \u001b[39m\u001b[32mcupy/cuda/memory.pyx:738\u001b[39m, in \u001b[36mcupy.cuda.memory.alloc\u001b[39m\u001b[34m()\u001b[39m\n",
      "\u001b[36mFile \u001b[39m\u001b[32m~/Desktop/Team_4/.venv/lib/python3.12/site-packages/rmm/allocators/cupy.py:39\u001b[39m, in \u001b[36mrmm_cupy_allocator\u001b[39m\u001b[34m(nbytes)\u001b[39m\n\u001b[32m     37\u001b[39m buf = pylibrmm.device_buffer.DeviceBuffer(size=nbytes, stream=stream)\n\u001b[32m     38\u001b[39m dev_id = -\u001b[32m1\u001b[39m \u001b[38;5;28;01mif\u001b[39;00m buf.ptr \u001b[38;5;28;01melse\u001b[39;00m cupy.cuda.device.get_device_id()\n\u001b[32m---> \u001b[39m\u001b[32m39\u001b[39m mem = \u001b[43mcupy\u001b[49m\u001b[43m.\u001b[49m\u001b[43mcuda\u001b[49m\u001b[43m.\u001b[49m\u001b[43mUnownedMemory\u001b[49m\u001b[43m(\u001b[49m\n\u001b[32m     40\u001b[39m \u001b[43m    \u001b[49m\u001b[43mptr\u001b[49m\u001b[43m=\u001b[49m\u001b[43mbuf\u001b[49m\u001b[43m.\u001b[49m\u001b[43mptr\u001b[49m\u001b[43m,\u001b[49m\u001b[43m \u001b[49m\u001b[43msize\u001b[49m\u001b[43m=\u001b[49m\u001b[43mbuf\u001b[49m\u001b[43m.\u001b[49m\u001b[43msize\u001b[49m\u001b[43m,\u001b[49m\u001b[43m \u001b[49m\u001b[43mowner\u001b[49m\u001b[43m=\u001b[49m\u001b[43mbuf\u001b[49m\u001b[43m,\u001b[49m\u001b[43m \u001b[49m\u001b[43mdevice_id\u001b[49m\u001b[43m=\u001b[49m\u001b[43mdev_id\u001b[49m\n\u001b[32m     41\u001b[39m \u001b[43m\u001b[49m\u001b[43m)\u001b[49m\n\u001b[32m     42\u001b[39m ptr = cupy.cuda.memory.MemoryPointer(mem, \u001b[32m0\u001b[39m)\n\u001b[32m     44\u001b[39m \u001b[38;5;28;01mreturn\u001b[39;00m ptr\n",
      "\u001b[31mKeyboardInterrupt\u001b[39m: "
     ]
    }
   ],
   "source": [
    "# Run processing\n",
    "source_folder = \"/home/admincit/Desktop/Team_4/split_fif/healthy\"\n",
    "destination_folder = \"/home/admincit/Desktop/Team_4/split_fif/healthy_processed\"\n",
    "process_folder(source_folder, destination_folder)\n"
   ]
  }
 ],
 "metadata": {
  "kernelspec": {
   "display_name": ".venv",
   "language": "python",
   "name": "python3"
  },
  "language_info": {
   "codemirror_mode": {
    "name": "ipython",
    "version": 3
   },
   "file_extension": ".py",
   "mimetype": "text/x-python",
   "name": "python",
   "nbconvert_exporter": "python",
   "pygments_lexer": "ipython3",
   "version": "3.12.3"
  }
 },
 "nbformat": 4,
 "nbformat_minor": 2
}
