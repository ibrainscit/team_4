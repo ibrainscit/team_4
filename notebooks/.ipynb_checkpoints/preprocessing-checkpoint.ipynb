{
 "cells": [
  {
   "cell_type": "markdown",
   "metadata": {},
   "source": [
    "# Basic Preprocessing"
   ]
  },
  {
   "cell_type": "code",
   "execution_count": 1,
   "metadata": {
    "vscode": {
     "languageId": "plaintext"
    }
   },
   "outputs": [],
   "source": [
    "def preprocess_eeg_data(vhdr_file_path, l_freq=0.1, h_freq=40.0, notch_freq=50):\n",
    "    \"\"\"Preprocess EEG data.\"\"\"\n",
    "    raw = mne.io.read_raw_brainvision(vhdr_file_path, preload=True)\n",
    "    \n",
    "    # Set EOG channels\n",
    "    eog_channels = ['VPVA', 'VNVB', 'HPHL', 'HNHR']\n",
    "    raw.set_channel_types({ch: 'eog' for ch in eog_channels if ch in raw.ch_names})\n",
    "    \n",
    "    # Apply notch filter and bandpass filter\n",
    "    raw.notch_filter(freqs=[notch_freq], picks='eeg')\n",
    "    raw.filter(l_freq=l_freq, h_freq=h_freq, picks='eeg')\n",
    "    \n",
    "    # Set EEG reference to average\n",
    "    # raw.set_eeg_reference('average', projection=True)\n",
    "    \n",
    "    # ICA for artifact removal\n",
    "    ica = mne.preprocessing.ICA(n_components=20, random_state=97, max_iter=800)\n",
    "    ica.fit(raw)\n",
    "    eog_indices, _ = ica.find_bads_eog(raw)\n",
    "    ica.exclude = eog_indices\n",
    "    raw = ica.apply(raw)\n",
    "    \n",
    "    # Drop specific channels after ICA\n",
    "    channels_to_drop = ['Erbs', 'OrbOcc', 'Mass']\n",
    "    raw.drop_channels([ch for ch in channels_to_drop if ch in raw.ch_names])\n",
    "    \n",
    "    return raw\n"
   ]
  },
  {
   "cell_type": "code",
   "execution_count": 2,
   "metadata": {},
   "outputs": [],
   "source": [
    "import mne"
   ]
  }
 ],
 "metadata": {
  "kernelspec": {
   "display_name": "Python (venv)",
   "language": "python",
   "name": ".venv"
  },
  "language_info": {
   "codemirror_mode": {
    "name": "ipython",
    "version": 3
   },
   "file_extension": ".py",
   "mimetype": "text/x-python",
   "name": "python",
   "nbconvert_exporter": "python",
   "pygments_lexer": "ipython3",
   "version": "3.12.3"
  }
 },
 "nbformat": 4,
 "nbformat_minor": 2
}
