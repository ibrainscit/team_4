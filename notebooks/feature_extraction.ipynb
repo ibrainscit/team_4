{
 "cells": [
  {
   "cell_type": "code",
   "execution_count": 4,
   "metadata": {},
   "outputs": [],
   "source": [
    "import joblib\n",
    "import numpy as np \n",
    "import mne\n",
    "import numpy as np\n",
    "from scipy.stats import skew, kurtosis\n",
    "from mne.preprocessing import ICA\n",
    "from mne.time_frequency import psd_array_welch\n",
    "import pandas as pd\n",
    "from scipy.fftpack import fft\n",
    "import pywt  # For wavelet transform"
   ]
  },
  {
   "cell_type": "code",
   "execution_count": null,
   "metadata": {},
   "outputs": [],
   "source": [
    "import numpy as np\n",
    "import pandas as pd\n",
    "import pywt\n",
    "from scipy.stats import skew, kurtosis\n",
    "from scipy.fftpack import fft\n",
    "\n",
    "def extract_channel_features(raw, condition_prefix, fmin=0.5, fmax=50):\n",
    "    # Select only EEG channels\n",
    "    raw.pick_types(eeg=True)\n",
    "    data = raw.get_data()\n",
    "    channel_names = raw.ch_names\n",
    "    features = {}\n",
    "    \n",
    "    # condition_prefix = 'eo' if condition == 'eyes_open' else 'ec'\n",
    "    \n",
    "    # Time-domain features\n",
    "    for i, ch in enumerate(channel_names):\n",
    "        key_prefix = f'{condition_prefix}_{ch.lower()}'\n",
    "        features[f'{key_prefix}_mean'] = np.mean(data[i])\n",
    "        features[f'{key_prefix}_variance'] = np.var(data[i])\n",
    "        features[f'{key_prefix}_skewness'] = skew(data[i])\n",
    "        features[f'{key_prefix}_kurtosis'] = kurtosis(data[i])\n",
    "        features[f'{key_prefix}_peak_to_peak'] = np.ptp(data[i])\n",
    "\n",
    "        # Fourier Transform (FFT)\n",
    "        fft_values = np.abs(fft(data[i]))\n",
    "        features[f'{key_prefix}_fft_mean'] = np.mean(fft_values)\n",
    "        features[f'{key_prefix}_fft_std'] = np.std(fft_values)\n",
    "        features[f'{key_prefix}_fft_max'] = np.max(fft_values)\n",
    "\n",
    "        # Wavelet Transform (DWT) using Daubechies wavelet (db4)\n",
    "        coeffs = pywt.wavedec(data[i], 'db4', level=4)\n",
    "        features[f'{key_prefix}_wavelet_energy'] = sum(np.sum(np.square(c)) for c in coeffs)\n",
    "        \n",
    "        wavelet_entropy = 0\n",
    "        for c in coeffs:\n",
    "            c = c[np.isfinite(c)]\n",
    "            c_norm = c / (np.sum(np.abs(c)) + 1e-10)\n",
    "            wavelet_entropy += -np.sum(c_norm * np.log2(c_norm + 1e-10))\n",
    "        features[f'{key_prefix}_wavelet_entropy'] = wavelet_entropy\n",
    "    \n",
    "    # Frequency-domain features using PSD\n",
    "    psd = raw.compute_psd(method='welch', fmin=fmin, fmax=fmax, n_fft=2048)\n",
    "    psd_data = psd.get_data()\n",
    "    freqs = psd.freqs\n",
    "    psd_df = pd.DataFrame(psd_data, columns=freqs, index=channel_names)\n",
    "\n",
    "    bands = {'delta': (0.5, 4), 'theta': (4, 8), 'slow_alpha': (6, 9), 'alpha': (8, 12),\n",
    "             'beta': (12, 30), 'gamma': (30, 50)}\n",
    "\n",
    "    for band, (low, high) in bands.items():\n",
    "        band_power = psd_df.loc[:, (freqs >= low) & (freqs <= high)].mean(axis=1)\n",
    "        for ch in channel_names:\n",
    "            key_prefix = f'{condition_prefix}_{ch.lower()}'\n",
    "            features[f'{key_prefix}_{band}_power'] = band_power[ch]\n",
    "\n",
    "    # Frontal Alpha Asymmetry (F3-F4)\n",
    "    if 'F3' in channel_names and 'F4' in channel_names:\n",
    "        features[f'{condition_prefix}_f3_f4_alpha_asymmetry'] = features[f'{condition_prefix}_f4_alpha_power'] - features[f'{condition_prefix}_f3_alpha_power']\n",
    "\n",
    "    # Convert features to DataFrame\n",
    "    features_df = pd.DataFrame([features])\n",
    "\n",
    "    return features_df\n"
   ]
  },
  {
   "cell_type": "code",
   "execution_count": null,
   "metadata": {},
   "outputs": [],
   "source": []
  },
  {
   "cell_type": "code",
   "execution_count": 29,
   "metadata": {},
   "outputs": [],
   "source": [
    "def process_and_combine(eo_file_path, ec_file_path, output_file):\n",
    "    all_features = []\n",
    "\n",
    "    # Process EO file\n",
    "    raw_eo = mne.io.read_raw_fif(eo_file_path)\n",
    "    features_eo = extract_channel_features(raw_eo,\"eo\")\n",
    "    #features_eo['condition'] = 'EO'\n",
    "    all_features.append(features_eo)\n",
    "\n",
    "    # Process EC file\n",
    "    raw_ec = mne.io.read_raw_fif(ec_file_path)\n",
    "    features_ec = extract_channel_features(raw_ec,\"ec\")\n",
    "    #features_ec['condition'] = 'EC'\n",
    "    all_features.append(features_ec)\n",
    "\n",
    "    # Combine EO and EC features\n",
    "    combined_features = pd.concat(all_features)\n",
    "    \n",
    "    # Save combined features to a single CSV file\n",
    "    combined_features.to_csv(output_file,index=False)\n",
    "    print(f\"Features successfully saved to {output_file}\")\n",
    "    # return combined_features"
   ]
  },
  {
   "cell_type": "code",
   "execution_count": 30,
   "metadata": {},
   "outputs": [
    {
     "name": "stdout",
     "output_type": "stream",
     "text": [
      "Opening raw data file /home/admincit/Desktop/Team_4/split_fif/mdd/sub-88000489_ses-1_task-restEC_eeg_1.fif...\n",
      "Isotrak not found\n",
      "    Read a total of 1 projection items:\n",
      "        Average EEG reference (1 x 29)  idle\n",
      "    Range : 0 ... 29999 =      0.000 ...    59.998 secs\n",
      "Ready.\n",
      "NOTE: pick_types() is a legacy function. New code should use inst.pick(...).\n",
      "Effective window size : 4.096 (s)\n",
      "Opening raw data file /home/admincit/Desktop/Team_4/split_fif/mdd/sub-88000489_ses-1_task-restEO_eeg_1.fif...\n",
      "Isotrak not found\n",
      "    Read a total of 1 projection items:\n",
      "        Average EEG reference (1 x 29)  idle\n",
      "    Range : 0 ... 29999 =      0.000 ...    59.998 secs\n",
      "Ready.\n",
      "NOTE: pick_types() is a legacy function. New code should use inst.pick(...).\n"
     ]
    },
    {
     "name": "stderr",
     "output_type": "stream",
     "text": [
      "/tmp/ipykernel_2035484/4123376840.py:5: RuntimeWarning: This filename (/home/admincit/Desktop/Team_4/split_fif/mdd/sub-88000489_ses-1_task-restEC_eeg_1.fif) does not conform to MNE naming conventions. All raw files should end with raw.fif, raw_sss.fif, raw_tsss.fif, _meg.fif, _eeg.fif, _ieeg.fif, raw.fif.gz, raw_sss.fif.gz, raw_tsss.fif.gz, _meg.fif.gz, _eeg.fif.gz or _ieeg.fif.gz\n",
      "  raw_eo = mne.io.read_raw_fif(eo_file_path)\n",
      "/tmp/ipykernel_2035484/1001120340.py:39: RuntimeWarning: invalid value encountered in log2\n",
      "  wavelet_entropy += -np.sum(c_norm * np.log2(c_norm + 1e-10))\n",
      "/tmp/ipykernel_2035484/4123376840.py:11: RuntimeWarning: This filename (/home/admincit/Desktop/Team_4/split_fif/mdd/sub-88000489_ses-1_task-restEO_eeg_1.fif) does not conform to MNE naming conventions. All raw files should end with raw.fif, raw_sss.fif, raw_tsss.fif, _meg.fif, _eeg.fif, _ieeg.fif, raw.fif.gz, raw_sss.fif.gz, raw_tsss.fif.gz, _meg.fif.gz, _eeg.fif.gz or _ieeg.fif.gz\n",
      "  raw_ec = mne.io.read_raw_fif(ec_file_path)\n",
      "/tmp/ipykernel_2035484/1001120340.py:39: RuntimeWarning: invalid value encountered in log2\n",
      "  wavelet_entropy += -np.sum(c_norm * np.log2(c_norm + 1e-10))\n"
     ]
    },
    {
     "name": "stdout",
     "output_type": "stream",
     "text": [
      "Effective window size : 4.096 (s)\n",
      "Features successfully saved to preprocessed.csv\n"
     ]
    }
   ],
   "source": [
    "process_and_combine(\"/home/admincit/Desktop/Team_4/split_fif/mdd/sub-88000489_ses-1_task-restEC_eeg_1.fif\",\"/home/admincit/Desktop/Team_4/split_fif/mdd/sub-88000489_ses-1_task-restEO_eeg_1.fif\",\"preprocessed.csv\")"
   ]
  },
  {
   "cell_type": "code",
   "execution_count": null,
   "metadata": {},
   "outputs": [],
   "source": []
  },
  {
   "cell_type": "code",
   "execution_count": null,
   "metadata": {},
   "outputs": [],
   "source": [
    "split_fif/mdd"
   ]
  }
 ],
 "metadata": {
  "kernelspec": {
   "display_name": ".venv",
   "language": "python",
   "name": "python3"
  },
  "language_info": {
   "codemirror_mode": {
    "name": "ipython",
    "version": 3
   },
   "file_extension": ".py",
   "mimetype": "text/x-python",
   "name": "python",
   "nbconvert_exporter": "python",
   "pygments_lexer": "ipython3",
   "version": "3.12.3"
  }
 },
 "nbformat": 4,
 "nbformat_minor": 2
}
