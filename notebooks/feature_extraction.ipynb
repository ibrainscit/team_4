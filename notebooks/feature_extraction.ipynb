{
 "cells": [
  {
   "cell_type": "code",
   "execution_count": 2,
   "metadata": {},
   "outputs": [],
   "source": [
    "import joblib\n",
    "import numpy as np \n",
    "import mne\n",
    "import numpy as np\n",
    "from scipy.stats import skew, kurtosis\n",
    "from mne.preprocessing import ICA\n",
    "from mne.time_frequency import psd_array_welch\n",
    "import pandas as pd\n",
    "from scipy.fftpack import fft\n",
    "import pywt  # For wavelet transform"
   ]
  },
  {
   "cell_type": "code",
   "execution_count": 14,
   "metadata": {},
   "outputs": [],
   "source": [
    "import numpy as np\n",
    "import pandas as pd\n",
    "import pywt\n",
    "from scipy.stats import skew, kurtosis\n",
    "from scipy.fftpack import fft\n",
    "\n",
    "def extract_channel_features(raw, condition, fmin=0.5, fmax=50):\n",
    "    # Select only EEG channels\n",
    "    raw.pick('eeg')\n",
    "    data = raw.get_data()\n",
    "    channel_names = raw.ch_names\n",
    "    features = {}  # Store condition as 0 for EO, 1 for EC\n",
    "    \n",
    "    # condition_prefix = 'eo' if condition == 0 else 'ec'\n",
    "    \n",
    "    # Time-domain features\n",
    "    for i, ch in enumerate(channel_names):\n",
    "        key_prefix = f'{condition}_{ch.lower()}'\n",
    "        features[f'{key_prefix}_mean'] = np.mean(data[i])\n",
    "        features[f'{key_prefix}_variance'] = np.var(data[i])\n",
    "        features[f'{key_prefix}_skewness'] = skew(data[i])\n",
    "        features[f'{key_prefix}_kurtosis'] = kurtosis(data[i])\n",
    "        features[f'{key_prefix}_peak_to_peak'] = np.ptp(data[i])\n",
    "\n",
    "        # Fourier Transform (FFT)\n",
    "        fft_values = np.abs(fft(data[i]))\n",
    "        features[f'{key_prefix}_fft_mean'] = np.mean(fft_values)\n",
    "        features[f'{key_prefix}_fft_std'] = np.std(fft_values)\n",
    "        features[f'{key_prefix}_fft_max'] = np.max(fft_values)\n",
    "\n",
    "        # Wavelet Transform (DWT) using Daubechies wavelet (db4)\n",
    "        coeffs = pywt.wavedec(data[i], 'db4', level=4)\n",
    "        features[f'{key_prefix}_wavelet_energy'] = sum(np.sum(np.square(c)) for c in coeffs)\n",
    "        \n",
    "        wavelet_entropy = 0\n",
    "        for c in coeffs:\n",
    "            c = c[np.isfinite(c)]\n",
    "            c_norm = c / (np.sum(np.abs(c)) + 1e-10)\n",
    "\n",
    "            c_norm = c[c > 0]  # Remove zero or negative values to avoid log errors\n",
    "            if len(c_norm) > 0:\n",
    "                wavelet_entropy += -np.sum(c_norm * np.log2(c_norm))\n",
    "            else:\n",
    "                wavelet_entropy += 0  # If empty, set entropy to 0\n",
    "        features[f'{key_prefix}_wavelet_entropy'] = wavelet_entropy\n",
    "    \n",
    "    # Frequency-domain features using PSD\n",
    "    psd = raw.compute_psd(method='welch', fmin=fmin, fmax=fmax, n_fft=2048)\n",
    "    psd_data = psd.get_data()\n",
    "    freqs = psd.freqs\n",
    "    psd_df = pd.DataFrame(psd_data, columns=freqs, index=channel_names)\n",
    "\n",
    "    bands = {'delta': (0.5, 4), 'theta': (4, 8), 'slow_alpha': (6, 9), 'alpha': (8, 12),\n",
    "             'beta': (12, 30), 'gamma': (30, 50)}\n",
    "\n",
    "    for band, (low, high) in bands.items():\n",
    "        band_power = psd_df.loc[:, (freqs >= low) & (freqs <= high)].mean(axis=1)\n",
    "        for ch in channel_names:\n",
    "            key_prefix = f'{condition}_{ch.lower()}'\n",
    "            features[f'{key_prefix}_{band}_power'] = band_power[ch]\n",
    "\n",
    "    # Frontal Alpha Asymmetry (F3-F4)\n",
    "    if 'F3' in channel_names and 'F4' in channel_names:\n",
    "        features[f'{condition}f3_f4_alpha_asymmetry'] = features[f'{condition}_f4_alpha_power'] - features[f'{condition}_f3_alpha_power']\n",
    "\n",
    "    # Convert features to DataFrame\n",
    "    features_df = pd.DataFrame([features])\n",
    "\n",
    "    return features_df\n"
   ]
  },
  {
   "cell_type": "code",
   "execution_count": null,
   "metadata": {},
   "outputs": [],
   "source": []
  },
  {
   "cell_type": "code",
   "execution_count": 15,
   "metadata": {},
   "outputs": [],
   "source": [
    "def process_and_combine(eo_file_path, ec_file_path, output_file):\n",
    "    all_features = []\n",
    "\n",
    "    # Process EO file\n",
    "    raw_eo = mne.io.read_raw_fif(eo_file_path)\n",
    "    features_eo = extract_channel_features(raw_eo,\"ec\")\n",
    "    #features_eo['condition'] = 'EO'\n",
    "    all_features.append(features_eo)\n",
    "\n",
    "    # Process EC file\n",
    "    raw_ec = mne.io.read_raw_fif(ec_file_path)\n",
    "    features_ec = extract_channel_features(raw_ec,\"eo\")\n",
    "    #features_ec['condition'] = 'EC'\n",
    "    all_features.append(features_ec)\n",
    "\n",
    "    # Combine EO and EC features\n",
    "    import os\n",
    "    combined_features = pd.concat(all_features,axis=1)\n",
    "    # out_path = (out_dir,output_file)\n",
    "    # Save combined features to a single CSV file\n",
    "    combined_features.to_csv(output_file,index=False)\n",
    "    print(f\"Features successfully saved to {output_file}\")\n",
    "    # return combined_features"
   ]
  },
  {
   "cell_type": "markdown",
   "metadata": {},
   "source": [
    "# single file usage"
   ]
  },
  {
   "cell_type": "code",
   "execution_count": 16,
   "metadata": {},
   "outputs": [
    {
     "name": "stdout",
     "output_type": "stream",
     "text": [
      "Opening raw data file /home/admincit/Desktop/Team_4/split_fif/mdd/sub-88000489_ses-1_task-restEC_eeg_1.fif...\n",
      "Isotrak not found\n",
      "    Read a total of 1 projection items:\n",
      "        Average EEG reference (1 x 29)  idle\n",
      "    Range : 0 ... 29999 =      0.000 ...    59.998 secs\n",
      "Ready.\n",
      "Effective window size : 4.096 (s)\n",
      "Opening raw data file /home/admincit/Desktop/Team_4/split_fif/mdd/sub-88000489_ses-1_task-restEO_eeg_1.fif...\n",
      "Isotrak not found\n",
      "    Read a total of 1 projection items:\n",
      "        Average EEG reference (1 x 29)  idle\n",
      "    Range : 0 ... 29999 =      0.000 ...    59.998 secs\n",
      "Ready.\n"
     ]
    },
    {
     "name": "stderr",
     "output_type": "stream",
     "text": [
      "/tmp/ipykernel_2210216/113133525.py:5: RuntimeWarning: This filename (/home/admincit/Desktop/Team_4/split_fif/mdd/sub-88000489_ses-1_task-restEC_eeg_1.fif) does not conform to MNE naming conventions. All raw files should end with raw.fif, raw_sss.fif, raw_tsss.fif, _meg.fif, _eeg.fif, _ieeg.fif, raw.fif.gz, raw_sss.fif.gz, raw_tsss.fif.gz, _meg.fif.gz, _eeg.fif.gz or _ieeg.fif.gz\n",
      "  raw_eo = mne.io.read_raw_fif(eo_file_path)\n",
      "/tmp/ipykernel_2210216/113133525.py:11: RuntimeWarning: This filename (/home/admincit/Desktop/Team_4/split_fif/mdd/sub-88000489_ses-1_task-restEO_eeg_1.fif) does not conform to MNE naming conventions. All raw files should end with raw.fif, raw_sss.fif, raw_tsss.fif, _meg.fif, _eeg.fif, _ieeg.fif, raw.fif.gz, raw_sss.fif.gz, raw_tsss.fif.gz, _meg.fif.gz, _eeg.fif.gz or _ieeg.fif.gz\n",
      "  raw_ec = mne.io.read_raw_fif(ec_file_path)\n"
     ]
    },
    {
     "name": "stdout",
     "output_type": "stream",
     "text": [
      "Effective window size : 4.096 (s)\n",
      "Features successfully saved to preprocessed.csv\n"
     ]
    }
   ],
   "source": [
    "process_and_combine(\"/home/admincit/Desktop/Team_4/split_fif/mdd/sub-88000489_ses-1_task-restEC_eeg_1.fif\",\"/home/admincit/Desktop/Team_4/split_fif/mdd/sub-88000489_ses-1_task-restEO_eeg_1.fif\",\"preprocessed.csv\")"
   ]
  },
  {
   "cell_type": "markdown",
   "metadata": {},
   "source": [
    "# Function To process Folder"
   ]
  },
  {
   "cell_type": "code",
   "execution_count": null,
   "metadata": {},
   "outputs": [],
   "source": [
    "import os\n",
    "\n",
    "def process_folder(source_folder, destination_folder):\n",
    "    \"\"\"\n",
    "    Processes all pairs of EO and EC files in the source folder and saves the combined features to CSV files in the destination folder.\n",
    "\n",
    "    Args:\n",
    "        source_folder (str): Path to the folder containing EEG files.\n",
    "        destination_folder (str): Path to the folder where CSV files will be saved.\n",
    "    \"\"\"\n",
    "    if not os.path.exists(destination_folder):\n",
    "        os.makedirs(destination_folder)\n",
    "\n",
    "    files = os.listdir(source_folder)\n",
    "    \n",
    "    # Collecting EC and EO files\n",
    "    ec_files = sorted([f for f in files if \"restEC_eeg_1.fif\" in f])\n",
    "    eo_files = sorted([f for f in files if \"restEO_eeg_1.fif\" in f])\n",
    "\n",
    "    for ec_file in ec_files:\n",
    "        base_name = ec_file.replace(\"restEC_eeg_1.fif\", \"\")\n",
    "        eo_file = base_name + \"restEO_eeg_1.fif\"\n",
    "\n",
    "        if eo_file in eo_files:\n",
    "            ec_path = os.path.join(source_folder, ec_file)\n",
    "            eo_path = os.path.join(source_folder, eo_file)\n",
    "            output_path = os.path.join(destination_folder, base_name + \"restcombined_eeg_1.csv\")\n",
    "\n",
    "            process_and_combine(ec_path, eo_path, output_path)\n",
    "        else:\n",
    "            print(f\"Warning: No matching EO file found for {ec_file}\")\n",
    "\n"
   ]
  },
  {
   "cell_type": "code",
   "execution_count": null,
   "metadata": {},
   "outputs": [],
   "source": [
    "source_folder = \"/home/admincit/Desktop/Team_4/split_fif/mdd\"\n",
    "destination_folder = \"/home/admincit/Desktop/Team_4/split_fif/mdd_processed\"\n",
    "process_folder(source_folder, destination_folder)"
   ]
  },
  {
   "cell_type": "code",
   "execution_count": null,
   "metadata": {},
   "outputs": [],
   "source": []
  },
  {
   "cell_type": "code",
   "execution_count": null,
   "metadata": {},
   "outputs": [],
   "source": []
  },
  {
   "cell_type": "code",
   "execution_count": null,
   "metadata": {},
   "outputs": [],
   "source": []
  }
 ],
 "metadata": {
  "kernelspec": {
   "display_name": ".venv",
   "language": "python",
   "name": "python3"
  },
  "language_info": {
   "codemirror_mode": {
    "name": "ipython",
    "version": 3
   },
   "file_extension": ".py",
   "mimetype": "text/x-python",
   "name": "python",
   "nbconvert_exporter": "python",
   "pygments_lexer": "ipython3",
   "version": "3.12.3"
  }
 },
 "nbformat": 4,
 "nbformat_minor": 2
}
