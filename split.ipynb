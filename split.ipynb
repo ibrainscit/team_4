{
 "cells": [
  {
   "cell_type": "code",
   "execution_count": 2,
   "metadata": {},
   "outputs": [],
   "source": [
    "import joblib\n",
    "import numpy as np \n",
    "import mne\n",
    "import numpy as np\n",
    "from scipy.stats import skew, kurtosis\n",
    "from mne.preprocessing import ICA\n",
    "from mne.time_frequency import psd_array_welch\n",
    "import pandas as pd\n",
    "from scipy.fftpack import fft\n",
    "import pywt  # For wavelet transform\n",
    "import os"
   ]
  },
  {
   "cell_type": "code",
   "execution_count": 3,
   "metadata": {},
   "outputs": [],
   "source": [
    "def preprocess_eeg_data(vhdr_file_path, l_freq=1.0, h_freq=40.0, notch_freq=50):\n",
    "    \"\"\"Preprocess EEG data.\"\"\"\n",
    "    raw = mne.io.read_raw_brainvision(vhdr_file_path, preload=True)\n",
    "    eog_channels = ['VPVA', 'VNVB', 'HPHL', 'HNHR']\n",
    "    raw.set_channel_types({ch: 'eog' for ch in eog_channels if ch in raw.ch_names})\n",
    "    raw.notch_filter(freqs=[notch_freq], picks='eeg')\n",
    "    raw.filter(l_freq=l_freq, h_freq=h_freq, picks='eeg')\n",
    "    raw.set_eeg_reference('average', projection=True)\n",
    "    \n",
    "    # ICA for artifact removal\n",
    "    ica = mne.preprocessing.ICA(n_components=20, random_state=97, max_iter=800)\n",
    "    ica.fit(raw)\n",
    "    eog_indices, _ = ica.find_bads_eog(raw)\n",
    "    ica.exclude = eog_indices\n",
    "    raw = ica.apply(raw)\n",
    "    return raw"
   ]
  },
  {
   "cell_type": "code",
   "execution_count": 4,
   "metadata": {},
   "outputs": [],
   "source": [
    "def slice_and_save_eeg(vhdr_file_path, slice_duration=60, output_dir=\"split_fif/mdd\"):\n",
    "    \"\"\"Preprocess, slice, and save EEG data into 60-second segments.\"\"\"\n",
    "    \n",
    "    # Extract the base name for saving\n",
    "    base_name = os.path.splitext(os.path.basename(vhdr_file_path))[0]\n",
    "    \n",
    "    # Perform preprocessing\n",
    "    raw = preprocess_eeg_data(vhdr_file_path)\n",
    "    \n",
    "    # Calculate the number of samples per slice\n",
    "    samples_per_slice = int(slice_duration * raw.info['sfreq'])\n",
    "    \n",
    "    # Calculate the number of slices\n",
    "    num_slices = int(len(raw) / samples_per_slice)\n",
    "    \n",
    "    # Slice and save\n",
    "    for i in range(num_slices):\n",
    "        start_sample = i * samples_per_slice\n",
    "        end_sample = (i + 1) * samples_per_slice\n",
    "        \n",
    "        # Create a new raw object for the slice\n",
    "        sliced_raw = raw.copy().crop(tmin=start_sample / raw.info['sfreq'], tmax=end_sample / raw.info['sfreq'], include_tmax=False)\n",
    "        \n",
    "        # Construct the filename for the slice\n",
    "        slice_filename = f\"{base_name}_{i + 1}.fif\"\n",
    "        \n",
    "        # Save the slice in the output directory\n",
    "        slice_output_path = os.path.join(output_dir, slice_filename)\n",
    "        sliced_raw.save(slice_output_path, overwrite=True)\n",
    "        print(f\"Slice {i + 1} saved as: {slice_output_path}\")\n",
    "\n",
    "    # Handle the remaining data (if any)\n",
    "    remaining_samples = len(raw) - (num_slices * samples_per_slice)\n",
    "    if remaining_samples > 0:\n",
    "        start_sample = num_slices * samples_per_slice\n",
    "        remaining_raw = raw.copy().crop(tmin=start_sample / raw.info['sfreq'])\n",
    "        remaining_filename = f\"{base_name}_2.fif\"\n",
    "        # Save the remaining data in the output directory\n",
    "        remaining_output_path = os.path.join(output_dir, remaining_filename)\n",
    "        remaining_raw.save(remaining_output_path, overwrite=True)\n",
    "        print(f\"Remaining data saved as: {remaining_output_path}\")"
   ]
  },
  {
   "cell_type": "code",
   "execution_count": null,
   "metadata": {},
   "outputs": [],
   "source": [
    "slice_and_save_eeg(\"dataset_s/mdd/sub-88000489/ses-1/eeg/sub-88000489_ses-1_task-restEC_eeg.vhdr\")"
   ]
  },
  {
   "cell_type": "code",
   "execution_count": null,
   "metadata": {},
   "outputs": [],
   "source": []
  },
  {
   "cell_type": "code",
   "execution_count": null,
   "metadata": {},
   "outputs": [
    {
     "name": "stdout",
     "output_type": "stream",
     "text": [
      "['sub-88025641', 'sub-88066325', 'sub-88035677', 'sub-88057769', 'sub-88045353', 'sub-88068665', 'sub-88021321', 'sub-88020557', 'sub-88045713', 'sub-88035501', 'sub-88072265', 'sub-88025685', 'sub-88020873', 'sub-88048325', 'sub-88071949', 'sub-88030641', 'sub-88068885', 'sub-88032973', 'sub-88021277', 'sub-88018937', 'sub-88046437', 'sub-88005937', 'sub-88073797', 'sub-88070285', 'sub-88044681', 'sub-88046841', 'sub-88038069', 'sub-88049813', 'sub-88026233', 'sub-88073433', 'sub-88010709', 'sub-88065197', 'sub-88018989', 'sub-88022001', 'sub-88021101', 'sub-88000533', 'sub-88044501', 'sub-88067225', 'sub-88028253', 'sub-88069737', 'sub-88030281', 'sub-88025061', 'sub-88062997', 'sub-88072081', 'sub-88008681', 'sub-88029833', 'sub-88029789', 'sub-88025597', 'sub-88047517', 'sub-88047245', 'sub-88010753', 'sub-88075769', 'sub-88061961', 'sub-88017821', 'sub-88064565', 'sub-88024833', 'sub-88056785', 'sub-88000489', 'sub-88001661', 'sub-88024697', 'sub-88025281', 'sub-88039773', 'sub-88027129', 'sub-88075457', 'sub-88045809', 'sub-88015477', 'sub-88049405', 'sub-88052013', 'sub-88050713', 'sub-88017137', 'sub-88067177']\n"
     ]
    }
   ],
   "source": [
    "import os\n",
    "\n",
    "def process_dir(source_dir,output_dir):\n",
    "    dirs=os.listdir(source_dir)\n",
    "    for dir in dirs:\n",
    "        \n",
    "        fif_path = f\"{dir}/ses-1/eeg/\"\n",
    "\n",
    "process_dir(\"dataset_s/mdd\",\"dataset_s/mdd1\")"
   ]
  }
 ],
 "metadata": {
  "kernelspec": {
   "display_name": ".venv",
   "language": "python",
   "name": "python3"
  },
  "language_info": {
   "codemirror_mode": {
    "name": "ipython",
    "version": 3
   },
   "file_extension": ".py",
   "mimetype": "text/x-python",
   "name": "python",
   "nbconvert_exporter": "python",
   "pygments_lexer": "ipython3",
   "version": "3.12.3"
  }
 },
 "nbformat": 4,
 "nbformat_minor": 2
}
